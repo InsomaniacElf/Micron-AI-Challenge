{
  "cells": [
    {
      "cell_type": "code",
      "execution_count": null,
      "metadata": {
        "colab": {
          "base_uri": "https://localhost:8080/"
        },
        "id": "KE-jHLM3ykNN",
        "outputId": "439f7e88-4a38-4489-9bc7-f90f6b3787bf"
      },
      "outputs": [],
      "source": [
        "%pip install pyarrow pandas"
      ]
    },
    {
      "cell_type": "code",
      "execution_count": null,
      "metadata": {},
      "outputs": [],
      "source": [
        "%pip install lightgbm"
      ]
    },
    {
      "cell_type": "code",
      "execution_count": null,
      "metadata": {},
      "outputs": [],
      "source": [
        "%pip install xgboost"
      ]
    },
    {
      "cell_type": "code",
      "execution_count": null,
      "metadata": {},
      "outputs": [],
      "source": [
        "%pip install catboost"
      ]
    },
    {
      "cell_type": "code",
      "execution_count": 59,
      "metadata": {
        "id": "XJsYYrbYu41f"
      },
      "outputs": [],
      "source": [
        "import pandas as pd\n",
        "import numpy as np\n",
        "from sklearn.model_selection import train_test_split, GridSearchCV\n",
        "from sklearn.metrics import mean_squared_error\n",
        "from sklearn.metrics import mean_absolute_error\n",
        "import glob\n",
        "import matplotlib.pyplot as plt\n",
        "import matplotlib.tri as tri\n",
        "import seaborn as sns\n",
        "\n",
        "import lightgbm as lgb\n",
        "from sklearn.ensemble import RandomForestClassifier, RandomForestRegressor\n",
        "from sklearn.linear_model import LinearRegression\n",
        "import xgboost as xgb\n",
        "import catboost\n",
        "from catboost import CatBoostRegressor"
      ]
    },
    {
      "cell_type": "code",
      "execution_count": 2,
      "metadata": {
        "colab": {
          "base_uri": "https://localhost:8080/"
        },
        "id": "11D41IKEyAVW",
        "outputId": "6c267d95-082f-47c4-a2a5-39067ee0473f"
      },
      "outputs": [
        {
          "name": "stdout",
          "output_type": "stream",
          "text": [
            "Current working directory: c:\\Users\\felic\\OneDrive\\MicronDataChallenge\n"
          ]
        }
      ],
      "source": [
        "import os\n",
        "current_dir = os.getcwd()\n",
        "print(f\"Current working directory: {current_dir}\")"
      ]
    },
    {
      "cell_type": "code",
      "execution_count": null,
      "metadata": {},
      "outputs": [],
      "source": [
        "# # List all Parquet files in a directory\n",
        "# file_list = glob.glob(\"./train/metrology_data*.parquet\")\n",
        "\n",
        "# # Read and concatenate all Parquet files\n",
        "# meas_df = pd.concat([pd.read_parquet(file) for file in file_list])\n",
        "\n",
        "# # Save to a new Parquet file\n",
        "# meas_df.to_parquet(\"meas_combined.parquet\", index=False)"
      ]
    },
    {
      "cell_type": "code",
      "execution_count": null,
      "metadata": {},
      "outputs": [],
      "source": [
        "# # List all Parquet files in a directory\n",
        "# file_list = glob.glob(\"./train/run_data_*.parquet\")\n",
        "\n",
        "# # Read and concatenate all Parquet files\n",
        "# run_df = pd.concat([pd.read_parquet(file) for file in file_list])\n",
        "\n",
        "# # Save to a new Parquet file\n",
        "# run_df.to_parquet(\"run_combined.parquet\", index=False)"
      ]
    },
    {
      "cell_type": "code",
      "execution_count": null,
      "metadata": {},
      "outputs": [],
      "source": [
        "# # List all Parquet files in a directory\n",
        "# file_list = glob.glob(\"./train/incoming_run_data_*.parquet\")\n",
        "\n",
        "# # Read and concatenate all Parquet files\n",
        "# incom_df = pd.concat([pd.read_parquet(file) for file in file_list])\n",
        "\n",
        "# # Save to a new Parquet file\n",
        "# incom_df.to_parquet(\"incom_run_combined.parquet\", index=False)"
      ]
    },
    {
      "cell_type": "code",
      "execution_count": 130,
      "metadata": {
        "id": "baGLur7tykSr"
      },
      "outputs": [],
      "source": [
        "meas_df      = pd.read_parquet(\"meas_combined.parquet\")"
      ]
    },
    {
      "cell_type": "code",
      "execution_count": 4,
      "metadata": {
        "id": "OJ8F_TZRykVR"
      },
      "outputs": [],
      "source": [
        "incom_run_df  = pd.read_parquet(\"incom_run_combined.parquet\")"
      ]
    },
    {
      "cell_type": "code",
      "execution_count": 5,
      "metadata": {
        "id": "p7BncmkPwWxc"
      },
      "outputs": [],
      "source": [
        "run_df       = pd.read_parquet(\"run_combined.parquet\")"
      ]
    },
    {
      "cell_type": "markdown",
      "metadata": {},
      "source": [
        "# Exploratory Data Analysis\n",
        "\n",
        "Gathering data on run_df, incoming_df and meas_df"
      ]
    },
    {
      "cell_type": "code",
      "execution_count": 6,
      "metadata": {},
      "outputs": [],
      "source": [
        "df1 = run_df\n",
        "df2 = incom_run_df\n",
        "df3 = meas_df"
      ]
    },
    {
      "cell_type": "code",
      "execution_count": null,
      "metadata": {
        "colab": {
          "base_uri": "https://localhost:8080/",
          "height": 327
        },
        "id": "q22qvmXszGsE",
        "outputId": "3f904413-819f-44b9-dcf8-66e5740b71c2"
      },
      "outputs": [
        {
          "data": {
            "text/html": [
              "<div>\n",
              "<style scoped>\n",
              "    .dataframe tbody tr th:only-of-type {\n",
              "        vertical-align: middle;\n",
              "    }\n",
              "\n",
              "    .dataframe tbody tr th {\n",
              "        vertical-align: top;\n",
              "    }\n",
              "\n",
              "    .dataframe thead th {\n",
              "        text-align: right;\n",
              "    }\n",
              "</style>\n",
              "<table border=\"1\" class=\"dataframe\">\n",
              "  <thead>\n",
              "    <tr style=\"text-align: right;\">\n",
              "      <th></th>\n",
              "      <th>Tool ID</th>\n",
              "      <th>Run Start Time</th>\n",
              "      <th>Run End Time</th>\n",
              "      <th>Run ID</th>\n",
              "      <th>Process Step</th>\n",
              "      <th>Consumable Life</th>\n",
              "      <th>Step ID</th>\n",
              "      <th>Time Stamp</th>\n",
              "      <th>Sensor Name</th>\n",
              "      <th>Sensor Value</th>\n",
              "    </tr>\n",
              "  </thead>\n",
              "  <tbody>\n",
              "    <tr>\n",
              "      <th>0</th>\n",
              "      <td>8060e8e1-504a-5138-a9f0-e2770bd61ba1</td>\n",
              "      <td>2024-01-01</td>\n",
              "      <td>2024-01-01 00:12:35</td>\n",
              "      <td>6515456b-05d4-5e6d-b42a-7652a8d671a4</td>\n",
              "      <td>22c8716b-1c14-525a-8c0a-0473ec7aa99e</td>\n",
              "      <td>370.7229</td>\n",
              "      <td>Step_0</td>\n",
              "      <td>2024-01-01 00:00:00.000000000</td>\n",
              "      <td>Sensor_A</td>\n",
              "      <td>-0.061105</td>\n",
              "    </tr>\n",
              "    <tr>\n",
              "      <th>1</th>\n",
              "      <td>8060e8e1-504a-5138-a9f0-e2770bd61ba1</td>\n",
              "      <td>2024-01-01</td>\n",
              "      <td>2024-01-01 00:12:35</td>\n",
              "      <td>6515456b-05d4-5e6d-b42a-7652a8d671a4</td>\n",
              "      <td>22c8716b-1c14-525a-8c0a-0473ec7aa99e</td>\n",
              "      <td>370.7229</td>\n",
              "      <td>Step_0</td>\n",
              "      <td>2024-01-01 00:00:01.000000002</td>\n",
              "      <td>Sensor_A</td>\n",
              "      <td>-0.040894</td>\n",
              "    </tr>\n",
              "    <tr>\n",
              "      <th>2</th>\n",
              "      <td>8060e8e1-504a-5138-a9f0-e2770bd61ba1</td>\n",
              "      <td>2024-01-01</td>\n",
              "      <td>2024-01-01 00:12:35</td>\n",
              "      <td>6515456b-05d4-5e6d-b42a-7652a8d671a4</td>\n",
              "      <td>22c8716b-1c14-525a-8c0a-0473ec7aa99e</td>\n",
              "      <td>370.7229</td>\n",
              "      <td>Step_0</td>\n",
              "      <td>2024-01-01 00:00:01.999999997</td>\n",
              "      <td>Sensor_A</td>\n",
              "      <td>0.005357</td>\n",
              "    </tr>\n",
              "    <tr>\n",
              "      <th>3</th>\n",
              "      <td>8060e8e1-504a-5138-a9f0-e2770bd61ba1</td>\n",
              "      <td>2024-01-01</td>\n",
              "      <td>2024-01-01 00:12:35</td>\n",
              "      <td>6515456b-05d4-5e6d-b42a-7652a8d671a4</td>\n",
              "      <td>22c8716b-1c14-525a-8c0a-0473ec7aa99e</td>\n",
              "      <td>370.7229</td>\n",
              "      <td>Step_1</td>\n",
              "      <td>2024-01-01 00:00:03.000000000</td>\n",
              "      <td>Sensor_A</td>\n",
              "      <td>-0.029941</td>\n",
              "    </tr>\n",
              "    <tr>\n",
              "      <th>4</th>\n",
              "      <td>8060e8e1-504a-5138-a9f0-e2770bd61ba1</td>\n",
              "      <td>2024-01-01</td>\n",
              "      <td>2024-01-01 00:12:35</td>\n",
              "      <td>6515456b-05d4-5e6d-b42a-7652a8d671a4</td>\n",
              "      <td>22c8716b-1c14-525a-8c0a-0473ec7aa99e</td>\n",
              "      <td>370.7229</td>\n",
              "      <td>Step_1</td>\n",
              "      <td>2024-01-01 00:00:04.000000002</td>\n",
              "      <td>Sensor_A</td>\n",
              "      <td>-0.098098</td>\n",
              "    </tr>\n",
              "  </tbody>\n",
              "</table>\n",
              "</div>"
            ],
            "text/plain": [
              "                                Tool ID Run Start Time        Run End Time  \\\n",
              "0  8060e8e1-504a-5138-a9f0-e2770bd61ba1     2024-01-01 2024-01-01 00:12:35   \n",
              "1  8060e8e1-504a-5138-a9f0-e2770bd61ba1     2024-01-01 2024-01-01 00:12:35   \n",
              "2  8060e8e1-504a-5138-a9f0-e2770bd61ba1     2024-01-01 2024-01-01 00:12:35   \n",
              "3  8060e8e1-504a-5138-a9f0-e2770bd61ba1     2024-01-01 2024-01-01 00:12:35   \n",
              "4  8060e8e1-504a-5138-a9f0-e2770bd61ba1     2024-01-01 2024-01-01 00:12:35   \n",
              "\n",
              "                                 Run ID                          Process Step  \\\n",
              "0  6515456b-05d4-5e6d-b42a-7652a8d671a4  22c8716b-1c14-525a-8c0a-0473ec7aa99e   \n",
              "1  6515456b-05d4-5e6d-b42a-7652a8d671a4  22c8716b-1c14-525a-8c0a-0473ec7aa99e   \n",
              "2  6515456b-05d4-5e6d-b42a-7652a8d671a4  22c8716b-1c14-525a-8c0a-0473ec7aa99e   \n",
              "3  6515456b-05d4-5e6d-b42a-7652a8d671a4  22c8716b-1c14-525a-8c0a-0473ec7aa99e   \n",
              "4  6515456b-05d4-5e6d-b42a-7652a8d671a4  22c8716b-1c14-525a-8c0a-0473ec7aa99e   \n",
              "\n",
              "   Consumable Life Step ID                    Time Stamp Sensor Name  \\\n",
              "0         370.7229  Step_0 2024-01-01 00:00:00.000000000    Sensor_A   \n",
              "1         370.7229  Step_0 2024-01-01 00:00:01.000000002    Sensor_A   \n",
              "2         370.7229  Step_0 2024-01-01 00:00:01.999999997    Sensor_A   \n",
              "3         370.7229  Step_1 2024-01-01 00:00:03.000000000    Sensor_A   \n",
              "4         370.7229  Step_1 2024-01-01 00:00:04.000000002    Sensor_A   \n",
              "\n",
              "   Sensor Value  \n",
              "0     -0.061105  \n",
              "1     -0.040894  \n",
              "2      0.005357  \n",
              "3     -0.029941  \n",
              "4     -0.098098  "
            ]
          },
          "execution_count": 7,
          "metadata": {},
          "output_type": "execute_result"
        }
      ],
      "source": [
        "df1.head()"
      ]
    },
    {
      "cell_type": "code",
      "execution_count": null,
      "metadata": {
        "colab": {
          "base_uri": "https://localhost:8080/",
          "height": 310
        },
        "id": "uj1SEXtxOtVo",
        "outputId": "2d230d14-e867-4a9e-a34e-38a09675f5d3"
      },
      "outputs": [
        {
          "data": {
            "text/html": [
              "<div>\n",
              "<style scoped>\n",
              "    .dataframe tbody tr th:only-of-type {\n",
              "        vertical-align: middle;\n",
              "    }\n",
              "\n",
              "    .dataframe tbody tr th {\n",
              "        vertical-align: top;\n",
              "    }\n",
              "\n",
              "    .dataframe thead th {\n",
              "        text-align: right;\n",
              "    }\n",
              "</style>\n",
              "<table border=\"1\" class=\"dataframe\">\n",
              "  <thead>\n",
              "    <tr style=\"text-align: right;\">\n",
              "      <th></th>\n",
              "      <th>Tool ID</th>\n",
              "      <th>Run Start Time</th>\n",
              "      <th>Run End Time</th>\n",
              "      <th>Run ID</th>\n",
              "      <th>Process Step</th>\n",
              "      <th>Step ID</th>\n",
              "      <th>Time Stamp</th>\n",
              "      <th>Sensor Name</th>\n",
              "      <th>Sensor Value</th>\n",
              "    </tr>\n",
              "  </thead>\n",
              "  <tbody>\n",
              "    <tr>\n",
              "      <th>0</th>\n",
              "      <td>8060e8e1-504a-5138-a9f0-e2770bd61ba1</td>\n",
              "      <td>2023-12-31</td>\n",
              "      <td>2023-12-31 00:12:22</td>\n",
              "      <td>6515456b-05d4-5e6d-b42a-7652a8d671a4</td>\n",
              "      <td>22c8716b-1c14-525a-8c0a-0473ec7aa99e</td>\n",
              "      <td>Step_0</td>\n",
              "      <td>2023-12-31 00:00:00.000000000</td>\n",
              "      <td>Sensor_1</td>\n",
              "      <td>202.660553</td>\n",
              "    </tr>\n",
              "    <tr>\n",
              "      <th>1</th>\n",
              "      <td>8060e8e1-504a-5138-a9f0-e2770bd61ba1</td>\n",
              "      <td>2023-12-31</td>\n",
              "      <td>2023-12-31 00:12:22</td>\n",
              "      <td>6515456b-05d4-5e6d-b42a-7652a8d671a4</td>\n",
              "      <td>22c8716b-1c14-525a-8c0a-0473ec7aa99e</td>\n",
              "      <td>Step_0</td>\n",
              "      <td>2023-12-31 00:00:01.000000002</td>\n",
              "      <td>Sensor_1</td>\n",
              "      <td>202.660553</td>\n",
              "    </tr>\n",
              "    <tr>\n",
              "      <th>2</th>\n",
              "      <td>8060e8e1-504a-5138-a9f0-e2770bd61ba1</td>\n",
              "      <td>2023-12-31</td>\n",
              "      <td>2023-12-31 00:12:22</td>\n",
              "      <td>6515456b-05d4-5e6d-b42a-7652a8d671a4</td>\n",
              "      <td>22c8716b-1c14-525a-8c0a-0473ec7aa99e</td>\n",
              "      <td>Step_0</td>\n",
              "      <td>2023-12-31 00:00:01.999999997</td>\n",
              "      <td>Sensor_1</td>\n",
              "      <td>202.660553</td>\n",
              "    </tr>\n",
              "    <tr>\n",
              "      <th>3</th>\n",
              "      <td>8060e8e1-504a-5138-a9f0-e2770bd61ba1</td>\n",
              "      <td>2023-12-31</td>\n",
              "      <td>2023-12-31 00:12:22</td>\n",
              "      <td>6515456b-05d4-5e6d-b42a-7652a8d671a4</td>\n",
              "      <td>22c8716b-1c14-525a-8c0a-0473ec7aa99e</td>\n",
              "      <td>Step_1</td>\n",
              "      <td>2023-12-31 00:00:03.000000000</td>\n",
              "      <td>Sensor_1</td>\n",
              "      <td>202.660553</td>\n",
              "    </tr>\n",
              "    <tr>\n",
              "      <th>4</th>\n",
              "      <td>8060e8e1-504a-5138-a9f0-e2770bd61ba1</td>\n",
              "      <td>2023-12-31</td>\n",
              "      <td>2023-12-31 00:12:22</td>\n",
              "      <td>6515456b-05d4-5e6d-b42a-7652a8d671a4</td>\n",
              "      <td>22c8716b-1c14-525a-8c0a-0473ec7aa99e</td>\n",
              "      <td>Step_1</td>\n",
              "      <td>2023-12-31 00:00:04.000000002</td>\n",
              "      <td>Sensor_1</td>\n",
              "      <td>202.660553</td>\n",
              "    </tr>\n",
              "  </tbody>\n",
              "</table>\n",
              "</div>"
            ],
            "text/plain": [
              "                                Tool ID Run Start Time        Run End Time  \\\n",
              "0  8060e8e1-504a-5138-a9f0-e2770bd61ba1     2023-12-31 2023-12-31 00:12:22   \n",
              "1  8060e8e1-504a-5138-a9f0-e2770bd61ba1     2023-12-31 2023-12-31 00:12:22   \n",
              "2  8060e8e1-504a-5138-a9f0-e2770bd61ba1     2023-12-31 2023-12-31 00:12:22   \n",
              "3  8060e8e1-504a-5138-a9f0-e2770bd61ba1     2023-12-31 2023-12-31 00:12:22   \n",
              "4  8060e8e1-504a-5138-a9f0-e2770bd61ba1     2023-12-31 2023-12-31 00:12:22   \n",
              "\n",
              "                                 Run ID                          Process Step  \\\n",
              "0  6515456b-05d4-5e6d-b42a-7652a8d671a4  22c8716b-1c14-525a-8c0a-0473ec7aa99e   \n",
              "1  6515456b-05d4-5e6d-b42a-7652a8d671a4  22c8716b-1c14-525a-8c0a-0473ec7aa99e   \n",
              "2  6515456b-05d4-5e6d-b42a-7652a8d671a4  22c8716b-1c14-525a-8c0a-0473ec7aa99e   \n",
              "3  6515456b-05d4-5e6d-b42a-7652a8d671a4  22c8716b-1c14-525a-8c0a-0473ec7aa99e   \n",
              "4  6515456b-05d4-5e6d-b42a-7652a8d671a4  22c8716b-1c14-525a-8c0a-0473ec7aa99e   \n",
              "\n",
              "  Step ID                    Time Stamp Sensor Name  Sensor Value  \n",
              "0  Step_0 2023-12-31 00:00:00.000000000    Sensor_1    202.660553  \n",
              "1  Step_0 2023-12-31 00:00:01.000000002    Sensor_1    202.660553  \n",
              "2  Step_0 2023-12-31 00:00:01.999999997    Sensor_1    202.660553  \n",
              "3  Step_1 2023-12-31 00:00:03.000000000    Sensor_1    202.660553  \n",
              "4  Step_1 2023-12-31 00:00:04.000000002    Sensor_1    202.660553  "
            ]
          },
          "execution_count": 9,
          "metadata": {},
          "output_type": "execute_result"
        }
      ],
      "source": [
        "df2.head()"
      ]
    },
    {
      "cell_type": "code",
      "execution_count": 36,
      "metadata": {},
      "outputs": [
        {
          "data": {
            "text/html": [
              "<div>\n",
              "<style scoped>\n",
              "    .dataframe tbody tr th:only-of-type {\n",
              "        vertical-align: middle;\n",
              "    }\n",
              "\n",
              "    .dataframe tbody tr th {\n",
              "        vertical-align: top;\n",
              "    }\n",
              "\n",
              "    .dataframe thead th {\n",
              "        text-align: right;\n",
              "    }\n",
              "</style>\n",
              "<table border=\"1\" class=\"dataframe\">\n",
              "  <thead>\n",
              "    <tr style=\"text-align: right;\">\n",
              "      <th></th>\n",
              "      <th>Run ID</th>\n",
              "      <th>Run Start Time</th>\n",
              "      <th>Run End Time</th>\n",
              "      <th>X_index</th>\n",
              "      <th>Y_index</th>\n",
              "      <th>X</th>\n",
              "      <th>Y</th>\n",
              "      <th>Point Index</th>\n",
              "      <th>Measurement</th>\n",
              "    </tr>\n",
              "  </thead>\n",
              "  <tbody>\n",
              "    <tr>\n",
              "      <th>0</th>\n",
              "      <td>00862337-2cc0-5b34-b5e1-45588e935c39</td>\n",
              "      <td>2024-01-02 04:45:25</td>\n",
              "      <td>2024-01-02 04:58:00</td>\n",
              "      <td>1</td>\n",
              "      <td>23</td>\n",
              "      <td>-143.877551</td>\n",
              "      <td>-9.183673</td>\n",
              "      <td>3</td>\n",
              "      <td>10.006534</td>\n",
              "    </tr>\n",
              "    <tr>\n",
              "      <th>1</th>\n",
              "      <td>00862337-2cc0-5b34-b5e1-45588e935c39</td>\n",
              "      <td>2024-01-02 04:45:25</td>\n",
              "      <td>2024-01-02 04:58:00</td>\n",
              "      <td>1</td>\n",
              "      <td>29</td>\n",
              "      <td>-143.877551</td>\n",
              "      <td>27.551020</td>\n",
              "      <td>48</td>\n",
              "      <td>10.002181</td>\n",
              "    </tr>\n",
              "    <tr>\n",
              "      <th>2</th>\n",
              "      <td>00862337-2cc0-5b34-b5e1-45588e935c39</td>\n",
              "      <td>2024-01-02 04:45:25</td>\n",
              "      <td>2024-01-02 04:58:00</td>\n",
              "      <td>2</td>\n",
              "      <td>34</td>\n",
              "      <td>-137.755102</td>\n",
              "      <td>58.163265</td>\n",
              "      <td>43</td>\n",
              "      <td>10.031223</td>\n",
              "    </tr>\n",
              "    <tr>\n",
              "      <th>3</th>\n",
              "      <td>00862337-2cc0-5b34-b5e1-45588e935c39</td>\n",
              "      <td>2024-01-02 04:45:25</td>\n",
              "      <td>2024-01-02 04:58:00</td>\n",
              "      <td>3</td>\n",
              "      <td>14</td>\n",
              "      <td>-131.632653</td>\n",
              "      <td>-64.285714</td>\n",
              "      <td>20</td>\n",
              "      <td>10.055888</td>\n",
              "    </tr>\n",
              "    <tr>\n",
              "      <th>4</th>\n",
              "      <td>00862337-2cc0-5b34-b5e1-45588e935c39</td>\n",
              "      <td>2024-01-02 04:45:25</td>\n",
              "      <td>2024-01-02 04:58:00</td>\n",
              "      <td>5</td>\n",
              "      <td>39</td>\n",
              "      <td>-119.387755</td>\n",
              "      <td>88.775510</td>\n",
              "      <td>8</td>\n",
              "      <td>10.089505</td>\n",
              "    </tr>\n",
              "  </tbody>\n",
              "</table>\n",
              "</div>"
            ],
            "text/plain": [
              "                                 Run ID      Run Start Time  \\\n",
              "0  00862337-2cc0-5b34-b5e1-45588e935c39 2024-01-02 04:45:25   \n",
              "1  00862337-2cc0-5b34-b5e1-45588e935c39 2024-01-02 04:45:25   \n",
              "2  00862337-2cc0-5b34-b5e1-45588e935c39 2024-01-02 04:45:25   \n",
              "3  00862337-2cc0-5b34-b5e1-45588e935c39 2024-01-02 04:45:25   \n",
              "4  00862337-2cc0-5b34-b5e1-45588e935c39 2024-01-02 04:45:25   \n",
              "\n",
              "         Run End Time  X_index  Y_index           X          Y  Point Index  \\\n",
              "0 2024-01-02 04:58:00        1       23 -143.877551  -9.183673            3   \n",
              "1 2024-01-02 04:58:00        1       29 -143.877551  27.551020           48   \n",
              "2 2024-01-02 04:58:00        2       34 -137.755102  58.163265           43   \n",
              "3 2024-01-02 04:58:00        3       14 -131.632653 -64.285714           20   \n",
              "4 2024-01-02 04:58:00        5       39 -119.387755  88.775510            8   \n",
              "\n",
              "   Measurement  \n",
              "0    10.006534  \n",
              "1    10.002181  \n",
              "2    10.031223  \n",
              "3    10.055888  \n",
              "4    10.089505  "
            ]
          },
          "execution_count": 36,
          "metadata": {},
          "output_type": "execute_result"
        }
      ],
      "source": [
        "df3.head()"
      ]
    },
    {
      "cell_type": "code",
      "execution_count": 23,
      "metadata": {},
      "outputs": [
        {
          "name": "stdout",
          "output_type": "stream",
          "text": [
            "<class 'pandas.core.frame.DataFrame'>\n",
            "RangeIndex: 41220750 entries, 0 to 41220749\n",
            "Data columns (total 11 columns):\n",
            " #   Column           Dtype         \n",
            "---  ------           -----         \n",
            " 0   Tool ID          object        \n",
            " 1   Run Start Time   datetime64[ns]\n",
            " 2   Run End Time     datetime64[ns]\n",
            " 3   Run ID           object        \n",
            " 4   Process Step     object        \n",
            " 5   Consumable Life  float32       \n",
            " 6   Step ID          object        \n",
            " 7   Time Stamp       datetime64[ns]\n",
            " 8   Sensor Name      object        \n",
            " 9   Sensor Value     float32       \n",
            " 10  Time_utc         datetime64[ns]\n",
            "dtypes: datetime64[ns](4), float32(2), object(5)\n",
            "memory usage: 3.1+ GB\n",
            "Shape: (41220750, 11)\n",
            "Columns: ['Tool ID', 'Run Start Time', 'Run End Time', 'Run ID', 'Process Step', 'Consumable Life', 'Step ID', 'Time Stamp', 'Sensor Name', 'Sensor Value', 'Time_utc']\n",
            "Tool ID                    object\n",
            "Run Start Time     datetime64[ns]\n",
            "Run End Time       datetime64[ns]\n",
            "Run ID                     object\n",
            "Process Step               object\n",
            "Consumable Life           float32\n",
            "Step ID                    object\n",
            "Time Stamp         datetime64[ns]\n",
            "Sensor Name                object\n",
            "Sensor Value              float32\n",
            "Time_utc           datetime64[ns]\n",
            "dtype: object\n"
          ]
        }
      ],
      "source": [
        "df1.info()\n",
        "print(\"Shape:\", df1.shape)\n",
        "print(\"Columns:\", df1.columns.tolist())\n",
        "print(df1.dtypes)"
      ]
    },
    {
      "cell_type": "code",
      "execution_count": null,
      "metadata": {},
      "outputs": [
        {
          "data": {
            "text/plain": [
              "Tool ID            0\n",
              "Run Start Time     0\n",
              "Run End Time       0\n",
              "Run ID             0\n",
              "Process Step       0\n",
              "Consumable Life    0\n",
              "Step ID            0\n",
              "Time Stamp         0\n",
              "Sensor Name        0\n",
              "Sensor Value       0\n",
              "Time_utc           0\n",
              "dtype: int64"
            ]
          },
          "execution_count": 25,
          "metadata": {},
          "output_type": "execute_result"
        }
      ],
      "source": [
        "#check number of null values\n",
        "\n",
        "df1.isnull().sum()"
      ]
    },
    {
      "cell_type": "code",
      "execution_count": 20,
      "metadata": {},
      "outputs": [
        {
          "data": {
            "text/plain": [
              "0"
            ]
          },
          "execution_count": 20,
          "metadata": {},
          "output_type": "execute_result"
        }
      ],
      "source": [
        "#check number of duplicated values\n",
        "\n",
        "df1.duplicated().sum()"
      ]
    },
    {
      "cell_type": "code",
      "execution_count": 27,
      "metadata": {},
      "outputs": [
        {
          "name": "stdout",
          "output_type": "stream",
          "text": [
            "\n",
            "Tool ID value counts:\n",
            " 5116a75f-0543-502f-8278-2b2496d337d2    2253105\n",
            "1914935a-df63-54c2-9c47-da905244e631    2251365\n",
            "bb7e0385-0227-575a-9894-dacc8bf07f2a    2249430\n",
            "683e5405-4b93-5160-be90-d3d5b0d9287a    2248140\n",
            "4738fd3d-8fc7-59fd-85a7-eec6efb4bfae    2246790\n",
            "db66ded5-0f4f-5179-b8e7-4673304ddff1    2244840\n",
            "e4838ac1-3788-50bf-bbca-04cf339ec369    2244480\n",
            "08e35986-3a0a-5274-8990-4ad303be9d5f    2241630\n",
            "b3439d8e-290b-59a4-96a5-53348288f6a9    2241630\n",
            "8060e8e1-504a-5138-a9f0-e2770bd61ba1    2235645\n",
            "ac40636d-b491-5620-8d16-9aad56e5c4d3    2235450\n",
            "a060c807-dbdb-5de3-9cd7-0c596234a3d7    2233815\n",
            "d7291410-f34f-5cee-b3a1-0c60bb854423    2232780\n",
            "ad28cd71-3811-543c-80a1-a440468a49d7    2231955\n",
            "8a1010f8-7e9e-52ba-8586-2eac7e68eaee    2224380\n",
            "30476bd4-f093-56c9-8cd1-23cf7f39ce5f    2219490\n",
            "c7f536aa-a2fc-54b4-9b98-9f01793c9b5d    1798890\n",
            "1b314ddd-198a-5cd5-90ae-933b947d013d    1795215\n",
            "3cb39167-0519-578a-846d-7132592965d3    1791720\n",
            "Name: Tool ID, dtype: int64\n",
            "\n",
            "Run ID value counts:\n",
            " 28eaf4dc-d95b-5dfd-bb82-7a0cc7cdcf9a    10995\n",
            "eabb6187-9188-56cb-80e7-25f0ca76fa31    10995\n",
            "be61679c-7120-5b25-8875-cba2dc1778e1    10995\n",
            "a3ac112f-76ce-573b-bf2b-0e81866e5bfb    10995\n",
            "820581b0-e0e6-5eec-bddb-17bee6c4bafa    10995\n",
            "                                        ...  \n",
            "6eac1591-edd7-58a8-89fe-b6a4d7eb7790     8835\n",
            "a8d8bf3a-673c-581e-80d0-ba017b298020     8835\n",
            "10346130-0ba9-5dd9-8283-ab1cc944e106     8835\n",
            "7c3436e3-46bc-5b2b-a151-121c12579043     8835\n",
            "f87971a8-5a58-5a6a-b559-915f5f7c78dd     8835\n",
            "Name: Run ID, Length: 4140, dtype: int64\n",
            "\n",
            "Process Step value counts:\n",
            " 22c8716b-1c14-525a-8c0a-0473ec7aa99e    41220750\n",
            "Name: Process Step, dtype: int64\n",
            "\n",
            "Step ID value counts:\n",
            " Step_5     16487145\n",
            "Step_1      3297060\n",
            "Step_8      3297060\n",
            "Step_9      3297060\n",
            "Step_3      2474565\n",
            "Step_6      2474565\n",
            "Step_7      2305455\n",
            "Step_4      1812900\n",
            "Step_2      1648770\n",
            "Step_11     1648770\n",
            "Step_12     1485015\n",
            "Step_10      824445\n",
            "Step_0       167940\n",
            "Name: Step ID, dtype: int64\n",
            "\n",
            "Sensor Name value counts:\n",
            " Sensor_A    2748050\n",
            "Sensor_B    2748050\n",
            "Sensor_C    2748050\n",
            "Sensor_D    2748050\n",
            "Sensor_E    2748050\n",
            "Sensor_F    2748050\n",
            "Sensor_G    2748050\n",
            "Sensor_H    2748050\n",
            "Sensor_I    2748050\n",
            "Sensor_J    2748050\n",
            "Sensor_K    2748050\n",
            "Sensor_L    2748050\n",
            "Sensor_M    2748050\n",
            "Sensor_N    2748050\n",
            "Sensor_O    2748050\n",
            "Name: Sensor Name, dtype: int64\n"
          ]
        }
      ],
      "source": [
        "df1.describe(include='object')\n",
        "\n",
        "# Value counts\n",
        "for col in df1.select_dtypes(include='object').columns:\n",
        "    print(f\"\\n{col} value counts:\\n\", df1[col].value_counts())"
      ]
    },
    {
      "cell_type": "code",
      "execution_count": 7,
      "metadata": {
        "colab": {
          "base_uri": "https://localhost:8080/"
        },
        "id": "6rjrGAeVP8dQ",
        "outputId": "bf56dec3-d654-4855-f39d-4d1153539638"
      },
      "outputs": [
        {
          "name": "stdout",
          "output_type": "stream",
          "text": [
            "Number of Run ID: 4140\n",
            "Number of Tool ID: 19\n",
            "Number of Process Steps: 1\n",
            "Number of Step ID: 13\n",
            "Number of Sensor Name: 15\n"
          ]
        }
      ],
      "source": [
        "print('Number of Run ID:', df1[\"Run ID\"].nunique())\n",
        "print('Number of Tool ID:', df1[\"Tool ID\"].nunique())\n",
        "print('Number of Process Steps:', df1[\"Process Step\"].nunique())\n",
        "print('Number of Step ID:', df1[\"Step ID\"].nunique())\n",
        "print('Number of Sensor Name:', df1[\"Sensor Name\"].nunique())"
      ]
    },
    {
      "cell_type": "code",
      "execution_count": 44,
      "metadata": {},
      "outputs": [
        {
          "data": {
            "image/png": "[encoded data removed]",
            "text/plain": [
              "<Figure size 432x288 with 1 Axes>"
            ]
          },
          "metadata": {
            "needs_background": "light"
          },
          "output_type": "display_data"
        },
        {
          "data": {
            "image/png": "[encoded data removed]",
            "text/plain": [
              "<Figure size 432x288 with 1 Axes>"
            ]
          },
          "metadata": {
            "needs_background": "light"
          },
          "output_type": "display_data"
        }
      ],
      "source": [
        "# Distribution plot for Sensor value and Consumable life\n",
        "\n",
        "df1['Sensor Value'].hist(bins=30, label='Sensor Value')\n",
        "plt.title('Sensor Value')\n",
        "plt.show()\n",
        "\n",
        "df1['Consumable Life'].hist(bins=30, label='Consumable Life')\n",
        "plt.title('Consumable Life')\n",
        "plt.show()"
      ]
    },
    {
      "cell_type": "code",
      "execution_count": 29,
      "metadata": {},
      "outputs": [
        {
          "name": "stdout",
          "output_type": "stream",
          "text": [
            "<class 'pandas.core.frame.DataFrame'>\n",
            "RangeIndex: 82896506 entries, 0 to 82896505\n",
            "Data columns (total 9 columns):\n",
            " #   Column          Dtype         \n",
            "---  ------          -----         \n",
            " 0   Tool ID         object        \n",
            " 1   Run Start Time  datetime64[ns]\n",
            " 2   Run End Time    datetime64[ns]\n",
            " 3   Run ID          object        \n",
            " 4   Process Step    object        \n",
            " 5   Step ID         object        \n",
            " 6   Time Stamp      datetime64[ns]\n",
            " 7   Sensor Name     object        \n",
            " 8   Sensor Value    float32       \n",
            "dtypes: datetime64[ns](3), float32(1), object(5)\n",
            "memory usage: 5.2+ GB\n",
            "Shape: (82896506, 9)\n",
            "Columns: ['Tool ID', 'Run Start Time', 'Run End Time', 'Run ID', 'Process Step', 'Step ID', 'Time Stamp', 'Sensor Name', 'Sensor Value']\n",
            "Tool ID                   object\n",
            "Run Start Time    datetime64[ns]\n",
            "Run End Time      datetime64[ns]\n",
            "Run ID                    object\n",
            "Process Step              object\n",
            "Step ID                   object\n",
            "Time Stamp        datetime64[ns]\n",
            "Sensor Name               object\n",
            "Sensor Value             float32\n",
            "dtype: object\n"
          ]
        }
      ],
      "source": [
        "df2.info()\n",
        "print(\"Shape:\", df2.shape)\n",
        "print(\"Columns:\", df2.columns.tolist())\n",
        "print(df2.dtypes)"
      ]
    },
    {
      "cell_type": "code",
      "execution_count": 30,
      "metadata": {},
      "outputs": [
        {
          "data": {
            "text/plain": [
              "Tool ID           0\n",
              "Run Start Time    0\n",
              "Run End Time      0\n",
              "Run ID            0\n",
              "Process Step      0\n",
              "Step ID           0\n",
              "Time Stamp        0\n",
              "Sensor Name       0\n",
              "Sensor Value      0\n",
              "dtype: int64"
            ]
          },
          "execution_count": 30,
          "metadata": {},
          "output_type": "execute_result"
        }
      ],
      "source": [
        "#check number of null values\n",
        "\n",
        "df2.isnull().sum()"
      ]
    },
    {
      "cell_type": "code",
      "execution_count": 21,
      "metadata": {},
      "outputs": [
        {
          "data": {
            "text/plain": [
              "0"
            ]
          },
          "execution_count": 21,
          "metadata": {},
          "output_type": "execute_result"
        }
      ],
      "source": [
        "#check number of duplicated values\n",
        "\n",
        "df2.duplicated().sum()"
      ]
    },
    {
      "cell_type": "code",
      "execution_count": 34,
      "metadata": {},
      "outputs": [
        {
          "name": "stdout",
          "output_type": "stream",
          "text": [
            "\n",
            "Tool ID value counts:\n",
            " 8a1010f8-7e9e-52ba-8586-2eac7e68eaee    4663135\n",
            "ac40636d-b491-5620-8d16-9aad56e5c4d3    4616887\n",
            "1914935a-df63-54c2-9c47-da905244e631    4599790\n",
            "a060c807-dbdb-5de3-9cd7-0c596234a3d7    4565186\n",
            "db66ded5-0f4f-5179-b8e7-4673304ddff1    4557355\n",
            "d7291410-f34f-5cee-b3a1-0c60bb854423    4528655\n",
            "30476bd4-f093-56c9-8cd1-23cf7f39ce5f    4528286\n",
            "5116a75f-0543-502f-8278-2b2496d337d2    4500365\n",
            "4738fd3d-8fc7-59fd-85a7-eec6efb4bfae    4489500\n",
            "08e35986-3a0a-5274-8990-4ad303be9d5f    4477282\n",
            "8060e8e1-504a-5138-a9f0-e2770bd61ba1    4469164\n",
            "b3439d8e-290b-59a4-96a5-53348288f6a9    4456946\n",
            "683e5405-4b93-5160-be90-d3d5b0d9287a    4440628\n",
            "bb7e0385-0227-575a-9894-dacc8bf07f2a    4422014\n",
            "ad28cd71-3811-543c-80a1-a440468a49d7    4402908\n",
            "e4838ac1-3788-50bf-bbca-04cf339ec369    4318858\n",
            "c7f536aa-a2fc-54b4-9b98-9f01793c9b5d    3664211\n",
            "1b314ddd-198a-5cd5-90ae-933b947d013d    3607508\n",
            "3cb39167-0519-578a-846d-7132592965d3    3587828\n",
            "Name: Tool ID, dtype: int64\n",
            "\n",
            "Run ID value counts:\n",
            " e8f422bc-7dbe-5282-84ab-dff077d86b69    22960\n",
            "386ca225-eca0-583d-bba3-267e1f69ebd9    22960\n",
            "bc3c0a5f-0372-57ba-b8ed-3437a98bec6f    22960\n",
            "fce3e95e-2c05-59ce-8303-f21b0b3aed53    22960\n",
            "aa151ba8-2a3e-5801-a43b-c6ad0bb18927    22960\n",
            "                                        ...  \n",
            "b1e20053-0bdc-569b-8bbe-439f5c6a5b14    17425\n",
            "0d8472c9-43fc-532f-b60f-aab04a73661f    17384\n",
            "94a715dd-6466-5453-b8a4-5fe2d7bd30d1    17384\n",
            "4953cba1-f2dc-5887-b5a3-01b0b5713173    17384\n",
            "eabb6187-9188-56cb-80e7-25f0ca76fa31    17384\n",
            "Name: Run ID, Length: 4140, dtype: int64\n",
            "\n",
            "Process Step value counts:\n",
            " 22c8716b-1c14-525a-8c0a-0473ec7aa99e    82896506\n",
            "Name: Process Step, dtype: int64\n",
            "\n",
            "Step ID value counts:\n",
            " Step_5    44557529\n",
            "Step_1     8912088\n",
            "Step_3     6681852\n",
            "Step_6     6681852\n",
            "Step_7     6238437\n",
            "Step_4     4903518\n",
            "Step_2     4456249\n",
            "Step_0      464981\n",
            "Name: Step ID, dtype: int64\n",
            "\n",
            "Sensor Name value counts:\n",
            " Sensor_1     2021866\n",
            "Sensor_29    2021866\n",
            "Sensor_30    2021866\n",
            "Sensor_31    2021866\n",
            "Sensor_32    2021866\n",
            "Sensor_33    2021866\n",
            "Sensor_34    2021866\n",
            "Sensor_35    2021866\n",
            "Sensor_36    2021866\n",
            "Sensor_37    2021866\n",
            "Sensor_38    2021866\n",
            "Sensor_39    2021866\n",
            "Sensor_4     2021866\n",
            "Sensor_40    2021866\n",
            "Sensor_41    2021866\n",
            "Sensor_5     2021866\n",
            "Sensor_6     2021866\n",
            "Sensor_7     2021866\n",
            "Sensor_8     2021866\n",
            "Sensor_3     2021866\n",
            "Sensor_28    2021866\n",
            "Sensor_10    2021866\n",
            "Sensor_27    2021866\n",
            "Sensor_11    2021866\n",
            "Sensor_12    2021866\n",
            "Sensor_13    2021866\n",
            "Sensor_14    2021866\n",
            "Sensor_15    2021866\n",
            "Sensor_16    2021866\n",
            "Sensor_17    2021866\n",
            "Sensor_18    2021866\n",
            "Sensor_19    2021866\n",
            "Sensor_2     2021866\n",
            "Sensor_20    2021866\n",
            "Sensor_21    2021866\n",
            "Sensor_22    2021866\n",
            "Sensor_23    2021866\n",
            "Sensor_24    2021866\n",
            "Sensor_25    2021866\n",
            "Sensor_26    2021866\n",
            "Sensor_9     2021866\n",
            "Name: Sensor Name, dtype: int64\n"
          ]
        }
      ],
      "source": [
        "df2.describe(include='object')\n",
        "\n",
        "# Value counts\n",
        "for col in df2.select_dtypes(include='object').columns:\n",
        "    print(f\"\\n{col} value counts:\\n\", df2[col].value_counts())"
      ]
    },
    {
      "cell_type": "code",
      "execution_count": 8,
      "metadata": {},
      "outputs": [
        {
          "name": "stdout",
          "output_type": "stream",
          "text": [
            "Number of Run ID: 4140\n",
            "Number of Tool ID: 19\n",
            "Number of Process Steps: 1\n",
            "Number of Step ID: 8\n",
            "Number of Sensor Name: 41\n"
          ]
        }
      ],
      "source": [
        "print('Number of Run ID:', df2[\"Run ID\"].nunique())\n",
        "print('Number of Tool ID:', df2[\"Tool ID\"].nunique())\n",
        "print('Number of Process Steps:', df2[\"Process Step\"].nunique())\n",
        "print('Number of Step ID:', df2[\"Step ID\"].nunique())\n",
        "print('Number of Sensor Name:', df2[\"Sensor Name\"].nunique())"
      ]
    },
    {
      "cell_type": "code",
      "execution_count": 43,
      "metadata": {},
      "outputs": [
        {
          "data": {
            "image/png": "[encoded data removed]",
            "text/plain": [
              "<Figure size 432x288 with 1 Axes>"
            ]
          },
          "metadata": {
            "needs_background": "light"
          },
          "output_type": "display_data"
        }
      ],
      "source": [
        "# Distribution plot for Sensor value and Consumable life\n",
        "\n",
        "df2['Sensor Value'].hist(bins=30, label='Sensor Value')\n",
        "plt.title('Sensor Value')\n",
        "plt.show()"
      ]
    },
    {
      "cell_type": "code",
      "execution_count": 33,
      "metadata": {},
      "outputs": [
        {
          "name": "stdout",
          "output_type": "stream",
          "text": [
            "Sensor Value       0.000046\n",
            "Consumable Life         NaN\n",
            "dtype: float64\n"
          ]
        }
      ],
      "source": [
        "correlation = df1.corrwith(df2)\n",
        "print(correlation)"
      ]
    },
    {
      "cell_type": "code",
      "execution_count": 37,
      "metadata": {},
      "outputs": [
        {
          "name": "stdout",
          "output_type": "stream",
          "text": [
            "<class 'pandas.core.frame.DataFrame'>\n",
            "RangeIndex: 202860 entries, 0 to 202859\n",
            "Data columns (total 9 columns):\n",
            " #   Column          Non-Null Count   Dtype         \n",
            "---  ------          --------------   -----         \n",
            " 0   Run ID          202860 non-null  object        \n",
            " 1   Run Start Time  202860 non-null  datetime64[ns]\n",
            " 2   Run End Time    202860 non-null  datetime64[ns]\n",
            " 3   X_index         202860 non-null  int32         \n",
            " 4   Y_index         202860 non-null  int32         \n",
            " 5   X               202860 non-null  float64       \n",
            " 6   Y               202860 non-null  float64       \n",
            " 7   Point Index     202860 non-null  int64         \n",
            " 8   Measurement     202860 non-null  float64       \n",
            "dtypes: datetime64[ns](2), float64(3), int32(2), int64(1), object(1)\n",
            "memory usage: 12.4+ MB\n",
            "Shape: (202860, 9)\n",
            "Columns: ['Run ID', 'Run Start Time', 'Run End Time', 'X_index', 'Y_index', 'X', 'Y', 'Point Index', 'Measurement']\n",
            "Run ID                    object\n",
            "Run Start Time    datetime64[ns]\n",
            "Run End Time      datetime64[ns]\n",
            "X_index                    int32\n",
            "Y_index                    int32\n",
            "X                        float64\n",
            "Y                        float64\n",
            "Point Index                int64\n",
            "Measurement              float64\n",
            "dtype: object\n"
          ]
        }
      ],
      "source": [
        "df3.info()\n",
        "print(\"Shape:\", df3.shape)\n",
        "print(\"Columns:\", df3.columns.tolist())\n",
        "print(df3.dtypes)"
      ]
    },
    {
      "cell_type": "code",
      "execution_count": 38,
      "metadata": {},
      "outputs": [
        {
          "data": {
            "text/plain": [
              "Run ID            0\n",
              "Run Start Time    0\n",
              "Run End Time      0\n",
              "X_index           0\n",
              "Y_index           0\n",
              "X                 0\n",
              "Y                 0\n",
              "Point Index       0\n",
              "Measurement       0\n",
              "dtype: int64"
            ]
          },
          "execution_count": 38,
          "metadata": {},
          "output_type": "execute_result"
        }
      ],
      "source": [
        "#check number of null values\n",
        "\n",
        "df3.isnull().sum()"
      ]
    },
    {
      "cell_type": "code",
      "execution_count": 39,
      "metadata": {},
      "outputs": [
        {
          "data": {
            "text/plain": [
              "0"
            ]
          },
          "execution_count": 39,
          "metadata": {},
          "output_type": "execute_result"
        }
      ],
      "source": [
        "#check number of duplicated values\n",
        "\n",
        "df3.duplicated().sum()"
      ]
    },
    {
      "cell_type": "code",
      "execution_count": 40,
      "metadata": {},
      "outputs": [
        {
          "name": "stdout",
          "output_type": "stream",
          "text": [
            "\n",
            "Run ID value counts:\n",
            " 00862337-2cc0-5b34-b5e1-45588e935c39    49\n",
            "cbc68e11-a0ea-5605-86aa-01d7f42ac0fc    49\n",
            "a547c3de-e71b-53fb-aa49-4e2158ff10b9    49\n",
            "a58d79fe-cc61-56b8-8037-789d9bfc33e3    49\n",
            "a5c059e8-8555-5790-8fdd-30ab471e9235    49\n",
            "                                        ..\n",
            "54a4ee88-5377-58e3-b756-eb46fd9a6780    49\n",
            "563fc9ee-06a7-5ff5-95a8-aff9b1dd566f    49\n",
            "572064e4-52f8-5a4d-b1e6-d7aca1c5d228    49\n",
            "5766e09c-13f0-5dc8-a866-91ebf6220c5a    49\n",
            "fec7f5b4-aa67-550d-b1ab-9d9500dd40eb    49\n",
            "Name: Run ID, Length: 4140, dtype: int64\n"
          ]
        }
      ],
      "source": [
        "df3.describe(include='object')\n",
        "\n",
        "# Value counts\n",
        "for col in df3.select_dtypes(include='object').columns:\n",
        "    print(f\"\\n{col} value counts:\\n\", df3[col].value_counts())"
      ]
    },
    {
      "cell_type": "code",
      "execution_count": null,
      "metadata": {},
      "outputs": [],
      "source": [
        "print('Number of Run ID:', df3[\"Run ID\"].nunique())"
      ]
    },
    {
      "cell_type": "code",
      "execution_count": 42,
      "metadata": {},
      "outputs": [
        {
          "data": {
            "image/png": "[encoded data removed]",
            "text/plain": [
              "<Figure size 432x288 with 1 Axes>"
            ]
          },
          "metadata": {
            "needs_background": "light"
          },
          "output_type": "display_data"
        }
      ],
      "source": [
        "# Distribution plot for Sensor value and Consumable life\n",
        "\n",
        "df3['Measurement'].hist(bins=30, label='Measurement')\n",
        "plt.title('Measurement')\n",
        "plt.show()"
      ]
    },
    {
      "cell_type": "markdown",
      "metadata": {},
      "source": [
        "# Feature Plots\n",
        "\n"
      ]
    },
    {
      "cell_type": "code",
      "execution_count": 7,
      "metadata": {
        "colab": {
          "base_uri": "https://localhost:8080/",
          "height": 523
        },
        "id": "ankkTbhySQax",
        "outputId": "008cebc0-f243-41c2-dc5b-9fb8805f007d"
      },
      "outputs": [
        {
          "data": {
            "text/html": [
              "<div>\n",
              "<style scoped>\n",
              "    .dataframe tbody tr th:only-of-type {\n",
              "        vertical-align: middle;\n",
              "    }\n",
              "\n",
              "    .dataframe tbody tr th {\n",
              "        vertical-align: top;\n",
              "    }\n",
              "\n",
              "    .dataframe thead th {\n",
              "        text-align: right;\n",
              "    }\n",
              "</style>\n",
              "<table border=\"1\" class=\"dataframe\">\n",
              "  <thead>\n",
              "    <tr style=\"text-align: right;\">\n",
              "      <th></th>\n",
              "      <th>Tool ID</th>\n",
              "      <th>Run Start Time</th>\n",
              "      <th>Run End Time</th>\n",
              "      <th>Run ID</th>\n",
              "      <th>Process Step</th>\n",
              "      <th>Consumable Life</th>\n",
              "      <th>Step ID</th>\n",
              "      <th>Time Stamp</th>\n",
              "      <th>Sensor Name</th>\n",
              "      <th>Sensor Value</th>\n",
              "      <th>Time_utc</th>\n",
              "    </tr>\n",
              "  </thead>\n",
              "  <tbody>\n",
              "    <tr>\n",
              "      <th>0</th>\n",
              "      <td>8060e8e1-504a-5138-a9f0-e2770bd61ba1</td>\n",
              "      <td>2024-01-01</td>\n",
              "      <td>2024-01-01 00:12:35</td>\n",
              "      <td>6515456b-05d4-5e6d-b42a-7652a8d671a4</td>\n",
              "      <td>22c8716b-1c14-525a-8c0a-0473ec7aa99e</td>\n",
              "      <td>370.7229</td>\n",
              "      <td>Step_0</td>\n",
              "      <td>2024-01-01 00:00:00.000000000</td>\n",
              "      <td>Sensor_A</td>\n",
              "      <td>-0.061105</td>\n",
              "      <td>2024-01-01 00:00:00.000000000</td>\n",
              "    </tr>\n",
              "    <tr>\n",
              "      <th>1</th>\n",
              "      <td>8060e8e1-504a-5138-a9f0-e2770bd61ba1</td>\n",
              "      <td>2024-01-01</td>\n",
              "      <td>2024-01-01 00:12:35</td>\n",
              "      <td>6515456b-05d4-5e6d-b42a-7652a8d671a4</td>\n",
              "      <td>22c8716b-1c14-525a-8c0a-0473ec7aa99e</td>\n",
              "      <td>370.7229</td>\n",
              "      <td>Step_0</td>\n",
              "      <td>2024-01-01 00:00:01.000000002</td>\n",
              "      <td>Sensor_A</td>\n",
              "      <td>-0.040894</td>\n",
              "      <td>2024-01-01 00:00:01.000000002</td>\n",
              "    </tr>\n",
              "    <tr>\n",
              "      <th>2</th>\n",
              "      <td>8060e8e1-504a-5138-a9f0-e2770bd61ba1</td>\n",
              "      <td>2024-01-01</td>\n",
              "      <td>2024-01-01 00:12:35</td>\n",
              "      <td>6515456b-05d4-5e6d-b42a-7652a8d671a4</td>\n",
              "      <td>22c8716b-1c14-525a-8c0a-0473ec7aa99e</td>\n",
              "      <td>370.7229</td>\n",
              "      <td>Step_0</td>\n",
              "      <td>2024-01-01 00:00:01.999999997</td>\n",
              "      <td>Sensor_A</td>\n",
              "      <td>0.005357</td>\n",
              "      <td>2024-01-01 00:00:01.999999997</td>\n",
              "    </tr>\n",
              "    <tr>\n",
              "      <th>3</th>\n",
              "      <td>8060e8e1-504a-5138-a9f0-e2770bd61ba1</td>\n",
              "      <td>2024-01-01</td>\n",
              "      <td>2024-01-01 00:12:35</td>\n",
              "      <td>6515456b-05d4-5e6d-b42a-7652a8d671a4</td>\n",
              "      <td>22c8716b-1c14-525a-8c0a-0473ec7aa99e</td>\n",
              "      <td>370.7229</td>\n",
              "      <td>Step_1</td>\n",
              "      <td>2024-01-01 00:00:03.000000000</td>\n",
              "      <td>Sensor_A</td>\n",
              "      <td>-0.029941</td>\n",
              "      <td>2024-01-01 00:00:03.000000000</td>\n",
              "    </tr>\n",
              "    <tr>\n",
              "      <th>4</th>\n",
              "      <td>8060e8e1-504a-5138-a9f0-e2770bd61ba1</td>\n",
              "      <td>2024-01-01</td>\n",
              "      <td>2024-01-01 00:12:35</td>\n",
              "      <td>6515456b-05d4-5e6d-b42a-7652a8d671a4</td>\n",
              "      <td>22c8716b-1c14-525a-8c0a-0473ec7aa99e</td>\n",
              "      <td>370.7229</td>\n",
              "      <td>Step_1</td>\n",
              "      <td>2024-01-01 00:00:04.000000002</td>\n",
              "      <td>Sensor_A</td>\n",
              "      <td>-0.098098</td>\n",
              "      <td>2024-01-01 00:00:04.000000002</td>\n",
              "    </tr>\n",
              "  </tbody>\n",
              "</table>\n",
              "</div>"
            ],
            "text/plain": [
              "                                Tool ID Run Start Time        Run End Time  \\\n",
              "0  8060e8e1-504a-5138-a9f0-e2770bd61ba1     2024-01-01 2024-01-01 00:12:35   \n",
              "1  8060e8e1-504a-5138-a9f0-e2770bd61ba1     2024-01-01 2024-01-01 00:12:35   \n",
              "2  8060e8e1-504a-5138-a9f0-e2770bd61ba1     2024-01-01 2024-01-01 00:12:35   \n",
              "3  8060e8e1-504a-5138-a9f0-e2770bd61ba1     2024-01-01 2024-01-01 00:12:35   \n",
              "4  8060e8e1-504a-5138-a9f0-e2770bd61ba1     2024-01-01 2024-01-01 00:12:35   \n",
              "\n",
              "                                 Run ID                          Process Step  \\\n",
              "0  6515456b-05d4-5e6d-b42a-7652a8d671a4  22c8716b-1c14-525a-8c0a-0473ec7aa99e   \n",
              "1  6515456b-05d4-5e6d-b42a-7652a8d671a4  22c8716b-1c14-525a-8c0a-0473ec7aa99e   \n",
              "2  6515456b-05d4-5e6d-b42a-7652a8d671a4  22c8716b-1c14-525a-8c0a-0473ec7aa99e   \n",
              "3  6515456b-05d4-5e6d-b42a-7652a8d671a4  22c8716b-1c14-525a-8c0a-0473ec7aa99e   \n",
              "4  6515456b-05d4-5e6d-b42a-7652a8d671a4  22c8716b-1c14-525a-8c0a-0473ec7aa99e   \n",
              "\n",
              "   Consumable Life Step ID                    Time Stamp Sensor Name  \\\n",
              "0         370.7229  Step_0 2024-01-01 00:00:00.000000000    Sensor_A   \n",
              "1         370.7229  Step_0 2024-01-01 00:00:01.000000002    Sensor_A   \n",
              "2         370.7229  Step_0 2024-01-01 00:00:01.999999997    Sensor_A   \n",
              "3         370.7229  Step_1 2024-01-01 00:00:03.000000000    Sensor_A   \n",
              "4         370.7229  Step_1 2024-01-01 00:00:04.000000002    Sensor_A   \n",
              "\n",
              "   Sensor Value                      Time_utc  \n",
              "0     -0.061105 2024-01-01 00:00:00.000000000  \n",
              "1     -0.040894 2024-01-01 00:00:01.000000002  \n",
              "2      0.005357 2024-01-01 00:00:01.999999997  \n",
              "3     -0.029941 2024-01-01 00:00:03.000000000  \n",
              "4     -0.098098 2024-01-01 00:00:04.000000002  "
            ]
          },
          "execution_count": 7,
          "metadata": {},
          "output_type": "execute_result"
        }
      ],
      "source": [
        "run_df['Time_utc'] = pd.to_datetime(run_df['Time Stamp'])\n",
        "run_df.head()"
      ]
    },
    {
      "cell_type": "code",
      "execution_count": 9,
      "metadata": {},
      "outputs": [
        {
          "data": {
            "text/html": [
              "<div>\n",
              "<style scoped>\n",
              "    .dataframe tbody tr th:only-of-type {\n",
              "        vertical-align: middle;\n",
              "    }\n",
              "\n",
              "    .dataframe tbody tr th {\n",
              "        vertical-align: top;\n",
              "    }\n",
              "\n",
              "    .dataframe thead th {\n",
              "        text-align: right;\n",
              "    }\n",
              "</style>\n",
              "<table border=\"1\" class=\"dataframe\">\n",
              "  <thead>\n",
              "    <tr style=\"text-align: right;\">\n",
              "      <th></th>\n",
              "      <th>Tool ID</th>\n",
              "      <th>Run Start Time</th>\n",
              "      <th>Run End Time</th>\n",
              "      <th>Run ID</th>\n",
              "      <th>Process Step</th>\n",
              "      <th>Consumable Life</th>\n",
              "      <th>Step ID</th>\n",
              "      <th>Time Stamp</th>\n",
              "      <th>Sensor Name</th>\n",
              "      <th>Sensor Value</th>\n",
              "      <th>Time_utc</th>\n",
              "      <th>Relative Time</th>\n",
              "    </tr>\n",
              "  </thead>\n",
              "  <tbody>\n",
              "    <tr>\n",
              "      <th>0</th>\n",
              "      <td>8060e8e1-504a-5138-a9f0-e2770bd61ba1</td>\n",
              "      <td>2024-01-01</td>\n",
              "      <td>2024-01-01 00:12:35</td>\n",
              "      <td>6515456b-05d4-5e6d-b42a-7652a8d671a4</td>\n",
              "      <td>22c8716b-1c14-525a-8c0a-0473ec7aa99e</td>\n",
              "      <td>370.7229</td>\n",
              "      <td>Step_0</td>\n",
              "      <td>2024-01-01 00:00:00.000000000</td>\n",
              "      <td>Sensor_A</td>\n",
              "      <td>-0.061105</td>\n",
              "      <td>2024-01-01 00:00:00.000000000</td>\n",
              "      <td>0.0</td>\n",
              "    </tr>\n",
              "    <tr>\n",
              "      <th>1</th>\n",
              "      <td>8060e8e1-504a-5138-a9f0-e2770bd61ba1</td>\n",
              "      <td>2024-01-01</td>\n",
              "      <td>2024-01-01 00:12:35</td>\n",
              "      <td>6515456b-05d4-5e6d-b42a-7652a8d671a4</td>\n",
              "      <td>22c8716b-1c14-525a-8c0a-0473ec7aa99e</td>\n",
              "      <td>370.7229</td>\n",
              "      <td>Step_0</td>\n",
              "      <td>2024-01-01 00:00:01.000000002</td>\n",
              "      <td>Sensor_A</td>\n",
              "      <td>-0.040894</td>\n",
              "      <td>2024-01-01 00:00:01.000000002</td>\n",
              "      <td>1.0</td>\n",
              "    </tr>\n",
              "    <tr>\n",
              "      <th>2</th>\n",
              "      <td>8060e8e1-504a-5138-a9f0-e2770bd61ba1</td>\n",
              "      <td>2024-01-01</td>\n",
              "      <td>2024-01-01 00:12:35</td>\n",
              "      <td>6515456b-05d4-5e6d-b42a-7652a8d671a4</td>\n",
              "      <td>22c8716b-1c14-525a-8c0a-0473ec7aa99e</td>\n",
              "      <td>370.7229</td>\n",
              "      <td>Step_0</td>\n",
              "      <td>2024-01-01 00:00:01.999999997</td>\n",
              "      <td>Sensor_A</td>\n",
              "      <td>0.005357</td>\n",
              "      <td>2024-01-01 00:00:01.999999997</td>\n",
              "      <td>2.0</td>\n",
              "    </tr>\n",
              "    <tr>\n",
              "      <th>3</th>\n",
              "      <td>8060e8e1-504a-5138-a9f0-e2770bd61ba1</td>\n",
              "      <td>2024-01-01</td>\n",
              "      <td>2024-01-01 00:12:35</td>\n",
              "      <td>6515456b-05d4-5e6d-b42a-7652a8d671a4</td>\n",
              "      <td>22c8716b-1c14-525a-8c0a-0473ec7aa99e</td>\n",
              "      <td>370.7229</td>\n",
              "      <td>Step_1</td>\n",
              "      <td>2024-01-01 00:00:03.000000000</td>\n",
              "      <td>Sensor_A</td>\n",
              "      <td>-0.029941</td>\n",
              "      <td>2024-01-01 00:00:03.000000000</td>\n",
              "      <td>3.0</td>\n",
              "    </tr>\n",
              "    <tr>\n",
              "      <th>4</th>\n",
              "      <td>8060e8e1-504a-5138-a9f0-e2770bd61ba1</td>\n",
              "      <td>2024-01-01</td>\n",
              "      <td>2024-01-01 00:12:35</td>\n",
              "      <td>6515456b-05d4-5e6d-b42a-7652a8d671a4</td>\n",
              "      <td>22c8716b-1c14-525a-8c0a-0473ec7aa99e</td>\n",
              "      <td>370.7229</td>\n",
              "      <td>Step_1</td>\n",
              "      <td>2024-01-01 00:00:04.000000002</td>\n",
              "      <td>Sensor_A</td>\n",
              "      <td>-0.098098</td>\n",
              "      <td>2024-01-01 00:00:04.000000002</td>\n",
              "      <td>4.0</td>\n",
              "    </tr>\n",
              "  </tbody>\n",
              "</table>\n",
              "</div>"
            ],
            "text/plain": [
              "                                Tool ID Run Start Time        Run End Time  \\\n",
              "0  8060e8e1-504a-5138-a9f0-e2770bd61ba1     2024-01-01 2024-01-01 00:12:35   \n",
              "1  8060e8e1-504a-5138-a9f0-e2770bd61ba1     2024-01-01 2024-01-01 00:12:35   \n",
              "2  8060e8e1-504a-5138-a9f0-e2770bd61ba1     2024-01-01 2024-01-01 00:12:35   \n",
              "3  8060e8e1-504a-5138-a9f0-e2770bd61ba1     2024-01-01 2024-01-01 00:12:35   \n",
              "4  8060e8e1-504a-5138-a9f0-e2770bd61ba1     2024-01-01 2024-01-01 00:12:35   \n",
              "\n",
              "                                 Run ID                          Process Step  \\\n",
              "0  6515456b-05d4-5e6d-b42a-7652a8d671a4  22c8716b-1c14-525a-8c0a-0473ec7aa99e   \n",
              "1  6515456b-05d4-5e6d-b42a-7652a8d671a4  22c8716b-1c14-525a-8c0a-0473ec7aa99e   \n",
              "2  6515456b-05d4-5e6d-b42a-7652a8d671a4  22c8716b-1c14-525a-8c0a-0473ec7aa99e   \n",
              "3  6515456b-05d4-5e6d-b42a-7652a8d671a4  22c8716b-1c14-525a-8c0a-0473ec7aa99e   \n",
              "4  6515456b-05d4-5e6d-b42a-7652a8d671a4  22c8716b-1c14-525a-8c0a-0473ec7aa99e   \n",
              "\n",
              "   Consumable Life Step ID                    Time Stamp Sensor Name  \\\n",
              "0         370.7229  Step_0 2024-01-01 00:00:00.000000000    Sensor_A   \n",
              "1         370.7229  Step_0 2024-01-01 00:00:01.000000002    Sensor_A   \n",
              "2         370.7229  Step_0 2024-01-01 00:00:01.999999997    Sensor_A   \n",
              "3         370.7229  Step_1 2024-01-01 00:00:03.000000000    Sensor_A   \n",
              "4         370.7229  Step_1 2024-01-01 00:00:04.000000002    Sensor_A   \n",
              "\n",
              "   Sensor Value                      Time_utc  Relative Time  \n",
              "0     -0.061105 2024-01-01 00:00:00.000000000            0.0  \n",
              "1     -0.040894 2024-01-01 00:00:01.000000002            1.0  \n",
              "2      0.005357 2024-01-01 00:00:01.999999997            2.0  \n",
              "3     -0.029941 2024-01-01 00:00:03.000000000            3.0  \n",
              "4     -0.098098 2024-01-01 00:00:04.000000002            4.0  "
            ]
          },
          "execution_count": 9,
          "metadata": {},
          "output_type": "execute_result"
        }
      ],
      "source": [
        "# You can choose the grouping column — often 'Run ID' or 'Tool ID'\n",
        "group_col = 'Run ID'  # or 'Run ID' if available\n",
        "\n",
        "# Standardize time by subtracting the start of each run\n",
        "run_df['Relative Time'] = run_df.groupby(group_col)['Time Stamp'].transform(lambda x: (x - x.min()).dt.total_seconds())\n",
        "run_df.head()"
      ]
    },
    {
      "cell_type": "code",
      "execution_count": 8,
      "metadata": {
        "colab": {
          "base_uri": "https://localhost:8080/",
          "height": 1000
        },
        "id": "qCec98nSQ53W",
        "outputId": "da61a8c5-1e2f-4cf2-8a8c-de96b80e0c26"
      },
      "outputs": [
        {
          "data": {
            "image/png": "[encoded data removed]",
            "text/plain": [
              "<Figure size 640x480 with 1 Axes>"
            ]
          },
          "metadata": {},
          "output_type": "display_data"
        }
      ],
      "source": [
        "# Plot the graph of sensor value by sensor name\n",
        "sns.boxplot(x='Sensor Name', y='Sensor Value', data=run_df)\n",
        "plt.xticks(rotation=90)\n",
        "plt.title(f'Sensor Value group by Sensor Name')\n",
        "\n",
        "plt.show()"
      ]
    },
    {
      "cell_type": "code",
      "execution_count": 9,
      "metadata": {},
      "outputs": [
        {
          "data": {
            "image/png": "[encoded data removed]",
            "text/plain": [
              "<Figure size 640x480 with 1 Axes>"
            ]
          },
          "metadata": {},
          "output_type": "display_data"
        }
      ],
      "source": [
        "# Plot the graph of sensor value by tool id\n",
        "sns.boxplot(x='Tool ID', y='Sensor Value', data=run_df)\n",
        "plt.xticks(rotation=90)\n",
        "plt.title(f'Sensor Value group by Tool ID')\n",
        "\n",
        "plt.show()"
      ]
    },
    {
      "cell_type": "code",
      "execution_count": 10,
      "metadata": {},
      "outputs": [
        {
          "name": "stdout",
          "output_type": "stream",
          "text": [
            "Tool ID\n",
            "08e35986-3a0a-5274-8990-4ad303be9d5f    243.836929\n",
            "1914935a-df63-54c2-9c47-da905244e631    245.792709\n",
            "1b314ddd-198a-5cd5-90ae-933b947d013d    255.029633\n",
            "30476bd4-f093-56c9-8cd1-23cf7f39ce5f    257.020111\n",
            "3cb39167-0519-578a-846d-7132592965d3    252.814621\n",
            "4738fd3d-8fc7-59fd-85a7-eec6efb4bfae    242.962997\n",
            "5116a75f-0543-502f-8278-2b2496d337d2    249.057816\n",
            "683e5405-4b93-5160-be90-d3d5b0d9287a    256.124512\n",
            "8060e8e1-504a-5138-a9f0-e2770bd61ba1    256.760284\n",
            "8a1010f8-7e9e-52ba-8586-2eac7e68eaee    264.033264\n",
            "a060c807-dbdb-5de3-9cd7-0c596234a3d7    241.627319\n",
            "ac40636d-b491-5620-8d16-9aad56e5c4d3    251.713470\n",
            "ad28cd71-3811-543c-80a1-a440468a49d7    236.826462\n",
            "b3439d8e-290b-59a4-96a5-53348288f6a9    262.474304\n",
            "bb7e0385-0227-575a-9894-dacc8bf07f2a    254.983871\n",
            "c7f536aa-a2fc-54b4-9b98-9f01793c9b5d    256.201233\n",
            "d7291410-f34f-5cee-b3a1-0c60bb854423    257.756073\n",
            "db66ded5-0f4f-5179-b8e7-4673304ddff1    241.703156\n",
            "e4838ac1-3788-50bf-bbca-04cf339ec369    253.091583\n",
            "Name: Consumable Life, dtype: float32\n"
          ]
        }
      ],
      "source": [
        "mean_values = run_df.groupby('Tool ID')['Consumable Life'].mean()\n",
        "print(mean_values)"
      ]
    },
    {
      "cell_type": "code",
      "execution_count": 16,
      "metadata": {},
      "outputs": [],
      "source": [
        "# for sensor in run_df['Tool ID'].unique():\n",
        "#     subset_df = run_df[run_df['Tool ID'] == sensor]  # Filter data for each Run ID\n",
        "    \n",
        "#     plt.figure(figsize=(8, 6))\n",
        "#     sns.scatterplot(x='Consumable Life', y='Sensor Value', palette='coolwarm', data=subset_df)\n",
        "#     plt.legend(title=\"Tool ID\", bbox_to_anchor=(1.05, 1), loc='upper left')\n",
        "#     plt.title(f\"Scatter Plot for {sensor}\")\n",
        "\n",
        "#     plt.show()"
      ]
    },
    {
      "cell_type": "code",
      "execution_count": 33,
      "metadata": {},
      "outputs": [
        {
          "data": {
            "image/png": "[encoded data removed]",
            "text/plain": [
              "<Figure size 576x432 with 1 Axes>"
            ]
          },
          "metadata": {
            "needs_background": "light"
          },
          "output_type": "display_data"
        }
      ],
      "source": [
        "# Plot the graph of sensor value by step id\n",
        "plt.figure(figsize=(8, 6))  # Adjust figure size\n",
        "sns.boxplot(x='Step ID', y='Sensor Value', data=run_df)\n",
        "plt.xticks(rotation=90)\n",
        "plt.title(f'Sensor Value group by Step ID')\n",
        "\n",
        "plt.show()"
      ]
    },
    {
      "cell_type": "code",
      "execution_count": 16,
      "metadata": {},
      "outputs": [
        {
          "data": {
            "image/png": "[encoded data removed]",
            "text/plain": [
              "<Figure size 576x432 with 1 Axes>"
            ]
          },
          "metadata": {
            "needs_background": "light"
          },
          "output_type": "display_data"
        }
      ],
      "source": [
        "# Plot the graph with categorization\n",
        "plt.figure(figsize=(8, 6))  # Adjust figure size\n",
        "sns.scatterplot(x='Relative Time', y='Sensor Value', hue='Sensor Name', data=run_df)\n",
        "\n",
        "plt.title(f'Sensor Value against Time')\n",
        "plt.legend(title=\"Sensor Name\", bbox_to_anchor=(1.05, 1), loc='upper left')  # Ensure legend shows sensor categories\n",
        "plt.xticks(rotation=45)  # Rotate timestamps for readability\n",
        "\n",
        "# Show the plot\n",
        "plt.show()"
      ]
    },
    {
      "cell_type": "code",
      "execution_count": null,
      "metadata": {},
      "outputs": [],
      "source": [
        "# # for sensor in run_df['Tool ID'].unique():\n",
        "# #     subset_df = run_df[run_df['Tool ID'] == sensor]  # Filter data for each Run ID\n",
        "    \n",
        "# #     plt.figure(figsize=(8, 6))\n",
        "# #     sns.scatterplot(x='Time Stamp', y='Sensor Value', hue='Sensor Name', palette='coolwarm', data=subset_df)\n",
        "# #     plt.legend(title=\"Step ID\", bbox_to_anchor=(1.05, 1), loc='upper left')\n",
        "# #     plt.title(f\"Scatter Plot for {sensor}\")\n",
        "# #     plt.show()\n",
        "\n",
        "# for sensor_name in run_df['Sensor Name'].unique():\n",
        "#     subset_df = run_df[run_df['Sensor Name'] == sensor_name]\n",
        "#     tool_ids = subset_df['Tool ID'].unique()\n",
        "\n",
        "#     n_tools = len(tool_ids)\n",
        "#     n_cols = 2  # Adjust this to fit your layout\n",
        "#     n_rows = int(np.ceil(n_tools / n_cols))\n",
        "\n",
        "#     fig, axes = plt.subplots(n_rows, n_cols, figsize=(n_cols * 6, n_rows * 4), sharex=True)\n",
        "#     axes = axes.flatten()\n",
        "\n",
        "#     for i, tool_id in enumerate(tool_ids):\n",
        "#         tool_df = subset_df[subset_df['Tool ID'] == tool_id]\n",
        "#         ax = axes[i]\n",
        "\n",
        "#         sns.scatterplot(x='Relative Time', y='Sensor Value', data=tool_df, ax=ax)\n",
        "#         ax.set_title(f\"Tool ID: {tool_id}\")\n",
        "#         ax.set_xlabel(\"Time Stamp\")\n",
        "#         ax.set_ylabel(\"Sensor Value\")\n",
        "\n",
        "#     # Hide unused axes\n",
        "#     for j in range(i + 1, len(axes)):\n",
        "#         axes[j].set_visible(False)\n",
        "\n",
        "#     fig.suptitle(f\"Scatter Plots for Sensor: {sensor_name}\", fontsize=16)\n",
        "#     plt.tight_layout(rect=[0, 0, 1, 0.97])\n",
        "#     plt.show()"
      ]
    },
    {
      "cell_type": "code",
      "execution_count": 10,
      "metadata": {
        "colab": {
          "base_uri": "https://localhost:8080/",
          "height": 453
        },
        "id": "syl-h7eCMDPS",
        "outputId": "34d5686b-58d7-450c-c8eb-689d908f1433"
      },
      "outputs": [
        {
          "data": {
            "image/png": "[encoded data removed]",
            "text/plain": [
              "<Figure size 640x480 with 2 Axes>"
            ]
          },
          "metadata": {},
          "output_type": "display_data"
        }
      ],
      "source": [
        "# plt.figure(figsize=(8, 6))\n",
        "# sns.scatterplot(x='X', y='Y', hue='Measurement', palette='coolwarm', data=meas_df)\n",
        "# plt.legend(title=\"Category\", bbox_to_anchor=(1.05, 1), loc='upper left')\n",
        "# plt.title(f\"Scatter Plot\")\n",
        "# plt.show()\n",
        "\n",
        "x = meas_df['X'].values\n",
        "y = meas_df['Y'].values\n",
        "z = meas_df['Measurement'].values\n",
        "\n",
        "# Create triangulation\n",
        "triang = tri.Triangulation(x, y)\n",
        "\n",
        "# Plot contour\n",
        "contour = plt.tricontourf(triang, z, levels=20, cmap='viridis')\n",
        "plt.colorbar(contour, label='Measurement')\n",
        "plt.title('Contour Plot of Measurement')\n",
        "plt.xlabel('X')\n",
        "plt.ylabel('Y')\n",
        "plt.tight_layout()\n",
        "plt.show()\n"
      ]
    },
    {
      "cell_type": "markdown",
      "metadata": {},
      "source": [
        "# Aggregate features - sensor\n"
      ]
    },
    {
      "cell_type": "code",
      "execution_count": 112,
      "metadata": {},
      "outputs": [],
      "source": [
        "# 2. Feature engineering on run_df\n",
        "# 2a. Aggregate each sensor’s time series per run into summary stats\n",
        "agg_funcs = [\"mean\", \"std\", \"min\", \"max\"]\n",
        "sensor_feats = (\n",
        "    run_df\n",
        "      .groupby([\"Run ID\", \"Sensor Name\"])[\"Sensor Value\"]\n",
        "      .agg(agg_funcs)\n",
        "      .unstack(fill_value=0)\n",
        ")\n",
        "# flatten column MultiIndex\n",
        "sensor_feats.columns = [\n",
        "    f\"{sensor}_{stat}\" for sensor, stat in sensor_feats.columns\n",
        "]\n",
        "sensor_feats.reset_index(inplace=True)"
      ]
    },
    {
      "cell_type": "code",
      "execution_count": 113,
      "metadata": {},
      "outputs": [],
      "source": [
        "# 3. Combine with measurement targets\n",
        "df = meas_df.merge(sensor_feats, on=\"Run ID\", how=\"left\")\n",
        "\n",
        "# drop any runs with missing features (if any)\n",
        "df.dropna(inplace=True)"
      ]
    },
    {
      "cell_type": "code",
      "execution_count": 105,
      "metadata": {},
      "outputs": [
        {
          "name": "stdout",
          "output_type": "stream",
          "text": [
            "Run ID                    object\n",
            "Run Start Time    datetime64[ns]\n",
            "Run End Time      datetime64[ns]\n",
            "X_index                    int32\n",
            "Y_index                    int32\n",
            "                       ...      \n",
            "max_Sensor_K             float32\n",
            "max_Sensor_L             float32\n",
            "max_Sensor_M             float32\n",
            "max_Sensor_N             float32\n",
            "max_Sensor_O             float32\n",
            "Length: 69, dtype: object\n"
          ]
        }
      ],
      "source": [
        "print(df.dtypes)"
      ]
    },
    {
      "cell_type": "code",
      "execution_count": 81,
      "metadata": {
        "id": "HGUfKBC6uxLB"
      },
      "outputs": [],
      "source": [
        "# # Create a categorical feature from 'run_type'\n",
        "# df['Tool_ID_encoded'] = df['Tool ID'].astype('category').cat.codes\n",
        "# df['Process_Step_encoded'] = df['Process Step'].astype('category').cat.codes\n",
        "# df['Step_ID_encoded'] = df['Step ID'].astype('category').cat.codes"
      ]
    },
    {
      "cell_type": "markdown",
      "metadata": {},
      "source": [
        "# Model training on run df dataset"
      ]
    },
    {
      "cell_type": "code",
      "execution_count": 114,
      "metadata": {},
      "outputs": [],
      "source": [
        "# 4. Train/validation split\n",
        "X = df.drop(columns=[\"Run ID\", \"Measurement\"])\n",
        "y = df[\"Measurement\"]\n",
        "X_train, X_test, y_train, y_test = train_test_split(\n",
        "    X, y, test_size=0.2, random_state=42\n",
        ")"
      ]
    },
    {
      "cell_type": "code",
      "execution_count": 115,
      "metadata": {},
      "outputs": [
        {
          "name": "stdout",
          "output_type": "stream",
          "text": [
            "Datetime columns: ['Run Start Time', 'Run End Time']\n"
          ]
        }
      ],
      "source": [
        "# Check for datetime columns\n",
        "datetime_cols = X_train.select_dtypes(include=[\"datetime64\"]).columns\n",
        "print(\"Datetime columns:\", list(datetime_cols))\n",
        "\n",
        "# Drop datetime columns from both train and val\n",
        "X_train = X_train.drop(columns=datetime_cols)\n",
        "X_test = X_test.drop(columns=datetime_cols)\n",
        "X = X.drop(columns=datetime_cols)"
      ]
    },
    {
      "cell_type": "code",
      "execution_count": 116,
      "metadata": {},
      "outputs": [
        {
          "name": "stdout",
          "output_type": "stream",
          "text": [
            "Training until validation scores don't improve for 50 rounds\n",
            "[100]\ttraining's rmse: 0.0436051\tvalid_1's rmse: 0.043966\n",
            "[200]\ttraining's rmse: 0.0367668\tvalid_1's rmse: 0.0373447\n",
            "[300]\ttraining's rmse: 0.033961\tvalid_1's rmse: 0.034676\n",
            "[400]\ttraining's rmse: 0.0321032\tvalid_1's rmse: 0.0329244\n",
            "[500]\ttraining's rmse: 0.030813\tvalid_1's rmse: 0.0317457\n",
            "[600]\ttraining's rmse: 0.0297515\tvalid_1's rmse: 0.0307946\n",
            "[700]\ttraining's rmse: 0.028972\tvalid_1's rmse: 0.0301459\n",
            "[800]\ttraining's rmse: 0.0282304\tvalid_1's rmse: 0.029526\n",
            "[900]\ttraining's rmse: 0.0276415\tvalid_1's rmse: 0.0290391\n",
            "[1000]\ttraining's rmse: 0.0270912\tvalid_1's rmse: 0.028593\n",
            "Did not meet early stopping. Best iteration is:\n",
            "[1000]\ttraining's rmse: 0.0270912\tvalid_1's rmse: 0.028593\n"
          ]
        }
      ],
      "source": [
        "lgb_train = lgb.Dataset(X_train, y_train)\n",
        "lgb_val = lgb.Dataset(X_test, y_test, reference=lgb_train)\n",
        "\n",
        "params = {\n",
        "    \"objective\": \"regression\",\n",
        "    \"metric\": \"rmse\",\n",
        "    \"verbosity\": -1,\n",
        "    \"boosting_type\": \"gbdt\",\n",
        "    \"learning_rate\": 0.05,\n",
        "    \"num_leaves\": 31,\n",
        "    \"feature_fraction\": 0.9,\n",
        "    \"bagging_fraction\": 0.8,\n",
        "    \"bagging_freq\": 5,\n",
        "}\n",
        "\n",
        "lgb_model = lgb.train(\n",
        "    params,\n",
        "    lgb_train,\n",
        "    valid_sets=[lgb_train, lgb_val],\n",
        "    num_boost_round=1000,\n",
        "    callbacks=[\n",
        "        lgb.early_stopping(stopping_rounds=50),\n",
        "        lgb.log_evaluation(period=100)\n",
        "    ]\n",
        ")"
      ]
    },
    {
      "cell_type": "markdown",
      "metadata": {},
      "source": [
        "# Model training on run df + incoming df dataset"
      ]
    },
    {
      "cell_type": "code",
      "execution_count": 117,
      "metadata": {},
      "outputs": [],
      "source": [
        "#Add incoming run sensor values\n",
        "agg_funcs = [\"mean\", \"std\", \"min\", \"max\"]\n",
        "incoming_feats = (\n",
        "    incom_run_df\n",
        "      .groupby([\"Run ID\", \"Sensor Name\"])[\"Sensor Value\"]\n",
        "      .agg(agg_funcs)\n",
        "      .unstack(fill_value=0)\n",
        ")\n",
        "# flatten column MultiIndex\n",
        "incoming_feats.columns = [\n",
        "    f\"{sensor}_incoming_{stat}\" for sensor, stat in incoming_feats.columns\n",
        "]\n",
        "incoming_feats.reset_index(inplace=True)\n",
        "feat = sensor_feats.merge(incoming_feats, on=\"Run ID\")"
      ]
    },
    {
      "cell_type": "code",
      "execution_count": 118,
      "metadata": {},
      "outputs": [],
      "source": [
        "# 3. Combine with measurement targets\n",
        "df = meas_df.merge(feat, on=\"Run ID\", how=\"left\")\n",
        "\n",
        "# drop any runs with missing features (if any)\n",
        "df.dropna(inplace=True)"
      ]
    },
    {
      "cell_type": "code",
      "execution_count": 119,
      "metadata": {},
      "outputs": [
        {
          "name": "stdout",
          "output_type": "stream",
          "text": [
            "Datetime columns: ['Run Start Time', 'Run End Time']\n",
            "Training until validation scores don't improve for 50 rounds\n",
            "[100]\ttraining's rmse: 0.0393592\tvalid_1's rmse: 0.0398686\n",
            "[200]\ttraining's rmse: 0.0306085\tvalid_1's rmse: 0.0312978\n",
            "[300]\ttraining's rmse: 0.0272853\tvalid_1's rmse: 0.0280366\n",
            "[400]\ttraining's rmse: 0.0252458\tvalid_1's rmse: 0.0260901\n",
            "[500]\ttraining's rmse: 0.0239076\tvalid_1's rmse: 0.0248392\n",
            "[600]\ttraining's rmse: 0.0226871\tvalid_1's rmse: 0.0237139\n",
            "[700]\ttraining's rmse: 0.0217394\tvalid_1's rmse: 0.0228493\n",
            "[800]\ttraining's rmse: 0.0206175\tvalid_1's rmse: 0.0218135\n",
            "[900]\ttraining's rmse: 0.0197819\tvalid_1's rmse: 0.0210538\n",
            "[1000]\ttraining's rmse: 0.0191081\tvalid_1's rmse: 0.0204571\n",
            "Did not meet early stopping. Best iteration is:\n",
            "[1000]\ttraining's rmse: 0.0191081\tvalid_1's rmse: 0.0204571\n"
          ]
        }
      ],
      "source": [
        "# 4. Train/validation split\n",
        "X = df.drop(columns=[\"Run ID\", \"Measurement\"])\n",
        "y = df[\"Measurement\"]\n",
        "X_train, X_test, y_train, y_test = train_test_split(\n",
        "    X, y, test_size=0.2, random_state=42\n",
        ")\n",
        "# Check for datetime columns\n",
        "datetime_cols = X_train.select_dtypes(include=[\"datetime64\"]).columns\n",
        "print(\"Datetime columns:\", list(datetime_cols))\n",
        "\n",
        "# Drop datetime columns from both train and val\n",
        "X_train = X_train.drop(columns=datetime_cols)\n",
        "X_test = X_test.drop(columns=datetime_cols)\n",
        "X = X.drop(columns=datetime_cols)\n",
        "lgb_train = lgb.Dataset(X_train, y_train)\n",
        "lgb_val = lgb.Dataset(X_test, y_test, reference=lgb_train)\n",
        "\n",
        "params = {\n",
        "    \"objective\": \"regression\",\n",
        "    \"metric\": \"rmse\",\n",
        "    \"verbosity\": -1,\n",
        "    \"boosting_type\": \"gbdt\",\n",
        "    \"learning_rate\": 0.05,\n",
        "    \"num_leaves\": 31,\n",
        "    \"feature_fraction\": 0.9,\n",
        "    \"bagging_fraction\": 0.8,\n",
        "    \"bagging_freq\": 5,\n",
        "}\n",
        "\n",
        "lgb_model = lgb.train(\n",
        "    params,\n",
        "    lgb_train,\n",
        "    valid_sets=[lgb_train, lgb_val],\n",
        "    num_boost_round=1000,\n",
        "    callbacks=[\n",
        "        lgb.early_stopping(stopping_rounds=50),\n",
        "        lgb.log_evaluation(period=100)\n",
        "    ]\n",
        ")"
      ]
    },
    {
      "cell_type": "markdown",
      "metadata": {},
      "source": [
        "# Feature engineering - run duration"
      ]
    },
    {
      "cell_type": "code",
      "execution_count": 135,
      "metadata": {
        "colab": {
          "base_uri": "https://localhost:8080/"
        },
        "id": "-X6Tz1VW0yJz",
        "outputId": "bab2882e-8b82-4aa9-f897-f0e7ca19d51f"
      },
      "outputs": [],
      "source": [
        "# Create a 'run_duration' feature by calculating the difference between 'start_time_utc' and 'end_time_utc'\n",
        "run_df['start_time_utc'] = pd.to_datetime(run_df['Run Start Time'])\n",
        "run_df['end_time_utc'] = pd.to_datetime(run_df['Run End Time'])\n",
        "run_df['run_duration'] = (run_df['end_time_utc'] - run_df['start_time_utc']).dt.total_seconds()"
      ]
    },
    {
      "cell_type": "code",
      "execution_count": 137,
      "metadata": {},
      "outputs": [
        {
          "name": "stdout",
          "output_type": "stream",
          "text": [
            "\n",
            "Features dataframe after engineering:\n",
            "['Run ID', 'mean_Sensor_A', 'mean_Sensor_B', 'mean_Sensor_C', 'mean_Sensor_D', 'mean_Sensor_E', 'mean_Sensor_F', 'mean_Sensor_G', 'mean_Sensor_H', 'mean_Sensor_I', 'mean_Sensor_J', 'mean_Sensor_K', 'mean_Sensor_L', 'mean_Sensor_M', 'mean_Sensor_N', 'mean_Sensor_O', 'std_Sensor_A', 'std_Sensor_B', 'std_Sensor_C', 'std_Sensor_D', 'std_Sensor_E', 'std_Sensor_F', 'std_Sensor_G', 'std_Sensor_H', 'std_Sensor_I', 'std_Sensor_J', 'std_Sensor_K', 'std_Sensor_L', 'std_Sensor_M', 'std_Sensor_N', 'std_Sensor_O', 'min_Sensor_A', 'min_Sensor_B', 'min_Sensor_C', 'min_Sensor_D', 'min_Sensor_E', 'min_Sensor_F', 'min_Sensor_G', 'min_Sensor_H', 'min_Sensor_I', 'min_Sensor_J', 'min_Sensor_K', 'min_Sensor_L', 'min_Sensor_M', 'min_Sensor_N', 'min_Sensor_O', 'max_Sensor_A', 'max_Sensor_B', 'max_Sensor_C', 'max_Sensor_D', 'max_Sensor_E', 'max_Sensor_F', 'max_Sensor_G', 'max_Sensor_H', 'max_Sensor_I', 'max_Sensor_J', 'max_Sensor_K', 'max_Sensor_L', 'max_Sensor_M', 'max_Sensor_N', 'max_Sensor_O', 'run_duration']\n"
          ]
        }
      ],
      "source": [
        "# Add the engineered run_duration feature\n",
        "feat = sensor_feats.merge(run_df[['Run ID', 'run_duration']].drop_duplicates(), on='Run ID', how='left')\n",
        "\n",
        "print(\"\\nFeatures dataframe after engineering:\")\n",
        "print(feat.columns.tolist())"
      ]
    },
    {
      "cell_type": "code",
      "execution_count": 138,
      "metadata": {},
      "outputs": [],
      "source": [
        "# 3. Combine with measurement targets\n",
        "df = meas_df.merge(feat, on=\"Run ID\", how=\"left\")\n",
        "\n",
        "# drop any runs with missing features (if any)\n",
        "df.dropna(inplace=True)"
      ]
    },
    {
      "cell_type": "code",
      "execution_count": 139,
      "metadata": {},
      "outputs": [
        {
          "name": "stdout",
          "output_type": "stream",
          "text": [
            "Datetime columns: ['Run Start Time', 'Run End Time']\n",
            "Training until validation scores don't improve for 50 rounds\n",
            "[100]\ttraining's rmse: 0.0420681\tvalid_1's rmse: 0.0424774\n",
            "[200]\ttraining's rmse: 0.0357581\tvalid_1's rmse: 0.0363352\n",
            "[300]\ttraining's rmse: 0.0330078\tvalid_1's rmse: 0.0336914\n",
            "[400]\ttraining's rmse: 0.0313162\tvalid_1's rmse: 0.0321341\n",
            "[500]\ttraining's rmse: 0.0300465\tvalid_1's rmse: 0.0309523\n",
            "[600]\ttraining's rmse: 0.029046\tvalid_1's rmse: 0.0300476\n",
            "[700]\ttraining's rmse: 0.0282041\tvalid_1's rmse: 0.0293317\n",
            "[800]\ttraining's rmse: 0.0275182\tvalid_1's rmse: 0.0287393\n",
            "[900]\ttraining's rmse: 0.0268723\tvalid_1's rmse: 0.0282007\n",
            "[1000]\ttraining's rmse: 0.0263075\tvalid_1's rmse: 0.0277426\n",
            "Did not meet early stopping. Best iteration is:\n",
            "[1000]\ttraining's rmse: 0.0263075\tvalid_1's rmse: 0.0277426\n"
          ]
        }
      ],
      "source": [
        "# 4. Train/validation split\n",
        "X = df.drop(columns=[\"Run ID\", \"Measurement\"])\n",
        "y = df[\"Measurement\"]\n",
        "X_train, X_test, y_train, y_test = train_test_split(\n",
        "    X, y, test_size=0.2, random_state=42\n",
        ")\n",
        "# Check for datetime columns\n",
        "datetime_cols = X_train.select_dtypes(include=[\"datetime64\"]).columns\n",
        "print(\"Datetime columns:\", list(datetime_cols))\n",
        "\n",
        "# Drop datetime columns from both train and val\n",
        "X_train = X_train.drop(columns=datetime_cols)\n",
        "X_test = X_test.drop(columns=datetime_cols)\n",
        "X = X.drop(columns=datetime_cols)\n",
        "lgb_train = lgb.Dataset(X_train, y_train)\n",
        "lgb_val = lgb.Dataset(X_test, y_test, reference=lgb_train)\n",
        "\n",
        "params = {\n",
        "    \"objective\": \"regression\",\n",
        "    \"metric\": \"rmse\",\n",
        "    \"verbosity\": -1,\n",
        "    \"boosting_type\": \"gbdt\",\n",
        "    \"learning_rate\": 0.05,\n",
        "    \"num_leaves\": 31,\n",
        "    \"feature_fraction\": 0.9,\n",
        "    \"bagging_fraction\": 0.8,\n",
        "    \"bagging_freq\": 5,\n",
        "}\n",
        "\n",
        "lgb_model = lgb.train(\n",
        "    params,\n",
        "    lgb_train,\n",
        "    valid_sets=[lgb_train, lgb_val],\n",
        "    num_boost_round=1000,\n",
        "    callbacks=[\n",
        "        lgb.early_stopping(stopping_rounds=50),\n",
        "        lgb.log_evaluation(period=100)\n",
        "    ]\n",
        ")"
      ]
    },
    {
      "cell_type": "markdown",
      "metadata": {},
      "source": [
        "# Feature engineering - Max Consumable Life"
      ]
    },
    {
      "cell_type": "code",
      "execution_count": 140,
      "metadata": {},
      "outputs": [],
      "source": [
        "# 2b. Tool-life feature: max ConsumableLife per run\n",
        "life_feat = (\n",
        "    run_df\n",
        "      .groupby(\"Run ID\")[\"Consumable Life\"]\n",
        "      .max()\n",
        "      .rename(\"ConsumableLifeMax\")\n",
        "      .reset_index()\n",
        ")\n",
        "\n",
        "# merge features\n",
        "feat = sensor_feats.merge(life_feat, on=\"Run ID\")"
      ]
    },
    {
      "cell_type": "code",
      "execution_count": 141,
      "metadata": {},
      "outputs": [],
      "source": [
        "# 3. Combine with measurement targets\n",
        "df = meas_df.merge(feat, on=\"Run ID\", how=\"left\")\n",
        "\n",
        "# drop any runs with missing features (if any)\n",
        "df.dropna(inplace=True)"
      ]
    },
    {
      "cell_type": "code",
      "execution_count": 142,
      "metadata": {},
      "outputs": [
        {
          "name": "stdout",
          "output_type": "stream",
          "text": [
            "Datetime columns: ['Run Start Time', 'Run End Time']\n",
            "Training until validation scores don't improve for 50 rounds\n",
            "[100]\ttraining's rmse: 0.0419525\tvalid_1's rmse: 0.0424026\n",
            "[200]\ttraining's rmse: 0.0356547\tvalid_1's rmse: 0.0362544\n",
            "[300]\ttraining's rmse: 0.0329959\tvalid_1's rmse: 0.0337093\n",
            "[400]\ttraining's rmse: 0.0313047\tvalid_1's rmse: 0.0321142\n",
            "[500]\ttraining's rmse: 0.0300533\tvalid_1's rmse: 0.0309591\n",
            "[600]\ttraining's rmse: 0.0290444\tvalid_1's rmse: 0.0300636\n",
            "[700]\ttraining's rmse: 0.0282327\tvalid_1's rmse: 0.0293817\n",
            "[800]\ttraining's rmse: 0.0275919\tvalid_1's rmse: 0.0288449\n",
            "[900]\ttraining's rmse: 0.0269603\tvalid_1's rmse: 0.0283201\n",
            "[1000]\ttraining's rmse: 0.0263676\tvalid_1's rmse: 0.0278421\n",
            "Did not meet early stopping. Best iteration is:\n",
            "[1000]\ttraining's rmse: 0.0263676\tvalid_1's rmse: 0.0278421\n"
          ]
        }
      ],
      "source": [
        "# 4. Train/validation split\n",
        "X = df.drop(columns=[\"Run ID\", \"Measurement\"])\n",
        "y = df[\"Measurement\"]\n",
        "X_train, X_test, y_train, y_test = train_test_split(\n",
        "    X, y, test_size=0.2, random_state=42\n",
        ")\n",
        "# Check for datetime columns\n",
        "datetime_cols = X_train.select_dtypes(include=[\"datetime64\"]).columns\n",
        "print(\"Datetime columns:\", list(datetime_cols))\n",
        "\n",
        "# Drop datetime columns from both train and val\n",
        "X_train = X_train.drop(columns=datetime_cols)\n",
        "X_test = X_test.drop(columns=datetime_cols)\n",
        "X = X.drop(columns=datetime_cols)\n",
        "lgb_train = lgb.Dataset(X_train, y_train)\n",
        "lgb_val = lgb.Dataset(X_test, y_test, reference=lgb_train)\n",
        "\n",
        "params = {\n",
        "    \"objective\": \"regression\",\n",
        "    \"metric\": \"rmse\",\n",
        "    \"verbosity\": -1,\n",
        "    \"boosting_type\": \"gbdt\",\n",
        "    \"learning_rate\": 0.05,\n",
        "    \"num_leaves\": 31,\n",
        "    \"feature_fraction\": 0.9,\n",
        "    \"bagging_fraction\": 0.8,\n",
        "    \"bagging_freq\": 5,\n",
        "}\n",
        "\n",
        "lgb_model = lgb.train(\n",
        "    params,\n",
        "    lgb_train,\n",
        "    valid_sets=[lgb_train, lgb_val],\n",
        "    num_boost_round=1000,\n",
        "    callbacks=[\n",
        "        lgb.early_stopping(stopping_rounds=50),\n",
        "        lgb.log_evaluation(period=100)\n",
        "    ]\n",
        ")"
      ]
    },
    {
      "cell_type": "markdown",
      "metadata": {},
      "source": [
        "# Feature engineering - Tool ID"
      ]
    },
    {
      "cell_type": "code",
      "execution_count": 143,
      "metadata": {},
      "outputs": [],
      "source": [
        "# 2. Feature engineering on run_df\n",
        "# 2c. Aggregate each tool's time series per run into summary stats\n",
        "agg_funcs = [\"mean\", \"std\", \"min\", \"max\"]\n",
        "tool_feats = (\n",
        "    run_df\n",
        "      .groupby([\"Run ID\", \"Tool ID\"])[\"Sensor Value\"]\n",
        "      .agg(agg_funcs)\n",
        "      .unstack(fill_value=0)\n",
        ")\n",
        "# flatten column MultiIndex\n",
        "tool_feats.columns = [\n",
        "    f\"{tool}_tool_{stat}\" for tool, stat in tool_feats.columns\n",
        "]\n",
        "\n",
        "tool_feats.reset_index(inplace=True)\n",
        "feat = sensor_feats.merge(tool_feats, on=\"Run ID\")"
      ]
    },
    {
      "cell_type": "code",
      "execution_count": 144,
      "metadata": {},
      "outputs": [
        {
          "name": "stdout",
          "output_type": "stream",
          "text": [
            "['Run ID', 'mean_Sensor_A', 'mean_Sensor_B', 'mean_Sensor_C', 'mean_Sensor_D', 'mean_Sensor_E', 'mean_Sensor_F', 'mean_Sensor_G', 'mean_Sensor_H', 'mean_Sensor_I', 'mean_Sensor_J', 'mean_Sensor_K', 'mean_Sensor_L', 'mean_Sensor_M', 'mean_Sensor_N', 'mean_Sensor_O', 'std_Sensor_A', 'std_Sensor_B', 'std_Sensor_C', 'std_Sensor_D', 'std_Sensor_E', 'std_Sensor_F', 'std_Sensor_G', 'std_Sensor_H', 'std_Sensor_I', 'std_Sensor_J', 'std_Sensor_K', 'std_Sensor_L', 'std_Sensor_M', 'std_Sensor_N', 'std_Sensor_O', 'min_Sensor_A', 'min_Sensor_B', 'min_Sensor_C', 'min_Sensor_D', 'min_Sensor_E', 'min_Sensor_F', 'min_Sensor_G', 'min_Sensor_H', 'min_Sensor_I', 'min_Sensor_J', 'min_Sensor_K', 'min_Sensor_L', 'min_Sensor_M', 'min_Sensor_N', 'min_Sensor_O', 'max_Sensor_A', 'max_Sensor_B', 'max_Sensor_C', 'max_Sensor_D', 'max_Sensor_E', 'max_Sensor_F', 'max_Sensor_G', 'max_Sensor_H', 'max_Sensor_I', 'max_Sensor_J', 'max_Sensor_K', 'max_Sensor_L', 'max_Sensor_M', 'max_Sensor_N', 'max_Sensor_O', 'mean_tool_08e35986-3a0a-5274-8990-4ad303be9d5f', 'mean_tool_1914935a-df63-54c2-9c47-da905244e631', 'mean_tool_1b314ddd-198a-5cd5-90ae-933b947d013d', 'mean_tool_30476bd4-f093-56c9-8cd1-23cf7f39ce5f', 'mean_tool_3cb39167-0519-578a-846d-7132592965d3', 'mean_tool_4738fd3d-8fc7-59fd-85a7-eec6efb4bfae', 'mean_tool_5116a75f-0543-502f-8278-2b2496d337d2', 'mean_tool_683e5405-4b93-5160-be90-d3d5b0d9287a', 'mean_tool_8060e8e1-504a-5138-a9f0-e2770bd61ba1', 'mean_tool_8a1010f8-7e9e-52ba-8586-2eac7e68eaee', 'mean_tool_a060c807-dbdb-5de3-9cd7-0c596234a3d7', 'mean_tool_ac40636d-b491-5620-8d16-9aad56e5c4d3', 'mean_tool_ad28cd71-3811-543c-80a1-a440468a49d7', 'mean_tool_b3439d8e-290b-59a4-96a5-53348288f6a9', 'mean_tool_bb7e0385-0227-575a-9894-dacc8bf07f2a', 'mean_tool_c7f536aa-a2fc-54b4-9b98-9f01793c9b5d', 'mean_tool_d7291410-f34f-5cee-b3a1-0c60bb854423', 'mean_tool_db66ded5-0f4f-5179-b8e7-4673304ddff1', 'mean_tool_e4838ac1-3788-50bf-bbca-04cf339ec369', 'std_tool_08e35986-3a0a-5274-8990-4ad303be9d5f', 'std_tool_1914935a-df63-54c2-9c47-da905244e631', 'std_tool_1b314ddd-198a-5cd5-90ae-933b947d013d', 'std_tool_30476bd4-f093-56c9-8cd1-23cf7f39ce5f', 'std_tool_3cb39167-0519-578a-846d-7132592965d3', 'std_tool_4738fd3d-8fc7-59fd-85a7-eec6efb4bfae', 'std_tool_5116a75f-0543-502f-8278-2b2496d337d2', 'std_tool_683e5405-4b93-5160-be90-d3d5b0d9287a', 'std_tool_8060e8e1-504a-5138-a9f0-e2770bd61ba1', 'std_tool_8a1010f8-7e9e-52ba-8586-2eac7e68eaee', 'std_tool_a060c807-dbdb-5de3-9cd7-0c596234a3d7', 'std_tool_ac40636d-b491-5620-8d16-9aad56e5c4d3', 'std_tool_ad28cd71-3811-543c-80a1-a440468a49d7', 'std_tool_b3439d8e-290b-59a4-96a5-53348288f6a9', 'std_tool_bb7e0385-0227-575a-9894-dacc8bf07f2a', 'std_tool_c7f536aa-a2fc-54b4-9b98-9f01793c9b5d', 'std_tool_d7291410-f34f-5cee-b3a1-0c60bb854423', 'std_tool_db66ded5-0f4f-5179-b8e7-4673304ddff1', 'std_tool_e4838ac1-3788-50bf-bbca-04cf339ec369', 'min_tool_08e35986-3a0a-5274-8990-4ad303be9d5f', 'min_tool_1914935a-df63-54c2-9c47-da905244e631', 'min_tool_1b314ddd-198a-5cd5-90ae-933b947d013d', 'min_tool_30476bd4-f093-56c9-8cd1-23cf7f39ce5f', 'min_tool_3cb39167-0519-578a-846d-7132592965d3', 'min_tool_4738fd3d-8fc7-59fd-85a7-eec6efb4bfae', 'min_tool_5116a75f-0543-502f-8278-2b2496d337d2', 'min_tool_683e5405-4b93-5160-be90-d3d5b0d9287a', 'min_tool_8060e8e1-504a-5138-a9f0-e2770bd61ba1', 'min_tool_8a1010f8-7e9e-52ba-8586-2eac7e68eaee', 'min_tool_a060c807-dbdb-5de3-9cd7-0c596234a3d7', 'min_tool_ac40636d-b491-5620-8d16-9aad56e5c4d3', 'min_tool_ad28cd71-3811-543c-80a1-a440468a49d7', 'min_tool_b3439d8e-290b-59a4-96a5-53348288f6a9', 'min_tool_bb7e0385-0227-575a-9894-dacc8bf07f2a', 'min_tool_c7f536aa-a2fc-54b4-9b98-9f01793c9b5d', 'min_tool_d7291410-f34f-5cee-b3a1-0c60bb854423', 'min_tool_db66ded5-0f4f-5179-b8e7-4673304ddff1', 'min_tool_e4838ac1-3788-50bf-bbca-04cf339ec369', 'max_tool_08e35986-3a0a-5274-8990-4ad303be9d5f', 'max_tool_1914935a-df63-54c2-9c47-da905244e631', 'max_tool_1b314ddd-198a-5cd5-90ae-933b947d013d', 'max_tool_30476bd4-f093-56c9-8cd1-23cf7f39ce5f', 'max_tool_3cb39167-0519-578a-846d-7132592965d3', 'max_tool_4738fd3d-8fc7-59fd-85a7-eec6efb4bfae', 'max_tool_5116a75f-0543-502f-8278-2b2496d337d2', 'max_tool_683e5405-4b93-5160-be90-d3d5b0d9287a', 'max_tool_8060e8e1-504a-5138-a9f0-e2770bd61ba1', 'max_tool_8a1010f8-7e9e-52ba-8586-2eac7e68eaee', 'max_tool_a060c807-dbdb-5de3-9cd7-0c596234a3d7', 'max_tool_ac40636d-b491-5620-8d16-9aad56e5c4d3', 'max_tool_ad28cd71-3811-543c-80a1-a440468a49d7', 'max_tool_b3439d8e-290b-59a4-96a5-53348288f6a9', 'max_tool_bb7e0385-0227-575a-9894-dacc8bf07f2a', 'max_tool_c7f536aa-a2fc-54b4-9b98-9f01793c9b5d', 'max_tool_d7291410-f34f-5cee-b3a1-0c60bb854423', 'max_tool_db66ded5-0f4f-5179-b8e7-4673304ddff1', 'max_tool_e4838ac1-3788-50bf-bbca-04cf339ec369']\n"
          ]
        }
      ],
      "source": [
        "print(feat.columns.tolist())"
      ]
    },
    {
      "cell_type": "code",
      "execution_count": 145,
      "metadata": {},
      "outputs": [],
      "source": [
        "# 3. Combine with measurement targets\n",
        "df = meas_df.merge(feat, on=\"Run ID\", how=\"left\")\n",
        "\n",
        "# drop any runs with missing features (if any)\n",
        "df.dropna(inplace=True)"
      ]
    },
    {
      "cell_type": "code",
      "execution_count": 146,
      "metadata": {},
      "outputs": [
        {
          "name": "stdout",
          "output_type": "stream",
          "text": [
            "Datetime columns: ['Run Start Time', 'Run End Time']\n",
            "Training until validation scores don't improve for 50 rounds\n",
            "[100]\ttraining's rmse: 0.0419731\tvalid_1's rmse: 0.0423557\n",
            "[200]\ttraining's rmse: 0.0356027\tvalid_1's rmse: 0.0361797\n",
            "[300]\ttraining's rmse: 0.0329711\tvalid_1's rmse: 0.0336441\n",
            "[400]\ttraining's rmse: 0.0312856\tvalid_1's rmse: 0.0320542\n",
            "[500]\ttraining's rmse: 0.0301192\tvalid_1's rmse: 0.0309809\n",
            "[600]\ttraining's rmse: 0.0291384\tvalid_1's rmse: 0.0301056\n",
            "[700]\ttraining's rmse: 0.0283517\tvalid_1's rmse: 0.0294311\n",
            "[800]\ttraining's rmse: 0.0276755\tvalid_1's rmse: 0.0288779\n",
            "[900]\ttraining's rmse: 0.027037\tvalid_1's rmse: 0.028342\n",
            "[1000]\ttraining's rmse: 0.0264683\tvalid_1's rmse: 0.0278864\n",
            "Did not meet early stopping. Best iteration is:\n",
            "[1000]\ttraining's rmse: 0.0264683\tvalid_1's rmse: 0.0278864\n"
          ]
        }
      ],
      "source": [
        "# 4. Train/validation split\n",
        "X = df.drop(columns=[\"Run ID\", \"Measurement\"])\n",
        "y = df[\"Measurement\"]\n",
        "X_train, X_test, y_train, y_test = train_test_split(\n",
        "    X, y, test_size=0.2, random_state=42\n",
        ")\n",
        "# Check for datetime columns\n",
        "datetime_cols = X_train.select_dtypes(include=[\"datetime64\"]).columns\n",
        "print(\"Datetime columns:\", list(datetime_cols))\n",
        "\n",
        "# Drop datetime columns from both train and val\n",
        "X_train = X_train.drop(columns=datetime_cols)\n",
        "X_test = X_test.drop(columns=datetime_cols)\n",
        "X = X.drop(columns=datetime_cols)\n",
        "lgb_train = lgb.Dataset(X_train, y_train)\n",
        "lgb_val = lgb.Dataset(X_test, y_test, reference=lgb_train)\n",
        "\n",
        "params = {\n",
        "    \"objective\": \"regression\",\n",
        "    \"metric\": \"rmse\",\n",
        "    \"verbosity\": -1,\n",
        "    \"boosting_type\": \"gbdt\",\n",
        "    \"learning_rate\": 0.05,\n",
        "    \"num_leaves\": 31,\n",
        "    \"feature_fraction\": 0.9,\n",
        "    \"bagging_fraction\": 0.8,\n",
        "    \"bagging_freq\": 5,\n",
        "}\n",
        "\n",
        "lgb_model = lgb.train(\n",
        "    params,\n",
        "    lgb_train,\n",
        "    valid_sets=[lgb_train, lgb_val],\n",
        "    num_boost_round=1000,\n",
        "    callbacks=[\n",
        "        lgb.early_stopping(stopping_rounds=50),\n",
        "        lgb.log_evaluation(period=100)\n",
        "    ]\n",
        ")"
      ]
    },
    {
      "cell_type": "markdown",
      "metadata": {},
      "source": [
        "# Feature engineering - Process Step"
      ]
    },
    {
      "cell_type": "code",
      "execution_count": 147,
      "metadata": {},
      "outputs": [],
      "source": [
        "# 2. Feature engineering on run_df\n",
        "# 2d. Aggregate each process's series per run into summary stats\n",
        "agg_funcs = [\"mean\", \"std\", \"min\", \"max\"]\n",
        "proc_feats = (\n",
        "    run_df\n",
        "      .groupby([\"Run ID\", \"Process Step\"])[\"Sensor Value\"]\n",
        "      .agg(agg_funcs)\n",
        "      .unstack(fill_value=0)\n",
        ")\n",
        "# flatten column MultiIndex\n",
        "proc_feats.columns = [\n",
        "    f\"{proc}_proc_{stat}\" for proc, stat in proc_feats.columns\n",
        "]\n",
        "\n",
        "proc_feats.reset_index(inplace=True)\n",
        "feat = sensor_feats.merge(proc_feats, on=\"Run ID\")"
      ]
    },
    {
      "cell_type": "code",
      "execution_count": 148,
      "metadata": {},
      "outputs": [
        {
          "name": "stdout",
          "output_type": "stream",
          "text": [
            "['Run ID', 'mean_Sensor_A', 'mean_Sensor_B', 'mean_Sensor_C', 'mean_Sensor_D', 'mean_Sensor_E', 'mean_Sensor_F', 'mean_Sensor_G', 'mean_Sensor_H', 'mean_Sensor_I', 'mean_Sensor_J', 'mean_Sensor_K', 'mean_Sensor_L', 'mean_Sensor_M', 'mean_Sensor_N', 'mean_Sensor_O', 'std_Sensor_A', 'std_Sensor_B', 'std_Sensor_C', 'std_Sensor_D', 'std_Sensor_E', 'std_Sensor_F', 'std_Sensor_G', 'std_Sensor_H', 'std_Sensor_I', 'std_Sensor_J', 'std_Sensor_K', 'std_Sensor_L', 'std_Sensor_M', 'std_Sensor_N', 'std_Sensor_O', 'min_Sensor_A', 'min_Sensor_B', 'min_Sensor_C', 'min_Sensor_D', 'min_Sensor_E', 'min_Sensor_F', 'min_Sensor_G', 'min_Sensor_H', 'min_Sensor_I', 'min_Sensor_J', 'min_Sensor_K', 'min_Sensor_L', 'min_Sensor_M', 'min_Sensor_N', 'min_Sensor_O', 'max_Sensor_A', 'max_Sensor_B', 'max_Sensor_C', 'max_Sensor_D', 'max_Sensor_E', 'max_Sensor_F', 'max_Sensor_G', 'max_Sensor_H', 'max_Sensor_I', 'max_Sensor_J', 'max_Sensor_K', 'max_Sensor_L', 'max_Sensor_M', 'max_Sensor_N', 'max_Sensor_O', 'mean_proc_22c8716b-1c14-525a-8c0a-0473ec7aa99e', 'std_proc_22c8716b-1c14-525a-8c0a-0473ec7aa99e', 'min_proc_22c8716b-1c14-525a-8c0a-0473ec7aa99e', 'max_proc_22c8716b-1c14-525a-8c0a-0473ec7aa99e']\n"
          ]
        }
      ],
      "source": [
        "print(feat.columns.tolist())"
      ]
    },
    {
      "cell_type": "code",
      "execution_count": 149,
      "metadata": {},
      "outputs": [],
      "source": [
        "# 3. Combine with measurement targets\n",
        "df = meas_df.merge(feat, on=\"Run ID\", how=\"left\")\n",
        "\n",
        "# drop any runs with missing features (if any)\n",
        "df.dropna(inplace=True)"
      ]
    },
    {
      "cell_type": "code",
      "execution_count": 150,
      "metadata": {},
      "outputs": [
        {
          "name": "stdout",
          "output_type": "stream",
          "text": [
            "Datetime columns: ['Run Start Time', 'Run End Time']\n",
            "Training until validation scores don't improve for 50 rounds\n",
            "[100]\ttraining's rmse: 0.0421054\tvalid_1's rmse: 0.0425332\n",
            "[200]\ttraining's rmse: 0.0357002\tvalid_1's rmse: 0.0363375\n",
            "[300]\ttraining's rmse: 0.0329754\tvalid_1's rmse: 0.0337041\n",
            "[400]\ttraining's rmse: 0.0312496\tvalid_1's rmse: 0.0320979\n",
            "[500]\ttraining's rmse: 0.0299678\tvalid_1's rmse: 0.0309228\n",
            "[600]\ttraining's rmse: 0.028985\tvalid_1's rmse: 0.03005\n",
            "[700]\ttraining's rmse: 0.0282241\tvalid_1's rmse: 0.029412\n",
            "[800]\ttraining's rmse: 0.0275617\tvalid_1's rmse: 0.028875\n",
            "[900]\ttraining's rmse: 0.0269248\tvalid_1's rmse: 0.0283419\n",
            "[1000]\ttraining's rmse: 0.026331\tvalid_1's rmse: 0.0278597\n",
            "Did not meet early stopping. Best iteration is:\n",
            "[1000]\ttraining's rmse: 0.026331\tvalid_1's rmse: 0.0278597\n"
          ]
        }
      ],
      "source": [
        "# 4. Train/validation split\n",
        "X = df.drop(columns=[\"Run ID\", \"Measurement\"])\n",
        "y = df[\"Measurement\"]\n",
        "X_train, X_test, y_train, y_test = train_test_split(\n",
        "    X, y, test_size=0.2, random_state=42\n",
        ")\n",
        "# Check for datetime columns\n",
        "datetime_cols = X_train.select_dtypes(include=[\"datetime64\"]).columns\n",
        "print(\"Datetime columns:\", list(datetime_cols))\n",
        "\n",
        "# Drop datetime columns from both train and val\n",
        "X_train = X_train.drop(columns=datetime_cols)\n",
        "X_test = X_test.drop(columns=datetime_cols)\n",
        "X = X.drop(columns=datetime_cols)\n",
        "lgb_train = lgb.Dataset(X_train, y_train)\n",
        "lgb_val = lgb.Dataset(X_test, y_test, reference=lgb_train)\n",
        "\n",
        "params = {\n",
        "    \"objective\": \"regression\",\n",
        "    \"metric\": \"rmse\",\n",
        "    \"verbosity\": -1,\n",
        "    \"boosting_type\": \"gbdt\",\n",
        "    \"learning_rate\": 0.05,\n",
        "    \"num_leaves\": 31,\n",
        "    \"feature_fraction\": 0.9,\n",
        "    \"bagging_fraction\": 0.8,\n",
        "    \"bagging_freq\": 5,\n",
        "}\n",
        "\n",
        "lgb_model = lgb.train(\n",
        "    params,\n",
        "    lgb_train,\n",
        "    valid_sets=[lgb_train, lgb_val],\n",
        "    num_boost_round=1000,\n",
        "    callbacks=[\n",
        "        lgb.early_stopping(stopping_rounds=50),\n",
        "        lgb.log_evaluation(period=100)\n",
        "    ]\n",
        ")"
      ]
    },
    {
      "cell_type": "markdown",
      "metadata": {},
      "source": [
        "# Feature engineering - Step ID"
      ]
    },
    {
      "cell_type": "code",
      "execution_count": 151,
      "metadata": {},
      "outputs": [],
      "source": [
        "# 2. Feature engineering on run_df\n",
        "# 2e. Aggregate each step’s time series per run into summary stats\n",
        "agg_funcs = [\"mean\", \"std\", \"min\", \"max\"]\n",
        "step_feats = (\n",
        "    run_df\n",
        "      .groupby([\"Run ID\", \"Step ID\"])[\"Sensor Value\"]\n",
        "      .agg(agg_funcs)\n",
        "      .unstack(fill_value=0)\n",
        ")\n",
        "# flatten column MultiIndex\n",
        "step_feats.columns = [\n",
        "    f\"{step}_{stat}\" for step, stat in step_feats.columns\n",
        "]\n",
        "\n",
        "step_feats.reset_index(inplace=True)\n",
        "feat = sensor_feats.merge(step_feats, on=\"Run ID\")"
      ]
    },
    {
      "cell_type": "code",
      "execution_count": 152,
      "metadata": {},
      "outputs": [
        {
          "name": "stdout",
          "output_type": "stream",
          "text": [
            "['Run ID', 'mean_Sensor_A', 'mean_Sensor_B', 'mean_Sensor_C', 'mean_Sensor_D', 'mean_Sensor_E', 'mean_Sensor_F', 'mean_Sensor_G', 'mean_Sensor_H', 'mean_Sensor_I', 'mean_Sensor_J', 'mean_Sensor_K', 'mean_Sensor_L', 'mean_Sensor_M', 'mean_Sensor_N', 'mean_Sensor_O', 'std_Sensor_A', 'std_Sensor_B', 'std_Sensor_C', 'std_Sensor_D', 'std_Sensor_E', 'std_Sensor_F', 'std_Sensor_G', 'std_Sensor_H', 'std_Sensor_I', 'std_Sensor_J', 'std_Sensor_K', 'std_Sensor_L', 'std_Sensor_M', 'std_Sensor_N', 'std_Sensor_O', 'min_Sensor_A', 'min_Sensor_B', 'min_Sensor_C', 'min_Sensor_D', 'min_Sensor_E', 'min_Sensor_F', 'min_Sensor_G', 'min_Sensor_H', 'min_Sensor_I', 'min_Sensor_J', 'min_Sensor_K', 'min_Sensor_L', 'min_Sensor_M', 'min_Sensor_N', 'min_Sensor_O', 'max_Sensor_A', 'max_Sensor_B', 'max_Sensor_C', 'max_Sensor_D', 'max_Sensor_E', 'max_Sensor_F', 'max_Sensor_G', 'max_Sensor_H', 'max_Sensor_I', 'max_Sensor_J', 'max_Sensor_K', 'max_Sensor_L', 'max_Sensor_M', 'max_Sensor_N', 'max_Sensor_O', 'mean_Step_0', 'mean_Step_1', 'mean_Step_10', 'mean_Step_11', 'mean_Step_12', 'mean_Step_2', 'mean_Step_3', 'mean_Step_4', 'mean_Step_5', 'mean_Step_6', 'mean_Step_7', 'mean_Step_8', 'mean_Step_9', 'std_Step_0', 'std_Step_1', 'std_Step_10', 'std_Step_11', 'std_Step_12', 'std_Step_2', 'std_Step_3', 'std_Step_4', 'std_Step_5', 'std_Step_6', 'std_Step_7', 'std_Step_8', 'std_Step_9', 'min_Step_0', 'min_Step_1', 'min_Step_10', 'min_Step_11', 'min_Step_12', 'min_Step_2', 'min_Step_3', 'min_Step_4', 'min_Step_5', 'min_Step_6', 'min_Step_7', 'min_Step_8', 'min_Step_9', 'max_Step_0', 'max_Step_1', 'max_Step_10', 'max_Step_11', 'max_Step_12', 'max_Step_2', 'max_Step_3', 'max_Step_4', 'max_Step_5', 'max_Step_6', 'max_Step_7', 'max_Step_8', 'max_Step_9']\n"
          ]
        }
      ],
      "source": [
        "print(feat.columns.tolist())"
      ]
    },
    {
      "cell_type": "code",
      "execution_count": 153,
      "metadata": {},
      "outputs": [],
      "source": [
        "# 3. Combine with measurement targets\n",
        "df = meas_df.merge(feat, on=\"Run ID\", how=\"left\")\n",
        "\n",
        "# drop any runs with missing features (if any)\n",
        "df.dropna(inplace=True)"
      ]
    },
    {
      "cell_type": "code",
      "execution_count": 154,
      "metadata": {},
      "outputs": [
        {
          "name": "stdout",
          "output_type": "stream",
          "text": [
            "Datetime columns: ['Run Start Time', 'Run End Time']\n",
            "Training until validation scores don't improve for 50 rounds\n",
            "[100]\ttraining's rmse: 0.0385845\tvalid_1's rmse: 0.03903\n",
            "[200]\ttraining's rmse: 0.0329154\tvalid_1's rmse: 0.0335494\n",
            "[300]\ttraining's rmse: 0.0307654\tvalid_1's rmse: 0.0315609\n",
            "[400]\ttraining's rmse: 0.0293961\tvalid_1's rmse: 0.0303207\n",
            "[500]\ttraining's rmse: 0.0283966\tvalid_1's rmse: 0.0294416\n",
            "[600]\ttraining's rmse: 0.0275273\tvalid_1's rmse: 0.0287104\n",
            "[700]\ttraining's rmse: 0.02679\tvalid_1's rmse: 0.028126\n",
            "[800]\ttraining's rmse: 0.0261762\tvalid_1's rmse: 0.027639\n",
            "[900]\ttraining's rmse: 0.0255762\tvalid_1's rmse: 0.0271791\n",
            "[1000]\ttraining's rmse: 0.0250178\tvalid_1's rmse: 0.0267532\n",
            "Did not meet early stopping. Best iteration is:\n",
            "[1000]\ttraining's rmse: 0.0250178\tvalid_1's rmse: 0.0267532\n"
          ]
        }
      ],
      "source": [
        "# 4. Train/validation split\n",
        "X = df.drop(columns=[\"Run ID\", \"Measurement\"])\n",
        "y = df[\"Measurement\"]\n",
        "X_train, X_test, y_train, y_test = train_test_split(\n",
        "    X, y, test_size=0.2, random_state=42\n",
        ")\n",
        "# Check for datetime columns\n",
        "datetime_cols = X_train.select_dtypes(include=[\"datetime64\"]).columns\n",
        "print(\"Datetime columns:\", list(datetime_cols))\n",
        "\n",
        "# Drop datetime columns from both train and val\n",
        "X_train = X_train.drop(columns=datetime_cols)\n",
        "X_test = X_test.drop(columns=datetime_cols)\n",
        "X = X.drop(columns=datetime_cols)\n",
        "lgb_train = lgb.Dataset(X_train, y_train)\n",
        "lgb_val = lgb.Dataset(X_test, y_test, reference=lgb_train)\n",
        "\n",
        "params = {\n",
        "    \"objective\": \"regression\",\n",
        "    \"metric\": \"rmse\",\n",
        "    \"verbosity\": -1,\n",
        "    \"boosting_type\": \"gbdt\",\n",
        "    \"learning_rate\": 0.05,\n",
        "    \"num_leaves\": 31,\n",
        "    \"feature_fraction\": 0.9,\n",
        "    \"bagging_fraction\": 0.8,\n",
        "    \"bagging_freq\": 5,\n",
        "}\n",
        "\n",
        "lgb_model = lgb.train(\n",
        "    params,\n",
        "    lgb_train,\n",
        "    valid_sets=[lgb_train, lgb_val],\n",
        "    num_boost_round=1000,\n",
        "    callbacks=[\n",
        "        lgb.early_stopping(stopping_rounds=50),\n",
        "        lgb.log_evaluation(period=100)\n",
        "    ]\n",
        ")"
      ]
    },
    {
      "cell_type": "markdown",
      "metadata": {},
      "source": [
        "# Feature engineering - Radius"
      ]
    },
    {
      "cell_type": "code",
      "execution_count": 155,
      "metadata": {},
      "outputs": [
        {
          "name": "stdout",
          "output_type": "stream",
          "text": [
            "                                 Run ID      Run Start Time  \\\n",
            "0  00862337-2cc0-5b34-b5e1-45588e935c39 2024-01-02 04:45:25   \n",
            "1  00862337-2cc0-5b34-b5e1-45588e935c39 2024-01-02 04:45:25   \n",
            "2  00862337-2cc0-5b34-b5e1-45588e935c39 2024-01-02 04:45:25   \n",
            "3  00862337-2cc0-5b34-b5e1-45588e935c39 2024-01-02 04:45:25   \n",
            "4  00862337-2cc0-5b34-b5e1-45588e935c39 2024-01-02 04:45:25   \n",
            "\n",
            "         Run End Time  X_index  Y_index           X          Y  Point Index  \\\n",
            "0 2024-01-02 04:58:00        1       23 -143.877551  -9.183673            3   \n",
            "1 2024-01-02 04:58:00        1       29 -143.877551  27.551020           48   \n",
            "2 2024-01-02 04:58:00        2       34 -137.755102  58.163265           43   \n",
            "3 2024-01-02 04:58:00        3       14 -131.632653 -64.285714           20   \n",
            "4 2024-01-02 04:58:00        5       39 -119.387755  88.775510            8   \n",
            "\n",
            "   Measurement      radius  \n",
            "0    10.006534  144.170349  \n",
            "1    10.002181  146.491667  \n",
            "2    10.031223  149.530711  \n",
            "3    10.055888  146.491667  \n",
            "4    10.089505  148.776770  \n"
          ]
        }
      ],
      "source": [
        "# Create a 'radius' feature by calculating the distance between point to center of wafer\n",
        "import math\n",
        "\n",
        "def distance(row):\n",
        "     return math.sqrt(row['X']**2 + row['Y']**2)\n",
        "\n",
        "meas_df['radius'] = meas_df.apply(distance, axis = 1)\n",
        "\n",
        "print(meas_df.head())"
      ]
    },
    {
      "cell_type": "code",
      "execution_count": 31,
      "metadata": {},
      "outputs": [
        {
          "name": "stderr",
          "output_type": "stream",
          "text": [
            "C:\\Users\\felic\\AppData\\Local\\Temp\\ipykernel_32032\\2899005474.py:3: UserWarning: No artists with labels found to put in legend.  Note that artists whose label start with an underscore are ignored when legend() is called with no argument.\n",
            "  plt.legend(title=\"Category\", bbox_to_anchor=(1.05, 1), loc='upper left')\n"
          ]
        },
        {
          "data": {
            "image/png": "[encoded data removed]",
            "text/plain": [
              "<Figure size 800x600 with 1 Axes>"
            ]
          },
          "metadata": {},
          "output_type": "display_data"
        }
      ],
      "source": [
        "plt.figure(figsize=(8, 6))\n",
        "sns.scatterplot(x='radius', y='Measurement', data=meas_df)\n",
        "plt.legend(title=\"Category\", bbox_to_anchor=(1.05, 1), loc='upper left')\n",
        "plt.title(f\"Scatter Plot\")\n",
        "plt.show()"
      ]
    },
    {
      "cell_type": "code",
      "execution_count": 156,
      "metadata": {},
      "outputs": [],
      "source": [
        "# 3. Combine with measurement targets\n",
        "df = meas_df.merge(sensor_feats, on=\"Run ID\", how=\"left\")\n",
        "\n",
        "# drop any runs with missing features (if any)\n",
        "df.dropna(inplace=True)"
      ]
    },
    {
      "cell_type": "code",
      "execution_count": 157,
      "metadata": {},
      "outputs": [
        {
          "name": "stdout",
          "output_type": "stream",
          "text": [
            "Datetime columns: ['Run Start Time', 'Run End Time']\n",
            "Training until validation scores don't improve for 50 rounds\n",
            "[100]\ttraining's rmse: 0.0420681\tvalid_1's rmse: 0.0424774\n",
            "[200]\ttraining's rmse: 0.0357581\tvalid_1's rmse: 0.0363352\n",
            "[300]\ttraining's rmse: 0.0330078\tvalid_1's rmse: 0.0336914\n",
            "[400]\ttraining's rmse: 0.0313162\tvalid_1's rmse: 0.0321341\n",
            "[500]\ttraining's rmse: 0.0300465\tvalid_1's rmse: 0.0309523\n",
            "[600]\ttraining's rmse: 0.029046\tvalid_1's rmse: 0.0300476\n",
            "[700]\ttraining's rmse: 0.0282041\tvalid_1's rmse: 0.0293317\n",
            "[800]\ttraining's rmse: 0.0275182\tvalid_1's rmse: 0.0287393\n",
            "[900]\ttraining's rmse: 0.0268723\tvalid_1's rmse: 0.0282007\n",
            "[1000]\ttraining's rmse: 0.0263075\tvalid_1's rmse: 0.0277426\n",
            "Did not meet early stopping. Best iteration is:\n",
            "[1000]\ttraining's rmse: 0.0263075\tvalid_1's rmse: 0.0277426\n"
          ]
        }
      ],
      "source": [
        "# 4. Train/validation split\n",
        "X = df.drop(columns=[\"Run ID\", \"Measurement\"])\n",
        "y = df[\"Measurement\"]\n",
        "X_train, X_test, y_train, y_test = train_test_split(\n",
        "    X, y, test_size=0.2, random_state=42\n",
        ")\n",
        "# Check for datetime columns\n",
        "datetime_cols = X_train.select_dtypes(include=[\"datetime64\"]).columns\n",
        "print(\"Datetime columns:\", list(datetime_cols))\n",
        "\n",
        "# Drop datetime columns from both train and val\n",
        "X_train = X_train.drop(columns=datetime_cols)\n",
        "X_test = X_test.drop(columns=datetime_cols)\n",
        "X = X.drop(columns=datetime_cols)\n",
        "lgb_train = lgb.Dataset(X_train, y_train)\n",
        "lgb_val = lgb.Dataset(X_test, y_test, reference=lgb_train)\n",
        "\n",
        "params = {\n",
        "    \"objective\": \"regression\",\n",
        "    \"metric\": \"rmse\",\n",
        "    \"verbosity\": -1,\n",
        "    \"boosting_type\": \"gbdt\",\n",
        "    \"learning_rate\": 0.05,\n",
        "    \"num_leaves\": 31,\n",
        "    \"feature_fraction\": 0.9,\n",
        "    \"bagging_fraction\": 0.8,\n",
        "    \"bagging_freq\": 5,\n",
        "}\n",
        "\n",
        "lgb_model = lgb.train(\n",
        "    params,\n",
        "    lgb_train,\n",
        "    valid_sets=[lgb_train, lgb_val],\n",
        "    num_boost_round=1000,\n",
        "    callbacks=[\n",
        "        lgb.early_stopping(stopping_rounds=50),\n",
        "        lgb.log_evaluation(period=100)\n",
        "    ]\n",
        ")"
      ]
    },
    {
      "cell_type": "markdown",
      "metadata": {},
      "source": [
        "# Feature engineering - angle"
      ]
    },
    {
      "cell_type": "code",
      "execution_count": 158,
      "metadata": {},
      "outputs": [
        {
          "name": "stdout",
          "output_type": "stream",
          "text": [
            "                                 Run ID      Run Start Time  \\\n",
            "0  00862337-2cc0-5b34-b5e1-45588e935c39 2024-01-02 04:45:25   \n",
            "1  00862337-2cc0-5b34-b5e1-45588e935c39 2024-01-02 04:45:25   \n",
            "2  00862337-2cc0-5b34-b5e1-45588e935c39 2024-01-02 04:45:25   \n",
            "3  00862337-2cc0-5b34-b5e1-45588e935c39 2024-01-02 04:45:25   \n",
            "4  00862337-2cc0-5b34-b5e1-45588e935c39 2024-01-02 04:45:25   \n",
            "\n",
            "         Run End Time  X_index  Y_index           X          Y  Point Index  \\\n",
            "0 2024-01-02 04:58:00        1       23 -143.877551  -9.183673            3   \n",
            "1 2024-01-02 04:58:00        1       29 -143.877551  27.551020           48   \n",
            "2 2024-01-02 04:58:00        2       34 -137.755102  58.163265           43   \n",
            "3 2024-01-02 04:58:00        3       14 -131.632653 -64.285714           20   \n",
            "4 2024-01-02 04:58:00        5       39 -119.387755  88.775510            8   \n",
            "\n",
            "   Measurement      radius     theta   theta_deg  \n",
            "0    10.006534  144.170349 -3.077849  183.652223  \n",
            "1    10.002181  146.491667  2.952394  169.159695  \n",
            "2    10.031223  149.530711  2.742077  157.109448  \n",
            "3    10.055888  146.491667 -2.687291  206.029592  \n",
            "4    10.089505  148.776770  2.502207  143.365886  \n"
          ]
        }
      ],
      "source": [
        "# Create a 'angle' feature\n",
        "meas_df['theta'] = np.arctan2(meas_df['Y'], meas_df['X'])  # Radians\n",
        "meas_df['theta_deg'] = np.degrees(meas_df['theta'])  # 0–360 degrees\n",
        "meas_df['theta_deg'] = (meas_df['theta_deg'] + 360) % 360  # Final: [0, 360)\n",
        "\n",
        "print(meas_df.head())"
      ]
    },
    {
      "cell_type": "code",
      "execution_count": 159,
      "metadata": {},
      "outputs": [],
      "source": [
        "# 3. Combine with measurement targets\n",
        "df = meas_df.merge(sensor_feats, on=\"Run ID\", how=\"left\")\n",
        "\n",
        "# drop any runs with missing features (if any)\n",
        "df.dropna(inplace=True)"
      ]
    },
    {
      "cell_type": "code",
      "execution_count": 160,
      "metadata": {},
      "outputs": [
        {
          "name": "stdout",
          "output_type": "stream",
          "text": [
            "Datetime columns: ['Run Start Time', 'Run End Time']\n",
            "Training until validation scores don't improve for 50 rounds\n",
            "[100]\ttraining's rmse: 0.0420383\tvalid_1's rmse: 0.0424481\n",
            "[200]\ttraining's rmse: 0.0356481\tvalid_1's rmse: 0.0362328\n",
            "[300]\ttraining's rmse: 0.0329591\tvalid_1's rmse: 0.0336516\n",
            "[400]\ttraining's rmse: 0.0312377\tvalid_1's rmse: 0.0320598\n",
            "[500]\ttraining's rmse: 0.0300104\tvalid_1's rmse: 0.0309605\n",
            "[600]\ttraining's rmse: 0.0290037\tvalid_1's rmse: 0.0300674\n",
            "[700]\ttraining's rmse: 0.0281958\tvalid_1's rmse: 0.0293969\n",
            "[800]\ttraining's rmse: 0.0274843\tvalid_1's rmse: 0.0287979\n",
            "[900]\ttraining's rmse: 0.0268272\tvalid_1's rmse: 0.0282606\n",
            "[1000]\ttraining's rmse: 0.02623\tvalid_1's rmse: 0.0277587\n",
            "Did not meet early stopping. Best iteration is:\n",
            "[1000]\ttraining's rmse: 0.02623\tvalid_1's rmse: 0.0277587\n"
          ]
        }
      ],
      "source": [
        "\n",
        "# 4. Train/validation split\n",
        "X = df.drop(columns=[\"Run ID\", \"Measurement\"])\n",
        "y = df[\"Measurement\"]\n",
        "X_train, X_test, y_train, y_test = train_test_split(\n",
        "    X, y, test_size=0.2, random_state=42\n",
        ")\n",
        "# Check for datetime columns\n",
        "datetime_cols = X_train.select_dtypes(include=[\"datetime64\"]).columns\n",
        "print(\"Datetime columns:\", list(datetime_cols))\n",
        "\n",
        "# Drop datetime columns from both train and val\n",
        "X_train = X_train.drop(columns=datetime_cols)\n",
        "X_test = X_test.drop(columns=datetime_cols)\n",
        "X = X.drop(columns=datetime_cols)\n",
        "lgb_train = lgb.Dataset(X_train, y_train)\n",
        "lgb_val = lgb.Dataset(X_test, y_test, reference=lgb_train)\n",
        "\n",
        "params = {\n",
        "    \"objective\": \"regression\",\n",
        "    \"metric\": \"rmse\",\n",
        "    \"verbosity\": -1,\n",
        "    \"boosting_type\": \"gbdt\",\n",
        "    \"learning_rate\": 0.05,\n",
        "    \"num_leaves\": 31,\n",
        "    \"feature_fraction\": 0.9,\n",
        "    \"bagging_fraction\": 0.8,\n",
        "    \"bagging_freq\": 5,\n",
        "}\n",
        "\n",
        "lgb_model = lgb.train(\n",
        "    params,\n",
        "    lgb_train,\n",
        "    valid_sets=[lgb_train, lgb_val],\n",
        "    num_boost_round=1000,\n",
        "    callbacks=[\n",
        "        lgb.early_stopping(stopping_rounds=50),\n",
        "        lgb.log_evaluation(period=100)\n",
        "    ]\n",
        ")"
      ]
    },
    {
      "cell_type": "code",
      "execution_count": 161,
      "metadata": {},
      "outputs": [],
      "source": [
        "# meas_df['angle_bin'] = pd.cut(meas_df['theta_deg'], bins=12, labels=False)"
      ]
    },
    {
      "cell_type": "markdown",
      "metadata": {},
      "source": [
        "# Model statistics"
      ]
    },
    {
      "cell_type": "code",
      "execution_count": 162,
      "metadata": {
        "colab": {
          "base_uri": "https://localhost:8080/",
          "height": 458
        },
        "id": "emZ09MBPZLgL",
        "outputId": "99829142-7803-4438-a4b1-48466e00f296"
      },
      "outputs": [
        {
          "name": "stdout",
          "output_type": "stream",
          "text": [
            "Measurement      1.000000\n",
            "mean_Sensor_N    0.755044\n",
            "std_Sensor_N     0.752535\n",
            "min_Sensor_N     0.749013\n",
            "max_Sensor_N     0.741277\n",
            "                   ...   \n",
            "radius          -0.088230\n",
            "theta_deg       -0.171080\n",
            "std_Sensor_E    -0.200163\n",
            "mean_Sensor_E   -0.201605\n",
            "max_Sensor_E    -0.206962\n",
            "Name: Measurement, Length: 69, dtype: float64\n"
          ]
        }
      ],
      "source": [
        "corr_matrix = df.corr(numeric_only=True)[\"Measurement\"].sort_values(ascending=False)\n",
        "print(corr_matrix)"
      ]
    },
    {
      "cell_type": "code",
      "execution_count": 163,
      "metadata": {},
      "outputs": [
        {
          "data": {
            "image/png": "[encoded data removed]",
            "text/plain": [
              "<Figure size 1000x500 with 1 Axes>"
            ]
          },
          "metadata": {},
          "output_type": "display_data"
        }
      ],
      "source": [
        "# Select top 30 most correlated features (excluding \"Measurement\" if needed)\n",
        "top_10 = corr_matrix.nlargest(30)\n",
        "\n",
        "# Plot bar chart\n",
        "plt.figure(figsize=(10, 5))\n",
        "top_10.plot(kind=\"bar\", color=\"skyblue\")\n",
        "plt.xlabel(\"Features\")\n",
        "plt.ylabel(\"Correlation Value\")\n",
        "plt.title(\"Top 10 Most Correlated Features\")\n",
        "plt.xticks(rotation=45)\n",
        "plt.show()"
      ]
    },
    {
      "cell_type": "code",
      "execution_count": 35,
      "metadata": {},
      "outputs": [],
      "source": [
        "# for run_id in run_df['Run ID'].unique():\n",
        "#     subset_df = meas_df[meas_df['Run ID'] == run_id]  # Filter data for each Run ID\n",
        "\n",
        "#     sensor_name = 'mean_Sensor_N'\n",
        "\n",
        "#     plt.figure(figsize=(8, 5))\n",
        "#     sns.scatterplot(data=subset_df, x=sensor_name, y='Measurement')\n",
        "#     plt.title(f\"Scatterplot of {sensor_name}\")\n",
        "#     plt.xticks(rotation=45)\n",
        "#     plt.tight_layout()\n",
        "#     plt.show()"
      ]
    },
    {
      "cell_type": "markdown",
      "metadata": {},
      "source": [
        "# Model Comparison\n",
        "\n",
        "Models tested:\n",
        "1. Lightgbm\n",
        "2. Random Forest\n",
        "3. Xboost\n",
        "4. Catboost"
      ]
    },
    {
      "cell_type": "code",
      "execution_count": null,
      "metadata": {
        "id": "FPXqdFznvcQS"
      },
      "outputs": [],
      "source": [
        "# # 4. Train/validation split\n",
        "# X = df.drop(columns=[\"Run ID\", \"Measurement\"])\n",
        "# y = df[\"Measurement\"]\n",
        "# X_train, X_test, y_train, y_test = train_test_split(\n",
        "#     X, y, test_size=0.2, random_state=42\n",
        "# )"
      ]
    },
    {
      "cell_type": "code",
      "execution_count": null,
      "metadata": {
        "colab": {
          "base_uri": "https://localhost:8080/"
        },
        "id": "PJNgdHa40j_E",
        "outputId": "b8fba384-87b9-4eaa-881f-cd59cfbbd75c"
      },
      "outputs": [
        {
          "name": "stdout",
          "output_type": "stream",
          "text": [
            "Datetime columns: ['Run Start Time', 'Run End Time']\n"
          ]
        }
      ],
      "source": [
        "# # Check for datetime columns\n",
        "# datetime_cols = X_train.select_dtypes(include=[\"datetime64\"]).columns\n",
        "# print(\"Datetime columns:\", list(datetime_cols))\n",
        "\n",
        "# # Drop datetime columns from both train and val\n",
        "# X_train = X_train.drop(columns=datetime_cols)\n",
        "# X_test = X_test.drop(columns=datetime_cols)\n",
        "# X = X.drop(columns=datetime_cols)"
      ]
    },
    {
      "cell_type": "code",
      "execution_count": null,
      "metadata": {},
      "outputs": [
        {
          "name": "stdout",
          "output_type": "stream",
          "text": [
            "Training until validation scores don't improve for 50 rounds\n",
            "[100]\ttraining's rmse: 0.0341947\tvalid_1's rmse: 0.0346612\n",
            "[200]\ttraining's rmse: 0.0260171\tvalid_1's rmse: 0.0266078\n",
            "[300]\ttraining's rmse: 0.0231499\tvalid_1's rmse: 0.0237888\n",
            "[400]\ttraining's rmse: 0.021395\tvalid_1's rmse: 0.0221187\n",
            "[500]\ttraining's rmse: 0.0201823\tvalid_1's rmse: 0.0209932\n",
            "[600]\ttraining's rmse: 0.0192969\tvalid_1's rmse: 0.0201924\n",
            "[700]\ttraining's rmse: 0.0184081\tvalid_1's rmse: 0.0193893\n",
            "[800]\ttraining's rmse: 0.0176633\tvalid_1's rmse: 0.0187254\n",
            "[900]\ttraining's rmse: 0.0170621\tvalid_1's rmse: 0.0182005\n",
            "[1000]\ttraining's rmse: 0.0164161\tvalid_1's rmse: 0.0176256\n",
            "Did not meet early stopping. Best iteration is:\n",
            "[1000]\ttraining's rmse: 0.0164161\tvalid_1's rmse: 0.0176256\n"
          ]
        }
      ],
      "source": [
        "# lgb_train = lgb.Dataset(X_train, y_train)\n",
        "# lgb_val = lgb.Dataset(X_test, y_test, reference=lgb_train)\n",
        "\n",
        "# params = {\n",
        "#     \"objective\": \"regression\",\n",
        "#     \"metric\": \"rmse\",\n",
        "#     \"verbosity\": -1,\n",
        "#     \"boosting_type\": \"gbdt\",\n",
        "#     \"learning_rate\": 0.05,\n",
        "#     \"num_leaves\": 31,\n",
        "#     \"feature_fraction\": 0.9,\n",
        "#     \"bagging_fraction\": 0.8,\n",
        "#     \"bagging_freq\": 5,\n",
        "# }\n",
        "\n",
        "# lgb_model = lgb.train(\n",
        "#     params,\n",
        "#     lgb_train,\n",
        "#     valid_sets=[lgb_train, lgb_val],\n",
        "#     num_boost_round=1000,\n",
        "#     callbacks=[\n",
        "#         lgb.early_stopping(stopping_rounds=50),\n",
        "#         lgb.log_evaluation(period=100)\n",
        "#     ]\n",
        "# )"
      ]
    },
    {
      "cell_type": "code",
      "execution_count": 165,
      "metadata": {},
      "outputs": [
        {
          "name": "stdout",
          "output_type": "stream",
          "text": [
            "Validation RMSE: 0.0278\n"
          ]
        }
      ],
      "source": [
        "# 6. Evaluate on validation set\n",
        "y_pred = lgb_model.predict(X_test)\n",
        "\n",
        "val_rmse = np.sqrt(mean_squared_error(y_test, y_pred))\n",
        "print(f\"Validation RMSE: {val_rmse:.4f}\")"
      ]
    },
    {
      "cell_type": "code",
      "execution_count": 166,
      "metadata": {
        "colab": {
          "base_uri": "https://localhost:8080/",
          "height": 206
        },
        "id": "UAJJkGmrZpXI",
        "outputId": "b622247f-234e-45a8-e44e-389695a700ea"
      },
      "outputs": [
        {
          "data": {
            "text/html": [
              "<div>\n",
              "<style scoped>\n",
              "    .dataframe tbody tr th:only-of-type {\n",
              "        vertical-align: middle;\n",
              "    }\n",
              "\n",
              "    .dataframe tbody tr th {\n",
              "        vertical-align: top;\n",
              "    }\n",
              "\n",
              "    .dataframe thead th {\n",
              "        text-align: right;\n",
              "    }\n",
              "</style>\n",
              "<table border=\"1\" class=\"dataframe\">\n",
              "  <thead>\n",
              "    <tr style=\"text-align: right;\">\n",
              "      <th></th>\n",
              "      <th>Actual</th>\n",
              "      <th>Predicted</th>\n",
              "    </tr>\n",
              "  </thead>\n",
              "  <tbody>\n",
              "    <tr>\n",
              "      <th>73554</th>\n",
              "      <td>10.078344</td>\n",
              "      <td>10.089874</td>\n",
              "    </tr>\n",
              "    <tr>\n",
              "      <th>140000</th>\n",
              "      <td>10.262311</td>\n",
              "      <td>10.232155</td>\n",
              "    </tr>\n",
              "    <tr>\n",
              "      <th>78039</th>\n",
              "      <td>10.278650</td>\n",
              "      <td>10.312206</td>\n",
              "    </tr>\n",
              "    <tr>\n",
              "      <th>68565</th>\n",
              "      <td>10.516511</td>\n",
              "      <td>10.499757</td>\n",
              "    </tr>\n",
              "    <tr>\n",
              "      <th>4904</th>\n",
              "      <td>10.272160</td>\n",
              "      <td>10.210401</td>\n",
              "    </tr>\n",
              "    <tr>\n",
              "      <th>...</th>\n",
              "      <td>...</td>\n",
              "      <td>...</td>\n",
              "    </tr>\n",
              "    <tr>\n",
              "      <th>106757</th>\n",
              "      <td>10.165335</td>\n",
              "      <td>10.144683</td>\n",
              "    </tr>\n",
              "    <tr>\n",
              "      <th>18042</th>\n",
              "      <td>10.283431</td>\n",
              "      <td>10.296572</td>\n",
              "    </tr>\n",
              "    <tr>\n",
              "      <th>40749</th>\n",
              "      <td>10.221261</td>\n",
              "      <td>10.252228</td>\n",
              "    </tr>\n",
              "    <tr>\n",
              "      <th>116080</th>\n",
              "      <td>10.291652</td>\n",
              "      <td>10.370327</td>\n",
              "    </tr>\n",
              "    <tr>\n",
              "      <th>96174</th>\n",
              "      <td>10.085090</td>\n",
              "      <td>10.034800</td>\n",
              "    </tr>\n",
              "  </tbody>\n",
              "</table>\n",
              "<p>40572 rows × 2 columns</p>\n",
              "</div>"
            ],
            "text/plain": [
              "           Actual  Predicted\n",
              "73554   10.078344  10.089874\n",
              "140000  10.262311  10.232155\n",
              "78039   10.278650  10.312206\n",
              "68565   10.516511  10.499757\n",
              "4904    10.272160  10.210401\n",
              "...           ...        ...\n",
              "106757  10.165335  10.144683\n",
              "18042   10.283431  10.296572\n",
              "40749   10.221261  10.252228\n",
              "116080  10.291652  10.370327\n",
              "96174   10.085090  10.034800\n",
              "\n",
              "[40572 rows x 2 columns]"
            ]
          },
          "execution_count": 166,
          "metadata": {},
          "output_type": "execute_result"
        }
      ],
      "source": [
        "pred_val_df = pd.DataFrame({'Actual': y_test, 'Predicted': y_pred})\n",
        "pred_val_df"
      ]
    },
    {
      "cell_type": "code",
      "execution_count": 167,
      "metadata": {},
      "outputs": [],
      "source": [
        "result_df = X_test"
      ]
    },
    {
      "cell_type": "code",
      "execution_count": 168,
      "metadata": {},
      "outputs": [
        {
          "data": {
            "text/html": [
              "<div>\n",
              "<style scoped>\n",
              "    .dataframe tbody tr th:only-of-type {\n",
              "        vertical-align: middle;\n",
              "    }\n",
              "\n",
              "    .dataframe tbody tr th {\n",
              "        vertical-align: top;\n",
              "    }\n",
              "\n",
              "    .dataframe thead th {\n",
              "        text-align: right;\n",
              "    }\n",
              "</style>\n",
              "<table border=\"1\" class=\"dataframe\">\n",
              "  <thead>\n",
              "    <tr style=\"text-align: right;\">\n",
              "      <th></th>\n",
              "      <th>X_index</th>\n",
              "      <th>Y_index</th>\n",
              "      <th>X</th>\n",
              "      <th>Y</th>\n",
              "      <th>Point Index</th>\n",
              "      <th>radius</th>\n",
              "      <th>theta</th>\n",
              "      <th>theta_deg</th>\n",
              "      <th>mean_Sensor_A</th>\n",
              "      <th>mean_Sensor_B</th>\n",
              "      <th>...</th>\n",
              "      <th>max_Sensor_F</th>\n",
              "      <th>max_Sensor_G</th>\n",
              "      <th>max_Sensor_H</th>\n",
              "      <th>max_Sensor_I</th>\n",
              "      <th>max_Sensor_J</th>\n",
              "      <th>max_Sensor_K</th>\n",
              "      <th>max_Sensor_L</th>\n",
              "      <th>max_Sensor_M</th>\n",
              "      <th>max_Sensor_N</th>\n",
              "      <th>max_Sensor_O</th>\n",
              "    </tr>\n",
              "  </thead>\n",
              "  <tbody>\n",
              "    <tr>\n",
              "      <th>73554</th>\n",
              "      <td>6</td>\n",
              "      <td>30</td>\n",
              "      <td>-113.265306</td>\n",
              "      <td>33.673469</td>\n",
              "      <td>19</td>\n",
              "      <td>118.164851</td>\n",
              "      <td>2.852617</td>\n",
              "      <td>163.442929</td>\n",
              "      <td>0.000143</td>\n",
              "      <td>-297.231415</td>\n",
              "      <td>...</td>\n",
              "      <td>183.577850</td>\n",
              "      <td>86.601707</td>\n",
              "      <td>518.925964</td>\n",
              "      <td>452.806061</td>\n",
              "      <td>478.137451</td>\n",
              "      <td>21.718397</td>\n",
              "      <td>6.970377</td>\n",
              "      <td>1144.356445</td>\n",
              "      <td>1116.233276</td>\n",
              "      <td>1062.888428</td>\n",
              "    </tr>\n",
              "    <tr>\n",
              "      <th>140000</th>\n",
              "      <td>8</td>\n",
              "      <td>21</td>\n",
              "      <td>-101.020408</td>\n",
              "      <td>-21.428571</td>\n",
              "      <td>25</td>\n",
              "      <td>103.268129</td>\n",
              "      <td>-2.932570</td>\n",
              "      <td>191.976132</td>\n",
              "      <td>-0.002533</td>\n",
              "      <td>-9.216879</td>\n",
              "      <td>...</td>\n",
              "      <td>218.756165</td>\n",
              "      <td>94.101883</td>\n",
              "      <td>625.340698</td>\n",
              "      <td>471.250916</td>\n",
              "      <td>535.451904</td>\n",
              "      <td>26.182415</td>\n",
              "      <td>8.378400</td>\n",
              "      <td>1358.719727</td>\n",
              "      <td>1176.073853</td>\n",
              "      <td>1179.185181</td>\n",
              "    </tr>\n",
              "    <tr>\n",
              "      <th>78039</th>\n",
              "      <td>31</td>\n",
              "      <td>9</td>\n",
              "      <td>39.795918</td>\n",
              "      <td>-94.897959</td>\n",
              "      <td>27</td>\n",
              "      <td>102.904508</td>\n",
              "      <td>-1.173717</td>\n",
              "      <td>292.750976</td>\n",
              "      <td>0.000623</td>\n",
              "      <td>-99.556618</td>\n",
              "      <td>...</td>\n",
              "      <td>232.248138</td>\n",
              "      <td>95.310860</td>\n",
              "      <td>622.986145</td>\n",
              "      <td>545.873718</td>\n",
              "      <td>565.722168</td>\n",
              "      <td>21.767286</td>\n",
              "      <td>7.182114</td>\n",
              "      <td>1370.022705</td>\n",
              "      <td>1335.115845</td>\n",
              "      <td>1256.692993</td>\n",
              "    </tr>\n",
              "    <tr>\n",
              "      <th>68565</th>\n",
              "      <td>15</td>\n",
              "      <td>32</td>\n",
              "      <td>-58.163265</td>\n",
              "      <td>45.918367</td>\n",
              "      <td>11</td>\n",
              "      <td>74.104399</td>\n",
              "      <td>2.473303</td>\n",
              "      <td>141.709837</td>\n",
              "      <td>0.000233</td>\n",
              "      <td>-279.141266</td>\n",
              "      <td>...</td>\n",
              "      <td>234.843735</td>\n",
              "      <td>94.416145</td>\n",
              "      <td>600.645020</td>\n",
              "      <td>546.604614</td>\n",
              "      <td>575.759094</td>\n",
              "      <td>20.750326</td>\n",
              "      <td>6.247921</td>\n",
              "      <td>1328.529907</td>\n",
              "      <td>1339.991333</td>\n",
              "      <td>1278.631836</td>\n",
              "    </tr>\n",
              "    <tr>\n",
              "      <th>4904</th>\n",
              "      <td>5</td>\n",
              "      <td>39</td>\n",
              "      <td>-119.387755</td>\n",
              "      <td>88.775510</td>\n",
              "      <td>8</td>\n",
              "      <td>148.776770</td>\n",
              "      <td>2.502207</td>\n",
              "      <td>143.365886</td>\n",
              "      <td>-0.003017</td>\n",
              "      <td>201.786697</td>\n",
              "      <td>...</td>\n",
              "      <td>245.438873</td>\n",
              "      <td>93.784103</td>\n",
              "      <td>604.963623</td>\n",
              "      <td>560.675964</td>\n",
              "      <td>557.374939</td>\n",
              "      <td>18.804510</td>\n",
              "      <td>5.540261</td>\n",
              "      <td>1339.687134</td>\n",
              "      <td>1366.213623</td>\n",
              "      <td>1243.964111</td>\n",
              "    </tr>\n",
              "  </tbody>\n",
              "</table>\n",
              "<p>5 rows × 68 columns</p>\n",
              "</div>"
            ],
            "text/plain": [
              "        X_index  Y_index           X          Y  Point Index      radius  \\\n",
              "73554         6       30 -113.265306  33.673469           19  118.164851   \n",
              "140000        8       21 -101.020408 -21.428571           25  103.268129   \n",
              "78039        31        9   39.795918 -94.897959           27  102.904508   \n",
              "68565        15       32  -58.163265  45.918367           11   74.104399   \n",
              "4904          5       39 -119.387755  88.775510            8  148.776770   \n",
              "\n",
              "           theta   theta_deg  mean_Sensor_A  mean_Sensor_B  ...  max_Sensor_F  \\\n",
              "73554   2.852617  163.442929       0.000143    -297.231415  ...    183.577850   \n",
              "140000 -2.932570  191.976132      -0.002533      -9.216879  ...    218.756165   \n",
              "78039  -1.173717  292.750976       0.000623     -99.556618  ...    232.248138   \n",
              "68565   2.473303  141.709837       0.000233    -279.141266  ...    234.843735   \n",
              "4904    2.502207  143.365886      -0.003017     201.786697  ...    245.438873   \n",
              "\n",
              "        max_Sensor_G  max_Sensor_H  max_Sensor_I  max_Sensor_J  max_Sensor_K  \\\n",
              "73554      86.601707    518.925964    452.806061    478.137451     21.718397   \n",
              "140000     94.101883    625.340698    471.250916    535.451904     26.182415   \n",
              "78039      95.310860    622.986145    545.873718    565.722168     21.767286   \n",
              "68565      94.416145    600.645020    546.604614    575.759094     20.750326   \n",
              "4904       93.784103    604.963623    560.675964    557.374939     18.804510   \n",
              "\n",
              "        max_Sensor_L  max_Sensor_M  max_Sensor_N  max_Sensor_O  \n",
              "73554       6.970377   1144.356445   1116.233276   1062.888428  \n",
              "140000      8.378400   1358.719727   1176.073853   1179.185181  \n",
              "78039       7.182114   1370.022705   1335.115845   1256.692993  \n",
              "68565       6.247921   1328.529907   1339.991333   1278.631836  \n",
              "4904        5.540261   1339.687134   1366.213623   1243.964111  \n",
              "\n",
              "[5 rows x 68 columns]"
            ]
          },
          "execution_count": 168,
          "metadata": {},
          "output_type": "execute_result"
        }
      ],
      "source": [
        "result_df.head()"
      ]
    },
    {
      "cell_type": "code",
      "execution_count": 169,
      "metadata": {},
      "outputs": [],
      "source": [
        "result_df['Actual'] = y_test\n",
        "result_df['Predicted'] = y_pred"
      ]
    },
    {
      "cell_type": "code",
      "execution_count": 170,
      "metadata": {},
      "outputs": [],
      "source": [
        "result_df['abs_error'] = (result_df['Actual'] - result_df['Predicted']).abs()\n",
        "result_df['squared_error'] = (result_df['Actual'] - result_df['Predicted']) ** 2"
      ]
    },
    {
      "cell_type": "code",
      "execution_count": 173,
      "metadata": {},
      "outputs": [
        {
          "data": {
            "image/png": "[encoded data removed]",
            "text/plain": [
              "<Figure size 1400x600 with 2 Axes>"
            ]
          },
          "metadata": {},
          "output_type": "display_data"
        }
      ],
      "source": [
        "# Create subplots (1 row, 2 columns)\n",
        "fig, axes = plt.subplots(1, 2, figsize=(14, 6), sharex=True, sharey=True)\n",
        "\n",
        "# Plot Actual\n",
        "sns.scatterplot(ax=axes[0], x='X', y='Y', hue='Actual', palette='coolwarm', data=result_df)\n",
        "axes[0].set_title('Actual')\n",
        "axes[0].legend(title=\"Category\", bbox_to_anchor=(1.05, 1), loc='upper left')\n",
        "\n",
        "# Plot Predicted\n",
        "sns.scatterplot(ax=axes[1], x='X', y='Y', hue='Predicted', palette='coolwarm', data=result_df)\n",
        "axes[1].set_title('Predicted')\n",
        "axes[1].legend(title=\"Category\", bbox_to_anchor=(1.05, 1), loc='upper left')\n",
        "\n",
        "# Layout adjustment\n",
        "plt.tight_layout()\n",
        "plt.show()"
      ]
    },
    {
      "cell_type": "code",
      "execution_count": 175,
      "metadata": {},
      "outputs": [
        {
          "data": {
            "image/png": "[encoded data removed]",
            "text/plain": [
              "<Figure size 1400x600 with 2 Axes>"
            ]
          },
          "metadata": {},
          "output_type": "display_data"
        }
      ],
      "source": [
        "# Create subplots (1 row, 2 columns)\n",
        "fig, axes = plt.subplots(1, 2, figsize=(14, 6), sharex=True, sharey=True)\n",
        "\n",
        "# Plot Actual\n",
        "sns.scatterplot(ax=axes[0], x='X', y='Y', hue='abs_error', palette='coolwarm', data=result_df)\n",
        "axes[0].set_title('Absolute Error')\n",
        "axes[0].legend(title=\"Category\", bbox_to_anchor=(1.05, 1), loc='upper left')\n",
        "\n",
        "# Plot Predicted\n",
        "sns.scatterplot(ax=axes[1], x='X', y='Y', hue='squared_error', palette='coolwarm', data=result_df)\n",
        "axes[1].set_title('Squared Error')\n",
        "axes[1].legend(title=\"Category\", bbox_to_anchor=(1.05, 1), loc='upper left')\n",
        "\n",
        "# Layout adjustment\n",
        "plt.tight_layout()\n",
        "plt.show()"
      ]
    },
    {
      "cell_type": "code",
      "execution_count": 164,
      "metadata": {},
      "outputs": [
        {
          "data": {
            "image/png": "[encoded data removed]",
            "text/plain": [
              "<Figure size 800x600 with 1 Axes>"
            ]
          },
          "metadata": {},
          "output_type": "display_data"
        }
      ],
      "source": [
        "# Get feature importance scores\n",
        "feature_importance = lgb_model.feature_importance(importance_type='gain')  # Or use 'split'\n",
        "feature_names = lgb_model.feature_name()\n",
        "\n",
        "# Create DataFrame for sorting\n",
        "importance_df = pd.DataFrame({'Feature': feature_names, 'Importance': feature_importance})\n",
        "\n",
        "# Sort and select top 10\n",
        "top_features = importance_df.sort_values(by='Importance', ascending=False).head(20)\n",
        "\n",
        "plt.figure(figsize=(8, 6))\n",
        "plt.barh(top_features['Feature'], top_features['Importance'], color='royalblue')\n",
        "plt.xlabel(\"Importance Score\")\n",
        "plt.ylabel(\"Feature\")\n",
        "plt.title(\"Top 20 Most Important Features in LightGBM\")\n",
        "plt.gca().invert_yaxis()  # Ensures highest importance is at the top\n",
        "plt.show()"
      ]
    },
    {
      "cell_type": "code",
      "execution_count": 125,
      "metadata": {},
      "outputs": [],
      "source": [
        "reg = RandomForestRegressor(n_estimators=100, max_depth=5, random_state=42)\n",
        "reg.fit(X_train, y_train)\n",
        "\n",
        "# Make predictions\n",
        "y_pred = reg.predict(X_test)"
      ]
    },
    {
      "cell_type": "code",
      "execution_count": 126,
      "metadata": {},
      "outputs": [
        {
          "name": "stdout",
          "output_type": "stream",
          "text": [
            "Regression RMSE: 0.0697\n"
          ]
        }
      ],
      "source": [
        "# Evaluate performance\n",
        "rmse = np.sqrt(mean_squared_error(y_test, y_pred))\n",
        "print(f\"Regression RMSE: {rmse:.4f}\")"
      ]
    },
    {
      "cell_type": "code",
      "execution_count": 127,
      "metadata": {},
      "outputs": [
        {
          "data": {
            "text/html": [
              "<div>\n",
              "<style scoped>\n",
              "    .dataframe tbody tr th:only-of-type {\n",
              "        vertical-align: middle;\n",
              "    }\n",
              "\n",
              "    .dataframe tbody tr th {\n",
              "        vertical-align: top;\n",
              "    }\n",
              "\n",
              "    .dataframe thead th {\n",
              "        text-align: right;\n",
              "    }\n",
              "</style>\n",
              "<table border=\"1\" class=\"dataframe\">\n",
              "  <thead>\n",
              "    <tr style=\"text-align: right;\">\n",
              "      <th></th>\n",
              "      <th>Actual</th>\n",
              "      <th>Predicted</th>\n",
              "    </tr>\n",
              "  </thead>\n",
              "  <tbody>\n",
              "    <tr>\n",
              "      <th>73554</th>\n",
              "      <td>10.078344</td>\n",
              "      <td>10.063186</td>\n",
              "    </tr>\n",
              "    <tr>\n",
              "      <th>140000</th>\n",
              "      <td>10.262311</td>\n",
              "      <td>10.232466</td>\n",
              "    </tr>\n",
              "    <tr>\n",
              "      <th>78039</th>\n",
              "      <td>10.278650</td>\n",
              "      <td>10.467647</td>\n",
              "    </tr>\n",
              "    <tr>\n",
              "      <th>68565</th>\n",
              "      <td>10.516511</td>\n",
              "      <td>10.481716</td>\n",
              "    </tr>\n",
              "    <tr>\n",
              "      <th>4904</th>\n",
              "      <td>10.272160</td>\n",
              "      <td>10.248366</td>\n",
              "    </tr>\n",
              "  </tbody>\n",
              "</table>\n",
              "</div>"
            ],
            "text/plain": [
              "           Actual  Predicted\n",
              "73554   10.078344  10.063186\n",
              "140000  10.262311  10.232466\n",
              "78039   10.278650  10.467647\n",
              "68565   10.516511  10.481716\n",
              "4904    10.272160  10.248366"
            ]
          },
          "execution_count": 127,
          "metadata": {},
          "output_type": "execute_result"
        }
      ],
      "source": [
        "pred_val_df = pd.DataFrame({'Actual': y_test, 'Predicted': y_pred})\n",
        "pred_val_df.head()"
      ]
    },
    {
      "cell_type": "code",
      "execution_count": 129,
      "metadata": {},
      "outputs": [
        {
          "name": "stderr",
          "output_type": "stream",
          "text": [
            "c:\\Users\\felic\\anaconda3\\lib\\site-packages\\xgboost\\core.py:158: UserWarning: [01:30:21] WARNING: C:\\buildkite-agent\\builds\\buildkite-windows-cpu-autoscaling-group-i-08cbc0333d8d4aae1-1\\xgboost\\xgboost-ci-windows\\src\\learner.cc:740: \n",
            "Parameters: { \"use_label_encoder\" } are not used.\n",
            "\n",
            "  warnings.warn(smsg, UserWarning)\n"
          ]
        },
        {
          "data": {
            "text/plain": [
              "XGBRegressor(base_score=None, booster=None, callbacks=None,\n",
              "             colsample_bylevel=None, colsample_bynode=None,\n",
              "             colsample_bytree=None, device=None, early_stopping_rounds=None,\n",
              "             enable_categorical=False, eval_metric=None, feature_types=None,\n",
              "             gamma=None, grow_policy=None, importance_type=None,\n",
              "             interaction_constraints=None, learning_rate=0.1, max_bin=None,\n",
              "             max_cat_threshold=None, max_cat_to_onehot=None,\n",
              "             max_delta_step=None, max_depth=3, max_leaves=None,\n",
              "             min_child_weight=None, missing=nan, monotone_constraints=None,\n",
              "             multi_strategy=None, n_estimators=100, n_jobs=None,\n",
              "             num_parallel_tree=None, random_state=None, ...)"
            ]
          },
          "execution_count": 129,
          "metadata": {},
          "output_type": "execute_result"
        }
      ],
      "source": [
        "# Initialize XGBoost classifier\n",
        "xgb_model = xgb.XGBRegressor(n_estimators=100, learning_rate=0.1, max_depth=3, use_label_encoder=False)\n",
        "\n",
        "# Train model\n",
        "xgb_model.fit(X_train, y_train)"
      ]
    },
    {
      "cell_type": "code",
      "execution_count": 130,
      "metadata": {},
      "outputs": [
        {
          "name": "stdout",
          "output_type": "stream",
          "text": [
            "Regression RMSE: 0.0408\n"
          ]
        }
      ],
      "source": [
        "# Make predictions\n",
        "y_pred = xgb_model.predict(X_test)\n",
        "\n",
        "# Evaluate performance\n",
        "rmse = np.sqrt(mean_squared_error(y_test, y_pred))\n",
        "print(f\"Regression RMSE: {rmse:.4f}\")"
      ]
    },
    {
      "cell_type": "code",
      "execution_count": 131,
      "metadata": {},
      "outputs": [
        {
          "data": {
            "text/html": [
              "<div>\n",
              "<style scoped>\n",
              "    .dataframe tbody tr th:only-of-type {\n",
              "        vertical-align: middle;\n",
              "    }\n",
              "\n",
              "    .dataframe tbody tr th {\n",
              "        vertical-align: top;\n",
              "    }\n",
              "\n",
              "    .dataframe thead th {\n",
              "        text-align: right;\n",
              "    }\n",
              "</style>\n",
              "<table border=\"1\" class=\"dataframe\">\n",
              "  <thead>\n",
              "    <tr style=\"text-align: right;\">\n",
              "      <th></th>\n",
              "      <th>Actual</th>\n",
              "      <th>Predicted</th>\n",
              "    </tr>\n",
              "  </thead>\n",
              "  <tbody>\n",
              "    <tr>\n",
              "      <th>73554</th>\n",
              "      <td>10.078344</td>\n",
              "      <td>10.098116</td>\n",
              "    </tr>\n",
              "    <tr>\n",
              "      <th>140000</th>\n",
              "      <td>10.262311</td>\n",
              "      <td>10.263518</td>\n",
              "    </tr>\n",
              "    <tr>\n",
              "      <th>78039</th>\n",
              "      <td>10.278650</td>\n",
              "      <td>10.339909</td>\n",
              "    </tr>\n",
              "    <tr>\n",
              "      <th>68565</th>\n",
              "      <td>10.516511</td>\n",
              "      <td>10.480553</td>\n",
              "    </tr>\n",
              "    <tr>\n",
              "      <th>4904</th>\n",
              "      <td>10.272160</td>\n",
              "      <td>10.245234</td>\n",
              "    </tr>\n",
              "  </tbody>\n",
              "</table>\n",
              "</div>"
            ],
            "text/plain": [
              "           Actual  Predicted\n",
              "73554   10.078344  10.098116\n",
              "140000  10.262311  10.263518\n",
              "78039   10.278650  10.339909\n",
              "68565   10.516511  10.480553\n",
              "4904    10.272160  10.245234"
            ]
          },
          "execution_count": 131,
          "metadata": {},
          "output_type": "execute_result"
        }
      ],
      "source": [
        "pred_val_df = pd.DataFrame({'Actual': y_test, 'Predicted': y_pred})\n",
        "pred_val_df.head()"
      ]
    },
    {
      "cell_type": "code",
      "execution_count": 133,
      "metadata": {},
      "outputs": [
        {
          "data": {
            "text/plain": [
              "LinearRegression()"
            ]
          },
          "execution_count": 133,
          "metadata": {},
          "output_type": "execute_result"
        }
      ],
      "source": [
        "# Initialize and train the model\n",
        "lr_model = LinearRegression()\n",
        "lr_model.fit(X_train, y_train)"
      ]
    },
    {
      "cell_type": "code",
      "execution_count": 134,
      "metadata": {},
      "outputs": [
        {
          "name": "stdout",
          "output_type": "stream",
          "text": [
            "Regression RMSE: 0.0797\n"
          ]
        }
      ],
      "source": [
        "# Predict on test set\n",
        "y_pred = lr_model.predict(X_test)\n",
        "\n",
        "# Evaluate performance\n",
        "rmse = np.sqrt(mean_squared_error(y_test, y_pred))\n",
        "print(f\"Regression RMSE: {rmse:.4f}\")"
      ]
    },
    {
      "cell_type": "code",
      "execution_count": 135,
      "metadata": {},
      "outputs": [
        {
          "data": {
            "text/html": [
              "<div>\n",
              "<style scoped>\n",
              "    .dataframe tbody tr th:only-of-type {\n",
              "        vertical-align: middle;\n",
              "    }\n",
              "\n",
              "    .dataframe tbody tr th {\n",
              "        vertical-align: top;\n",
              "    }\n",
              "\n",
              "    .dataframe thead th {\n",
              "        text-align: right;\n",
              "    }\n",
              "</style>\n",
              "<table border=\"1\" class=\"dataframe\">\n",
              "  <thead>\n",
              "    <tr style=\"text-align: right;\">\n",
              "      <th></th>\n",
              "      <th>Actual</th>\n",
              "      <th>Predicted</th>\n",
              "    </tr>\n",
              "  </thead>\n",
              "  <tbody>\n",
              "    <tr>\n",
              "      <th>73554</th>\n",
              "      <td>10.078344</td>\n",
              "      <td>10.100561</td>\n",
              "    </tr>\n",
              "    <tr>\n",
              "      <th>140000</th>\n",
              "      <td>10.262311</td>\n",
              "      <td>10.177456</td>\n",
              "    </tr>\n",
              "    <tr>\n",
              "      <th>78039</th>\n",
              "      <td>10.278650</td>\n",
              "      <td>10.354008</td>\n",
              "    </tr>\n",
              "    <tr>\n",
              "      <th>68565</th>\n",
              "      <td>10.516511</td>\n",
              "      <td>10.410074</td>\n",
              "    </tr>\n",
              "    <tr>\n",
              "      <th>4904</th>\n",
              "      <td>10.272160</td>\n",
              "      <td>10.357307</td>\n",
              "    </tr>\n",
              "  </tbody>\n",
              "</table>\n",
              "</div>"
            ],
            "text/plain": [
              "           Actual  Predicted\n",
              "73554   10.078344  10.100561\n",
              "140000  10.262311  10.177456\n",
              "78039   10.278650  10.354008\n",
              "68565   10.516511  10.410074\n",
              "4904    10.272160  10.357307"
            ]
          },
          "execution_count": 135,
          "metadata": {},
          "output_type": "execute_result"
        }
      ],
      "source": [
        "pred_val_df = pd.DataFrame({'Actual': y_test, 'Predicted': y_pred})\n",
        "pred_val_df.head()"
      ]
    },
    {
      "cell_type": "code",
      "execution_count": 137,
      "metadata": {},
      "outputs": [
        {
          "data": {
            "text/plain": [
              "<catboost.core.CatBoostRegressor at 0x22ff4273d60>"
            ]
          },
          "execution_count": 137,
          "metadata": {},
          "output_type": "execute_result"
        }
      ],
      "source": [
        "# Initialize CatBoost model\n",
        "cat_model = CatBoostRegressor(iterations=100, learning_rate=0.1, depth=6, verbose=0)\n",
        "\n",
        "# Train the model\n",
        "cat_model.fit(X_train, y_train)"
      ]
    },
    {
      "cell_type": "code",
      "execution_count": 139,
      "metadata": {},
      "outputs": [
        {
          "name": "stdout",
          "output_type": "stream",
          "text": [
            "CatBoost Regression RMSE: 0.0330\n"
          ]
        }
      ],
      "source": [
        "# Predict\n",
        "y_pred = cat_model.predict(X_test)\n",
        "\n",
        "# Evaluate with RMSE\n",
        "rmse = np.sqrt(mean_squared_error(y_test, y_pred))\n",
        "print(f\"CatBoost Regression RMSE: {rmse:.4f}\")"
      ]
    },
    {
      "cell_type": "code",
      "execution_count": 140,
      "metadata": {},
      "outputs": [
        {
          "data": {
            "text/html": [
              "<div>\n",
              "<style scoped>\n",
              "    .dataframe tbody tr th:only-of-type {\n",
              "        vertical-align: middle;\n",
              "    }\n",
              "\n",
              "    .dataframe tbody tr th {\n",
              "        vertical-align: top;\n",
              "    }\n",
              "\n",
              "    .dataframe thead th {\n",
              "        text-align: right;\n",
              "    }\n",
              "</style>\n",
              "<table border=\"1\" class=\"dataframe\">\n",
              "  <thead>\n",
              "    <tr style=\"text-align: right;\">\n",
              "      <th></th>\n",
              "      <th>Actual</th>\n",
              "      <th>Predicted</th>\n",
              "    </tr>\n",
              "  </thead>\n",
              "  <tbody>\n",
              "    <tr>\n",
              "      <th>73554</th>\n",
              "      <td>10.078344</td>\n",
              "      <td>10.099280</td>\n",
              "    </tr>\n",
              "    <tr>\n",
              "      <th>140000</th>\n",
              "      <td>10.262311</td>\n",
              "      <td>10.250333</td>\n",
              "    </tr>\n",
              "    <tr>\n",
              "      <th>78039</th>\n",
              "      <td>10.278650</td>\n",
              "      <td>10.333260</td>\n",
              "    </tr>\n",
              "    <tr>\n",
              "      <th>68565</th>\n",
              "      <td>10.516511</td>\n",
              "      <td>10.493247</td>\n",
              "    </tr>\n",
              "    <tr>\n",
              "      <th>4904</th>\n",
              "      <td>10.272160</td>\n",
              "      <td>10.234824</td>\n",
              "    </tr>\n",
              "  </tbody>\n",
              "</table>\n",
              "</div>"
            ],
            "text/plain": [
              "           Actual  Predicted\n",
              "73554   10.078344  10.099280\n",
              "140000  10.262311  10.250333\n",
              "78039   10.278650  10.333260\n",
              "68565   10.516511  10.493247\n",
              "4904    10.272160  10.234824"
            ]
          },
          "execution_count": 140,
          "metadata": {},
          "output_type": "execute_result"
        }
      ],
      "source": [
        "pred_val_df = pd.DataFrame({'Actual': y_test, 'Predicted': y_pred})\n",
        "pred_val_df.head()"
      ]
    },
    {
      "cell_type": "code",
      "execution_count": null,
      "metadata": {
        "id": "hNySjn_kvcX1"
      },
      "outputs": [],
      "source": [
        "# 7. Retrain on full dataset and prepare test submission\n",
        "# (Assumes you have test_run_df & test_meas_df)\n",
        "# test_sensor = (\n",
        "#     test_run_df\n",
        "#       .groupby([\"RunId\",\"SensorName\"])[\"SensorValue\"]\n",
        "#       .agg(agg_funcs)\n",
        "#       .unstack(fill_value=0)\n",
        "# )\n",
        "# test_sensor.columns = [f\"{s}_{st}\" for s, st in test_sensor.columns]\n",
        "# test_sensor.reset_index(inplace=True)\n",
        "# test_life = test_run_df.groupby(\"RunId\")[\"ConsumableLife\"].max().reset_index()\n",
        "# test_feat = test_sensor.merge(test_life, on=\"RunId\")\n",
        "# test_df = test_meas_df.merge(test_feat, on=\"RunId\", how=\"left\")\n",
        "#\n",
        "# # retrain on all\n",
        "# full_model = best_model.fit(X, y)\n",
        "# test_pred   = full_model.predict(test_df.drop(columns=[\"RunId\",\"X\",\"Y\"]))\n",
        "#\n",
        "# submission = test_df[[\"RunId\",\"X\",\"Y\"]].copy()\n",
        "# submission[\"Measurement\"] = test_pred\n",
        "# submission.to_csv(\"submission.csv\", index=False)"
      ]
    }
  ],
  "metadata": {
    "colab": {
      "provenance": []
    },
    "kernelspec": {
      "display_name": "base",
      "language": "python",
      "name": "python3"
    },
    "language_info": {
      "codemirror_mode": {
        "name": "ipython",
        "version": 3
      },
      "file_extension": ".py",
      "mimetype": "text/x-python",
      "name": "python",
      "nbconvert_exporter": "python",
      "pygments_lexer": "ipython3",
      "version": "3.12.8"
    }
  },
  "nbformat": 4,
  "nbformat_minor": 0
}
