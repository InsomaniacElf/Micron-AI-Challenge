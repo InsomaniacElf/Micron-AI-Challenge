{
  "cells": [
    {
      "cell_type": "code",
      "execution_count": 9,
      "metadata": {
        "colab": {
          "base_uri": "https://localhost:8080/"
        },
        "id": "KE-jHLM3ykNN",
        "outputId": "439f7e88-4a38-4489-9bc7-f90f6b3787bf"
      },
      "outputs": [
        {
          "name": "stdout",
          "output_type": "stream",
          "text": [
            "Collecting pyarrow\n",
            "  Downloading pyarrow-20.0.0-cp312-cp312-win_amd64.whl.metadata (3.4 kB)\n",
            "Requirement already satisfied: pandas in c:\\users\\felic\\miniconda3\\lib\\site-packages (2.2.3)\n",
            "Requirement already satisfied: numpy>=1.26.0 in c:\\users\\felic\\miniconda3\\lib\\site-packages (from pandas) (2.2.3)\n",
            "Requirement already satisfied: python-dateutil>=2.8.2 in c:\\users\\felic\\miniconda3\\lib\\site-packages (from pandas) (2.9.0.post0)\n",
            "Requirement already satisfied: pytz>=2020.1 in c:\\users\\felic\\miniconda3\\lib\\site-packages (from pandas) (2025.1)\n",
            "Requirement already satisfied: tzdata>=2022.7 in c:\\users\\felic\\miniconda3\\lib\\site-packages (from pandas) (2025.1)\n",
            "Requirement already satisfied: six>=1.5 in c:\\users\\felic\\miniconda3\\lib\\site-packages (from python-dateutil>=2.8.2->pandas) (1.17.0)\n",
            "Downloading pyarrow-20.0.0-cp312-cp312-win_amd64.whl (25.7 MB)\n",
            "   ---------------------------------------- 0.0/25.7 MB ? eta -:--:--\n",
            "   ------------ --------------------------- 7.9/25.7 MB 37.4 MB/s eta 0:00:01\n",
            "   -------------------------------- ------- 21.0/25.7 MB 49.1 MB/s eta 0:00:01\n",
            "   ---------------------------------------  25.4/25.7 MB 46.0 MB/s eta 0:00:01\n",
            "   ---------------------------------------- 25.7/25.7 MB 36.1 MB/s eta 0:00:00\n",
            "Installing collected packages: pyarrow\n",
            "Successfully installed pyarrow-20.0.0\n",
            "Note: you may need to restart the kernel to use updated packages.\n"
          ]
        }
      ],
      "source": [
        "%pip install pyarrow pandas"
      ]
    },
    {
      "cell_type": "code",
      "execution_count": 2,
      "metadata": {},
      "outputs": [
        {
          "name": "stdout",
          "output_type": "stream",
          "text": [
            "Collecting lightgbmNote: you may need to restart the kernel to use updated packages.\n",
            "\n",
            "  Using cached lightgbm-4.6.0-py3-none-win_amd64.whl.metadata (17 kB)\n",
            "Requirement already satisfied: numpy>=1.17.0 in c:\\users\\felic\\miniconda3\\lib\\site-packages (from lightgbm) (2.2.3)\n",
            "Requirement already satisfied: scipy in c:\\users\\felic\\miniconda3\\lib\\site-packages (from lightgbm) (1.15.2)\n",
            "Using cached lightgbm-4.6.0-py3-none-win_amd64.whl (1.5 MB)\n",
            "Installing collected packages: lightgbm\n",
            "Successfully installed lightgbm-4.6.0\n"
          ]
        }
      ],
      "source": [
        "%pip install lightgbm"
      ]
    },
    {
      "cell_type": "code",
      "execution_count": null,
      "metadata": {},
      "outputs": [],
      "source": [
        "%pip install xgboost"
      ]
    },
    {
      "cell_type": "code",
      "execution_count": null,
      "metadata": {},
      "outputs": [],
      "source": [
        "%pip install catboost"
      ]
    },
    {
      "cell_type": "code",
      "execution_count": null,
      "metadata": {
        "id": "XJsYYrbYu41f"
      },
      "outputs": [],
      "source": [
        "import pandas as pd\n",
        "import numpy as np\n",
        "from sklearn.model_selection import train_test_split, GridSearchCV\n",
        "from sklearn.metrics import root_mean_squared_error\n",
        "import lightgbm as lgb\n",
        "import glob\n",
        "import matplotlib.pyplot as plt\n",
        "import seaborn as sns"
      ]
    },
    {
      "cell_type": "code",
      "execution_count": 2,
      "metadata": {
        "colab": {
          "base_uri": "https://localhost:8080/"
        },
        "id": "11D41IKEyAVW",
        "outputId": "6c267d95-082f-47c4-a2a5-39067ee0473f"
      },
      "outputs": [
        {
          "name": "stdout",
          "output_type": "stream",
          "text": [
            "Current working directory: c:\\Users\\felic\\Downloads\\MicronDataChallenge\n"
          ]
        }
      ],
      "source": [
        "import os\n",
        "current_dir = os.getcwd()\n",
        "print(f\"Current working directory: {current_dir}\")"
      ]
    },
    {
      "cell_type": "code",
      "execution_count": 3,
      "metadata": {},
      "outputs": [],
      "source": [
        "# List all Parquet files in a directory\n",
        "file_list = glob.glob(\"./train/metrology_data*.parquet\")\n",
        "\n",
        "# Read and concatenate all Parquet files\n",
        "meas_df = pd.concat([pd.read_parquet(file) for file in file_list])\n",
        "\n",
        "# Save to a new Parquet file\n",
        "meas_df.to_parquet(\"meas_combined.parquet\", index=False)"
      ]
    },
    {
      "cell_type": "code",
      "execution_count": 4,
      "metadata": {},
      "outputs": [],
      "source": [
        "# List all Parquet files in a directory\n",
        "file_list = glob.glob(\"./train/run_data_*.parquet\")\n",
        "\n",
        "# Read and concatenate all Parquet files\n",
        "run_df = pd.concat([pd.read_parquet(file) for file in file_list])\n",
        "\n",
        "# Save to a new Parquet file\n",
        "run_df.to_parquet(\"run_combined.parquet\", index=False)"
      ]
    },
    {
      "cell_type": "code",
      "execution_count": 5,
      "metadata": {},
      "outputs": [],
      "source": [
        "# List all Parquet files in a directory\n",
        "file_list = glob.glob(\"./train/incoming_run_data_*.parquet\")\n",
        "\n",
        "# Read and concatenate all Parquet files\n",
        "incom_df = pd.concat([pd.read_parquet(file) for file in file_list])\n",
        "\n",
        "# Save to a new Parquet file\n",
        "incom_df.to_parquet(\"incom_run_combined.parquet\", index=False)"
      ]
    },
    {
      "cell_type": "code",
      "execution_count": 3,
      "metadata": {
        "id": "baGLur7tykSr"
      },
      "outputs": [],
      "source": [
        "meas_df      = pd.read_parquet(\"meas_combined.parquet\")"
      ]
    },
    {
      "cell_type": "code",
      "execution_count": 4,
      "metadata": {
        "id": "OJ8F_TZRykVR"
      },
      "outputs": [],
      "source": [
        "incom_run_df  = pd.read_parquet(\"incom_run_combined.parquet\")"
      ]
    },
    {
      "cell_type": "code",
      "execution_count": 5,
      "metadata": {
        "id": "p7BncmkPwWxc"
      },
      "outputs": [],
      "source": [
        "run_df       = pd.read_parquet(\"run_combined.parquet\")"
      ]
    },
    {
      "cell_type": "code",
      "execution_count": 6,
      "metadata": {
        "colab": {
          "base_uri": "https://localhost:8080/"
        },
        "id": "0Zv0QhL7u7W4",
        "outputId": "a57fb5dc-75e1-4ada-d60d-506f569eee2c"
      },
      "outputs": [
        {
          "name": "stdout",
          "output_type": "stream",
          "text": [
            "Runs: (41220750, 10), Incoming Runs: (82896506, 9), Measurements: (202860, 9)\n"
          ]
        }
      ],
      "source": [
        "print(f\"Runs: {run_df.shape}, Incoming Runs: {incom_run_df.shape}, Measurements: {meas_df.shape}\")"
      ]
    },
    {
      "cell_type": "code",
      "execution_count": 7,
      "metadata": {
        "colab": {
          "base_uri": "https://localhost:8080/",
          "height": 327
        },
        "id": "q22qvmXszGsE",
        "outputId": "3f904413-819f-44b9-dcf8-66e5740b71c2"
      },
      "outputs": [
        {
          "data": {
            "text/html": [
              "<div>\n",
              "<style scoped>\n",
              "    .dataframe tbody tr th:only-of-type {\n",
              "        vertical-align: middle;\n",
              "    }\n",
              "\n",
              "    .dataframe tbody tr th {\n",
              "        vertical-align: top;\n",
              "    }\n",
              "\n",
              "    .dataframe thead th {\n",
              "        text-align: right;\n",
              "    }\n",
              "</style>\n",
              "<table border=\"1\" class=\"dataframe\">\n",
              "  <thead>\n",
              "    <tr style=\"text-align: right;\">\n",
              "      <th></th>\n",
              "      <th>Tool ID</th>\n",
              "      <th>Run Start Time</th>\n",
              "      <th>Run End Time</th>\n",
              "      <th>Run ID</th>\n",
              "      <th>Process Step</th>\n",
              "      <th>Consumable Life</th>\n",
              "      <th>Step ID</th>\n",
              "      <th>Time Stamp</th>\n",
              "      <th>Sensor Name</th>\n",
              "      <th>Sensor Value</th>\n",
              "    </tr>\n",
              "  </thead>\n",
              "  <tbody>\n",
              "    <tr>\n",
              "      <th>0</th>\n",
              "      <td>8060e8e1-504a-5138-a9f0-e2770bd61ba1</td>\n",
              "      <td>2024-01-01</td>\n",
              "      <td>2024-01-01 00:12:35</td>\n",
              "      <td>6515456b-05d4-5e6d-b42a-7652a8d671a4</td>\n",
              "      <td>22c8716b-1c14-525a-8c0a-0473ec7aa99e</td>\n",
              "      <td>370.7229</td>\n",
              "      <td>Step_0</td>\n",
              "      <td>2024-01-01 00:00:00.000000000</td>\n",
              "      <td>Sensor_A</td>\n",
              "      <td>-0.061105</td>\n",
              "    </tr>\n",
              "    <tr>\n",
              "      <th>1</th>\n",
              "      <td>8060e8e1-504a-5138-a9f0-e2770bd61ba1</td>\n",
              "      <td>2024-01-01</td>\n",
              "      <td>2024-01-01 00:12:35</td>\n",
              "      <td>6515456b-05d4-5e6d-b42a-7652a8d671a4</td>\n",
              "      <td>22c8716b-1c14-525a-8c0a-0473ec7aa99e</td>\n",
              "      <td>370.7229</td>\n",
              "      <td>Step_0</td>\n",
              "      <td>2024-01-01 00:00:01.000000002</td>\n",
              "      <td>Sensor_A</td>\n",
              "      <td>-0.040894</td>\n",
              "    </tr>\n",
              "    <tr>\n",
              "      <th>2</th>\n",
              "      <td>8060e8e1-504a-5138-a9f0-e2770bd61ba1</td>\n",
              "      <td>2024-01-01</td>\n",
              "      <td>2024-01-01 00:12:35</td>\n",
              "      <td>6515456b-05d4-5e6d-b42a-7652a8d671a4</td>\n",
              "      <td>22c8716b-1c14-525a-8c0a-0473ec7aa99e</td>\n",
              "      <td>370.7229</td>\n",
              "      <td>Step_0</td>\n",
              "      <td>2024-01-01 00:00:01.999999997</td>\n",
              "      <td>Sensor_A</td>\n",
              "      <td>0.005357</td>\n",
              "    </tr>\n",
              "    <tr>\n",
              "      <th>3</th>\n",
              "      <td>8060e8e1-504a-5138-a9f0-e2770bd61ba1</td>\n",
              "      <td>2024-01-01</td>\n",
              "      <td>2024-01-01 00:12:35</td>\n",
              "      <td>6515456b-05d4-5e6d-b42a-7652a8d671a4</td>\n",
              "      <td>22c8716b-1c14-525a-8c0a-0473ec7aa99e</td>\n",
              "      <td>370.7229</td>\n",
              "      <td>Step_1</td>\n",
              "      <td>2024-01-01 00:00:03.000000000</td>\n",
              "      <td>Sensor_A</td>\n",
              "      <td>-0.029941</td>\n",
              "    </tr>\n",
              "    <tr>\n",
              "      <th>4</th>\n",
              "      <td>8060e8e1-504a-5138-a9f0-e2770bd61ba1</td>\n",
              "      <td>2024-01-01</td>\n",
              "      <td>2024-01-01 00:12:35</td>\n",
              "      <td>6515456b-05d4-5e6d-b42a-7652a8d671a4</td>\n",
              "      <td>22c8716b-1c14-525a-8c0a-0473ec7aa99e</td>\n",
              "      <td>370.7229</td>\n",
              "      <td>Step_1</td>\n",
              "      <td>2024-01-01 00:00:04.000000002</td>\n",
              "      <td>Sensor_A</td>\n",
              "      <td>-0.098098</td>\n",
              "    </tr>\n",
              "  </tbody>\n",
              "</table>\n",
              "</div>"
            ],
            "text/plain": [
              "                                Tool ID Run Start Time        Run End Time  \\\n",
              "0  8060e8e1-504a-5138-a9f0-e2770bd61ba1     2024-01-01 2024-01-01 00:12:35   \n",
              "1  8060e8e1-504a-5138-a9f0-e2770bd61ba1     2024-01-01 2024-01-01 00:12:35   \n",
              "2  8060e8e1-504a-5138-a9f0-e2770bd61ba1     2024-01-01 2024-01-01 00:12:35   \n",
              "3  8060e8e1-504a-5138-a9f0-e2770bd61ba1     2024-01-01 2024-01-01 00:12:35   \n",
              "4  8060e8e1-504a-5138-a9f0-e2770bd61ba1     2024-01-01 2024-01-01 00:12:35   \n",
              "\n",
              "                                 Run ID                          Process Step  \\\n",
              "0  6515456b-05d4-5e6d-b42a-7652a8d671a4  22c8716b-1c14-525a-8c0a-0473ec7aa99e   \n",
              "1  6515456b-05d4-5e6d-b42a-7652a8d671a4  22c8716b-1c14-525a-8c0a-0473ec7aa99e   \n",
              "2  6515456b-05d4-5e6d-b42a-7652a8d671a4  22c8716b-1c14-525a-8c0a-0473ec7aa99e   \n",
              "3  6515456b-05d4-5e6d-b42a-7652a8d671a4  22c8716b-1c14-525a-8c0a-0473ec7aa99e   \n",
              "4  6515456b-05d4-5e6d-b42a-7652a8d671a4  22c8716b-1c14-525a-8c0a-0473ec7aa99e   \n",
              "\n",
              "   Consumable Life Step ID                    Time Stamp Sensor Name  \\\n",
              "0         370.7229  Step_0 2024-01-01 00:00:00.000000000    Sensor_A   \n",
              "1         370.7229  Step_0 2024-01-01 00:00:01.000000002    Sensor_A   \n",
              "2         370.7229  Step_0 2024-01-01 00:00:01.999999997    Sensor_A   \n",
              "3         370.7229  Step_1 2024-01-01 00:00:03.000000000    Sensor_A   \n",
              "4         370.7229  Step_1 2024-01-01 00:00:04.000000002    Sensor_A   \n",
              "\n",
              "   Sensor Value  \n",
              "0     -0.061105  \n",
              "1     -0.040894  \n",
              "2      0.005357  \n",
              "3     -0.029941  \n",
              "4     -0.098098  "
            ]
          },
          "execution_count": 7,
          "metadata": {},
          "output_type": "execute_result"
        }
      ],
      "source": [
        "run_df.head()"
      ]
    },
    {
      "cell_type": "code",
      "execution_count": 8,
      "metadata": {
        "colab": {
          "base_uri": "https://localhost:8080/"
        },
        "id": "bQAuaIVKzXUb",
        "outputId": "2ad7310d-15ff-479e-8c8a-4835e57353ce"
      },
      "outputs": [
        {
          "name": "stdout",
          "output_type": "stream",
          "text": [
            "['Tool ID', 'Run Start Time', 'Run End Time', 'Run ID', 'Process Step', 'Consumable Life', 'Step ID', 'Time Stamp', 'Sensor Name', 'Sensor Value']\n"
          ]
        }
      ],
      "source": [
        "print(run_df.columns.tolist())"
      ]
    },
    {
      "cell_type": "code",
      "execution_count": 9,
      "metadata": {
        "colab": {
          "base_uri": "https://localhost:8080/",
          "height": 310
        },
        "id": "uj1SEXtxOtVo",
        "outputId": "2d230d14-e867-4a9e-a34e-38a09675f5d3"
      },
      "outputs": [
        {
          "data": {
            "text/html": [
              "<div>\n",
              "<style scoped>\n",
              "    .dataframe tbody tr th:only-of-type {\n",
              "        vertical-align: middle;\n",
              "    }\n",
              "\n",
              "    .dataframe tbody tr th {\n",
              "        vertical-align: top;\n",
              "    }\n",
              "\n",
              "    .dataframe thead th {\n",
              "        text-align: right;\n",
              "    }\n",
              "</style>\n",
              "<table border=\"1\" class=\"dataframe\">\n",
              "  <thead>\n",
              "    <tr style=\"text-align: right;\">\n",
              "      <th></th>\n",
              "      <th>Tool ID</th>\n",
              "      <th>Run Start Time</th>\n",
              "      <th>Run End Time</th>\n",
              "      <th>Run ID</th>\n",
              "      <th>Process Step</th>\n",
              "      <th>Step ID</th>\n",
              "      <th>Time Stamp</th>\n",
              "      <th>Sensor Name</th>\n",
              "      <th>Sensor Value</th>\n",
              "    </tr>\n",
              "  </thead>\n",
              "  <tbody>\n",
              "    <tr>\n",
              "      <th>0</th>\n",
              "      <td>8060e8e1-504a-5138-a9f0-e2770bd61ba1</td>\n",
              "      <td>2023-12-31</td>\n",
              "      <td>2023-12-31 00:12:22</td>\n",
              "      <td>6515456b-05d4-5e6d-b42a-7652a8d671a4</td>\n",
              "      <td>22c8716b-1c14-525a-8c0a-0473ec7aa99e</td>\n",
              "      <td>Step_0</td>\n",
              "      <td>2023-12-31 00:00:00.000000000</td>\n",
              "      <td>Sensor_1</td>\n",
              "      <td>202.660553</td>\n",
              "    </tr>\n",
              "    <tr>\n",
              "      <th>1</th>\n",
              "      <td>8060e8e1-504a-5138-a9f0-e2770bd61ba1</td>\n",
              "      <td>2023-12-31</td>\n",
              "      <td>2023-12-31 00:12:22</td>\n",
              "      <td>6515456b-05d4-5e6d-b42a-7652a8d671a4</td>\n",
              "      <td>22c8716b-1c14-525a-8c0a-0473ec7aa99e</td>\n",
              "      <td>Step_0</td>\n",
              "      <td>2023-12-31 00:00:01.000000002</td>\n",
              "      <td>Sensor_1</td>\n",
              "      <td>202.660553</td>\n",
              "    </tr>\n",
              "    <tr>\n",
              "      <th>2</th>\n",
              "      <td>8060e8e1-504a-5138-a9f0-e2770bd61ba1</td>\n",
              "      <td>2023-12-31</td>\n",
              "      <td>2023-12-31 00:12:22</td>\n",
              "      <td>6515456b-05d4-5e6d-b42a-7652a8d671a4</td>\n",
              "      <td>22c8716b-1c14-525a-8c0a-0473ec7aa99e</td>\n",
              "      <td>Step_0</td>\n",
              "      <td>2023-12-31 00:00:01.999999997</td>\n",
              "      <td>Sensor_1</td>\n",
              "      <td>202.660553</td>\n",
              "    </tr>\n",
              "    <tr>\n",
              "      <th>3</th>\n",
              "      <td>8060e8e1-504a-5138-a9f0-e2770bd61ba1</td>\n",
              "      <td>2023-12-31</td>\n",
              "      <td>2023-12-31 00:12:22</td>\n",
              "      <td>6515456b-05d4-5e6d-b42a-7652a8d671a4</td>\n",
              "      <td>22c8716b-1c14-525a-8c0a-0473ec7aa99e</td>\n",
              "      <td>Step_1</td>\n",
              "      <td>2023-12-31 00:00:03.000000000</td>\n",
              "      <td>Sensor_1</td>\n",
              "      <td>202.660553</td>\n",
              "    </tr>\n",
              "    <tr>\n",
              "      <th>4</th>\n",
              "      <td>8060e8e1-504a-5138-a9f0-e2770bd61ba1</td>\n",
              "      <td>2023-12-31</td>\n",
              "      <td>2023-12-31 00:12:22</td>\n",
              "      <td>6515456b-05d4-5e6d-b42a-7652a8d671a4</td>\n",
              "      <td>22c8716b-1c14-525a-8c0a-0473ec7aa99e</td>\n",
              "      <td>Step_1</td>\n",
              "      <td>2023-12-31 00:00:04.000000002</td>\n",
              "      <td>Sensor_1</td>\n",
              "      <td>202.660553</td>\n",
              "    </tr>\n",
              "  </tbody>\n",
              "</table>\n",
              "</div>"
            ],
            "text/plain": [
              "                                Tool ID Run Start Time        Run End Time  \\\n",
              "0  8060e8e1-504a-5138-a9f0-e2770bd61ba1     2023-12-31 2023-12-31 00:12:22   \n",
              "1  8060e8e1-504a-5138-a9f0-e2770bd61ba1     2023-12-31 2023-12-31 00:12:22   \n",
              "2  8060e8e1-504a-5138-a9f0-e2770bd61ba1     2023-12-31 2023-12-31 00:12:22   \n",
              "3  8060e8e1-504a-5138-a9f0-e2770bd61ba1     2023-12-31 2023-12-31 00:12:22   \n",
              "4  8060e8e1-504a-5138-a9f0-e2770bd61ba1     2023-12-31 2023-12-31 00:12:22   \n",
              "\n",
              "                                 Run ID                          Process Step  \\\n",
              "0  6515456b-05d4-5e6d-b42a-7652a8d671a4  22c8716b-1c14-525a-8c0a-0473ec7aa99e   \n",
              "1  6515456b-05d4-5e6d-b42a-7652a8d671a4  22c8716b-1c14-525a-8c0a-0473ec7aa99e   \n",
              "2  6515456b-05d4-5e6d-b42a-7652a8d671a4  22c8716b-1c14-525a-8c0a-0473ec7aa99e   \n",
              "3  6515456b-05d4-5e6d-b42a-7652a8d671a4  22c8716b-1c14-525a-8c0a-0473ec7aa99e   \n",
              "4  6515456b-05d4-5e6d-b42a-7652a8d671a4  22c8716b-1c14-525a-8c0a-0473ec7aa99e   \n",
              "\n",
              "  Step ID                    Time Stamp Sensor Name  Sensor Value  \n",
              "0  Step_0 2023-12-31 00:00:00.000000000    Sensor_1    202.660553  \n",
              "1  Step_0 2023-12-31 00:00:01.000000002    Sensor_1    202.660553  \n",
              "2  Step_0 2023-12-31 00:00:01.999999997    Sensor_1    202.660553  \n",
              "3  Step_1 2023-12-31 00:00:03.000000000    Sensor_1    202.660553  \n",
              "4  Step_1 2023-12-31 00:00:04.000000002    Sensor_1    202.660553  "
            ]
          },
          "execution_count": 9,
          "metadata": {},
          "output_type": "execute_result"
        }
      ],
      "source": [
        "incom_run_df.head()"
      ]
    },
    {
      "cell_type": "code",
      "execution_count": 10,
      "metadata": {
        "colab": {
          "base_uri": "https://localhost:8080/"
        },
        "id": "cf-pFkqMPLwF",
        "outputId": "43e9b065-2513-49e4-b808-83bbbc1f09ad"
      },
      "outputs": [
        {
          "name": "stdout",
          "output_type": "stream",
          "text": [
            "['Tool ID', 'Run Start Time', 'Run End Time', 'Run ID', 'Process Step', 'Step ID', 'Time Stamp', 'Sensor Name', 'Sensor Value']\n"
          ]
        }
      ],
      "source": [
        "print(incom_run_df.columns.tolist())"
      ]
    },
    {
      "cell_type": "code",
      "execution_count": 11,
      "metadata": {
        "colab": {
          "base_uri": "https://localhost:8080/",
          "height": 523
        },
        "id": "ankkTbhySQax",
        "outputId": "008cebc0-f243-41c2-dc5b-9fb8805f007d"
      },
      "outputs": [
        {
          "data": {
            "text/html": [
              "<div>\n",
              "<style scoped>\n",
              "    .dataframe tbody tr th:only-of-type {\n",
              "        vertical-align: middle;\n",
              "    }\n",
              "\n",
              "    .dataframe tbody tr th {\n",
              "        vertical-align: top;\n",
              "    }\n",
              "\n",
              "    .dataframe thead th {\n",
              "        text-align: right;\n",
              "    }\n",
              "</style>\n",
              "<table border=\"1\" class=\"dataframe\">\n",
              "  <thead>\n",
              "    <tr style=\"text-align: right;\">\n",
              "      <th></th>\n",
              "      <th>Tool ID</th>\n",
              "      <th>Run Start Time</th>\n",
              "      <th>Run End Time</th>\n",
              "      <th>Run ID</th>\n",
              "      <th>Process Step</th>\n",
              "      <th>Consumable Life</th>\n",
              "      <th>Step ID</th>\n",
              "      <th>Time Stamp</th>\n",
              "      <th>Sensor Name</th>\n",
              "      <th>Sensor Value</th>\n",
              "      <th>Time_utc</th>\n",
              "    </tr>\n",
              "  </thead>\n",
              "  <tbody>\n",
              "    <tr>\n",
              "      <th>0</th>\n",
              "      <td>8060e8e1-504a-5138-a9f0-e2770bd61ba1</td>\n",
              "      <td>2024-01-01</td>\n",
              "      <td>2024-01-01 00:12:35</td>\n",
              "      <td>6515456b-05d4-5e6d-b42a-7652a8d671a4</td>\n",
              "      <td>22c8716b-1c14-525a-8c0a-0473ec7aa99e</td>\n",
              "      <td>370.7229</td>\n",
              "      <td>Step_0</td>\n",
              "      <td>2024-01-01 00:00:00.000000000</td>\n",
              "      <td>Sensor_A</td>\n",
              "      <td>-0.061105</td>\n",
              "      <td>2024-01-01 00:00:00.000000000</td>\n",
              "    </tr>\n",
              "    <tr>\n",
              "      <th>1</th>\n",
              "      <td>8060e8e1-504a-5138-a9f0-e2770bd61ba1</td>\n",
              "      <td>2024-01-01</td>\n",
              "      <td>2024-01-01 00:12:35</td>\n",
              "      <td>6515456b-05d4-5e6d-b42a-7652a8d671a4</td>\n",
              "      <td>22c8716b-1c14-525a-8c0a-0473ec7aa99e</td>\n",
              "      <td>370.7229</td>\n",
              "      <td>Step_0</td>\n",
              "      <td>2024-01-01 00:00:01.000000002</td>\n",
              "      <td>Sensor_A</td>\n",
              "      <td>-0.040894</td>\n",
              "      <td>2024-01-01 00:00:01.000000002</td>\n",
              "    </tr>\n",
              "    <tr>\n",
              "      <th>2</th>\n",
              "      <td>8060e8e1-504a-5138-a9f0-e2770bd61ba1</td>\n",
              "      <td>2024-01-01</td>\n",
              "      <td>2024-01-01 00:12:35</td>\n",
              "      <td>6515456b-05d4-5e6d-b42a-7652a8d671a4</td>\n",
              "      <td>22c8716b-1c14-525a-8c0a-0473ec7aa99e</td>\n",
              "      <td>370.7229</td>\n",
              "      <td>Step_0</td>\n",
              "      <td>2024-01-01 00:00:01.999999997</td>\n",
              "      <td>Sensor_A</td>\n",
              "      <td>0.005357</td>\n",
              "      <td>2024-01-01 00:00:01.999999997</td>\n",
              "    </tr>\n",
              "    <tr>\n",
              "      <th>3</th>\n",
              "      <td>8060e8e1-504a-5138-a9f0-e2770bd61ba1</td>\n",
              "      <td>2024-01-01</td>\n",
              "      <td>2024-01-01 00:12:35</td>\n",
              "      <td>6515456b-05d4-5e6d-b42a-7652a8d671a4</td>\n",
              "      <td>22c8716b-1c14-525a-8c0a-0473ec7aa99e</td>\n",
              "      <td>370.7229</td>\n",
              "      <td>Step_1</td>\n",
              "      <td>2024-01-01 00:00:03.000000000</td>\n",
              "      <td>Sensor_A</td>\n",
              "      <td>-0.029941</td>\n",
              "      <td>2024-01-01 00:00:03.000000000</td>\n",
              "    </tr>\n",
              "    <tr>\n",
              "      <th>4</th>\n",
              "      <td>8060e8e1-504a-5138-a9f0-e2770bd61ba1</td>\n",
              "      <td>2024-01-01</td>\n",
              "      <td>2024-01-01 00:12:35</td>\n",
              "      <td>6515456b-05d4-5e6d-b42a-7652a8d671a4</td>\n",
              "      <td>22c8716b-1c14-525a-8c0a-0473ec7aa99e</td>\n",
              "      <td>370.7229</td>\n",
              "      <td>Step_1</td>\n",
              "      <td>2024-01-01 00:00:04.000000002</td>\n",
              "      <td>Sensor_A</td>\n",
              "      <td>-0.098098</td>\n",
              "      <td>2024-01-01 00:00:04.000000002</td>\n",
              "    </tr>\n",
              "  </tbody>\n",
              "</table>\n",
              "</div>"
            ],
            "text/plain": [
              "                                Tool ID Run Start Time        Run End Time  \\\n",
              "0  8060e8e1-504a-5138-a9f0-e2770bd61ba1     2024-01-01 2024-01-01 00:12:35   \n",
              "1  8060e8e1-504a-5138-a9f0-e2770bd61ba1     2024-01-01 2024-01-01 00:12:35   \n",
              "2  8060e8e1-504a-5138-a9f0-e2770bd61ba1     2024-01-01 2024-01-01 00:12:35   \n",
              "3  8060e8e1-504a-5138-a9f0-e2770bd61ba1     2024-01-01 2024-01-01 00:12:35   \n",
              "4  8060e8e1-504a-5138-a9f0-e2770bd61ba1     2024-01-01 2024-01-01 00:12:35   \n",
              "\n",
              "                                 Run ID                          Process Step  \\\n",
              "0  6515456b-05d4-5e6d-b42a-7652a8d671a4  22c8716b-1c14-525a-8c0a-0473ec7aa99e   \n",
              "1  6515456b-05d4-5e6d-b42a-7652a8d671a4  22c8716b-1c14-525a-8c0a-0473ec7aa99e   \n",
              "2  6515456b-05d4-5e6d-b42a-7652a8d671a4  22c8716b-1c14-525a-8c0a-0473ec7aa99e   \n",
              "3  6515456b-05d4-5e6d-b42a-7652a8d671a4  22c8716b-1c14-525a-8c0a-0473ec7aa99e   \n",
              "4  6515456b-05d4-5e6d-b42a-7652a8d671a4  22c8716b-1c14-525a-8c0a-0473ec7aa99e   \n",
              "\n",
              "   Consumable Life Step ID                    Time Stamp Sensor Name  \\\n",
              "0         370.7229  Step_0 2024-01-01 00:00:00.000000000    Sensor_A   \n",
              "1         370.7229  Step_0 2024-01-01 00:00:01.000000002    Sensor_A   \n",
              "2         370.7229  Step_0 2024-01-01 00:00:01.999999997    Sensor_A   \n",
              "3         370.7229  Step_1 2024-01-01 00:00:03.000000000    Sensor_A   \n",
              "4         370.7229  Step_1 2024-01-01 00:00:04.000000002    Sensor_A   \n",
              "\n",
              "   Sensor Value                      Time_utc  \n",
              "0     -0.061105 2024-01-01 00:00:00.000000000  \n",
              "1     -0.040894 2024-01-01 00:00:01.000000002  \n",
              "2      0.005357 2024-01-01 00:00:01.999999997  \n",
              "3     -0.029941 2024-01-01 00:00:03.000000000  \n",
              "4     -0.098098 2024-01-01 00:00:04.000000002  "
            ]
          },
          "execution_count": 11,
          "metadata": {},
          "output_type": "execute_result"
        }
      ],
      "source": [
        "run_df['Time_utc'] = pd.to_datetime(run_df['Time Stamp'])\n",
        "run_df.head()"
      ]
    },
    {
      "cell_type": "code",
      "execution_count": 12,
      "metadata": {
        "colab": {
          "base_uri": "https://localhost:8080/"
        },
        "id": "6rjrGAeVP8dQ",
        "outputId": "bf56dec3-d654-4855-f39d-4d1153539638"
      },
      "outputs": [
        {
          "name": "stdout",
          "output_type": "stream",
          "text": [
            "Run ID\n",
            "0b303820-4363-5f8d-8a8f-fb58dc4a7507    10995\n",
            "3c2e0ee4-66ab-54b2-a15b-539f0dd53218    10995\n",
            "eabb6187-9188-56cb-80e7-25f0ca76fa31    10995\n",
            "1f05588f-cdd6-5929-80d9-b1a1ad820405    10995\n",
            "a36db8ec-c57b-5a22-8c62-e7a1f8ac4e18    10995\n",
            "                                        ...  \n",
            "c737ec18-0d4b-55b2-be1a-f2e4669bae34     8835\n",
            "7c3436e3-46bc-5b2b-a151-121c12579043     8835\n",
            "c50605ad-39ed-51f2-8810-605a68ea8feb     8835\n",
            "1da15509-9fa6-55ca-ad1a-18e3c23852d7     8835\n",
            "a8d8bf3a-673c-581e-80d0-ba017b298020     8835\n",
            "Name: count, Length: 4140, dtype: int64\n",
            "Tool ID\n",
            "5116a75f-0543-502f-8278-2b2496d337d2    2253105\n",
            "1914935a-df63-54c2-9c47-da905244e631    2251365\n",
            "bb7e0385-0227-575a-9894-dacc8bf07f2a    2249430\n",
            "683e5405-4b93-5160-be90-d3d5b0d9287a    2248140\n",
            "4738fd3d-8fc7-59fd-85a7-eec6efb4bfae    2246790\n",
            "db66ded5-0f4f-5179-b8e7-4673304ddff1    2244840\n",
            "e4838ac1-3788-50bf-bbca-04cf339ec369    2244480\n",
            "b3439d8e-290b-59a4-96a5-53348288f6a9    2241630\n",
            "08e35986-3a0a-5274-8990-4ad303be9d5f    2241630\n",
            "8060e8e1-504a-5138-a9f0-e2770bd61ba1    2235645\n",
            "ac40636d-b491-5620-8d16-9aad56e5c4d3    2235450\n",
            "a060c807-dbdb-5de3-9cd7-0c596234a3d7    2233815\n",
            "d7291410-f34f-5cee-b3a1-0c60bb854423    2232780\n",
            "ad28cd71-3811-543c-80a1-a440468a49d7    2231955\n",
            "8a1010f8-7e9e-52ba-8586-2eac7e68eaee    2224380\n",
            "30476bd4-f093-56c9-8cd1-23cf7f39ce5f    2219490\n",
            "c7f536aa-a2fc-54b4-9b98-9f01793c9b5d    1798890\n",
            "1b314ddd-198a-5cd5-90ae-933b947d013d    1795215\n",
            "3cb39167-0519-578a-846d-7132592965d3    1791720\n",
            "Name: count, dtype: int64\n",
            "Process Step\n",
            "22c8716b-1c14-525a-8c0a-0473ec7aa99e    41220750\n",
            "Name: count, dtype: int64\n",
            "Step ID\n",
            "Step_5     16487145\n",
            "Step_8      3297060\n",
            "Step_9      3297060\n",
            "Step_1      3297060\n",
            "Step_3      2474565\n",
            "Step_6      2474565\n",
            "Step_7      2305455\n",
            "Step_4      1812900\n",
            "Step_2      1648770\n",
            "Step_11     1648770\n",
            "Step_12     1485015\n",
            "Step_10      824445\n",
            "Step_0       167940\n",
            "Name: count, dtype: int64\n",
            "Sensor Name\n",
            "Sensor_A    2748050\n",
            "Sensor_B    2748050\n",
            "Sensor_C    2748050\n",
            "Sensor_D    2748050\n",
            "Sensor_E    2748050\n",
            "Sensor_F    2748050\n",
            "Sensor_G    2748050\n",
            "Sensor_H    2748050\n",
            "Sensor_I    2748050\n",
            "Sensor_J    2748050\n",
            "Sensor_K    2748050\n",
            "Sensor_L    2748050\n",
            "Sensor_M    2748050\n",
            "Sensor_N    2748050\n",
            "Sensor_O    2748050\n",
            "Name: count, dtype: int64\n"
          ]
        }
      ],
      "source": [
        "print(run_df['Run ID'].value_counts())\n",
        "print(run_df['Tool ID'].value_counts())\n",
        "print(run_df['Process Step'].value_counts())\n",
        "print(run_df['Step ID'].value_counts())\n",
        "print(run_df['Sensor Name'].value_counts())"
      ]
    },
    {
      "cell_type": "code",
      "execution_count": 16,
      "metadata": {
        "colab": {
          "base_uri": "https://localhost:8080/",
          "height": 1000
        },
        "id": "qCec98nSQ53W",
        "outputId": "da61a8c5-1e2f-4cf2-8a8c-de96b80e0c26"
      },
      "outputs": [
        {
          "data": {
            "image/png": "[encoded data removed]",
            "text/plain": [
              "<Figure size 800x600 with 1 Axes>"
            ]
          },
          "metadata": {},
          "output_type": "display_data"
        }
      ],
      "source": [
        "# Plot the graph\n",
        "plt.figure(figsize=(8, 6))  # Adjust figure size\n",
        "sns.boxplot(x='Sensor Name', y='Sensor Value', data=run_df)\n",
        "plt.xticks(rotation=45)\n",
        "plt.title(f'Sensor Value group by Sensor Name')\n",
        "\n",
        "# Show the plot\n",
        "plt.show()"
      ]
    },
    {
      "cell_type": "code",
      "execution_count": null,
      "metadata": {},
      "outputs": [
        {
          "data": {
            "image/png": "[encoded data removed]",
            "text/plain": [
              "<Figure size 800x600 with 1 Axes>"
            ]
          },
          "metadata": {},
          "output_type": "display_data"
        }
      ],
      "source": [
        "# # Plot the graph with categorization\n",
        "# plt.figure(figsize=(8, 6))  # Adjust figure size\n",
        "# sns.scatterplot(x='Time Stamp', y='Sensor Value', hue='Sensor Name', data=run_df)\n",
        "\n",
        "# plt.title(f'Sensor Value against Time')\n",
        "# plt.legend(title=\"Sensor Name\", bbox_to_anchor=(1.05, 1), loc='upper left')  # Ensure legend shows sensor categories\n",
        "# plt.xticks(rotation=45)  # Rotate timestamps for readability\n",
        "\n",
        "# # Show the plot\n",
        "# plt.show()\n"
      ]
    },
    {
      "cell_type": "code",
      "execution_count": 18,
      "metadata": {
        "colab": {
          "base_uri": "https://localhost:8080/",
          "height": 206
        },
        "id": "V-Z7qNG32nSM",
        "outputId": "01f24991-7644-47a4-86b0-03183f919e03"
      },
      "outputs": [
        {
          "data": {
            "text/html": [
              "<div>\n",
              "<style scoped>\n",
              "    .dataframe tbody tr th:only-of-type {\n",
              "        vertical-align: middle;\n",
              "    }\n",
              "\n",
              "    .dataframe tbody tr th {\n",
              "        vertical-align: top;\n",
              "    }\n",
              "\n",
              "    .dataframe thead th {\n",
              "        text-align: right;\n",
              "    }\n",
              "</style>\n",
              "<table border=\"1\" class=\"dataframe\">\n",
              "  <thead>\n",
              "    <tr style=\"text-align: right;\">\n",
              "      <th></th>\n",
              "      <th>Run ID</th>\n",
              "      <th>Run Start Time</th>\n",
              "      <th>Run End Time</th>\n",
              "      <th>X_index</th>\n",
              "      <th>Y_index</th>\n",
              "      <th>X</th>\n",
              "      <th>Y</th>\n",
              "      <th>Point Index</th>\n",
              "      <th>Measurement</th>\n",
              "    </tr>\n",
              "  </thead>\n",
              "  <tbody>\n",
              "    <tr>\n",
              "      <th>0</th>\n",
              "      <td>00862337-2cc0-5b34-b5e1-45588e935c39</td>\n",
              "      <td>2024-01-02 04:45:25</td>\n",
              "      <td>2024-01-02 04:58:00</td>\n",
              "      <td>1</td>\n",
              "      <td>23</td>\n",
              "      <td>-143.877551</td>\n",
              "      <td>-9.183673</td>\n",
              "      <td>3</td>\n",
              "      <td>10.006534</td>\n",
              "    </tr>\n",
              "    <tr>\n",
              "      <th>1</th>\n",
              "      <td>00862337-2cc0-5b34-b5e1-45588e935c39</td>\n",
              "      <td>2024-01-02 04:45:25</td>\n",
              "      <td>2024-01-02 04:58:00</td>\n",
              "      <td>1</td>\n",
              "      <td>29</td>\n",
              "      <td>-143.877551</td>\n",
              "      <td>27.551020</td>\n",
              "      <td>48</td>\n",
              "      <td>10.002181</td>\n",
              "    </tr>\n",
              "    <tr>\n",
              "      <th>2</th>\n",
              "      <td>00862337-2cc0-5b34-b5e1-45588e935c39</td>\n",
              "      <td>2024-01-02 04:45:25</td>\n",
              "      <td>2024-01-02 04:58:00</td>\n",
              "      <td>2</td>\n",
              "      <td>34</td>\n",
              "      <td>-137.755102</td>\n",
              "      <td>58.163265</td>\n",
              "      <td>43</td>\n",
              "      <td>10.031223</td>\n",
              "    </tr>\n",
              "    <tr>\n",
              "      <th>3</th>\n",
              "      <td>00862337-2cc0-5b34-b5e1-45588e935c39</td>\n",
              "      <td>2024-01-02 04:45:25</td>\n",
              "      <td>2024-01-02 04:58:00</td>\n",
              "      <td>3</td>\n",
              "      <td>14</td>\n",
              "      <td>-131.632653</td>\n",
              "      <td>-64.285714</td>\n",
              "      <td>20</td>\n",
              "      <td>10.055888</td>\n",
              "    </tr>\n",
              "    <tr>\n",
              "      <th>4</th>\n",
              "      <td>00862337-2cc0-5b34-b5e1-45588e935c39</td>\n",
              "      <td>2024-01-02 04:45:25</td>\n",
              "      <td>2024-01-02 04:58:00</td>\n",
              "      <td>5</td>\n",
              "      <td>39</td>\n",
              "      <td>-119.387755</td>\n",
              "      <td>88.775510</td>\n",
              "      <td>8</td>\n",
              "      <td>10.089505</td>\n",
              "    </tr>\n",
              "  </tbody>\n",
              "</table>\n",
              "</div>"
            ],
            "text/plain": [
              "                                 Run ID      Run Start Time  \\\n",
              "0  00862337-2cc0-5b34-b5e1-45588e935c39 2024-01-02 04:45:25   \n",
              "1  00862337-2cc0-5b34-b5e1-45588e935c39 2024-01-02 04:45:25   \n",
              "2  00862337-2cc0-5b34-b5e1-45588e935c39 2024-01-02 04:45:25   \n",
              "3  00862337-2cc0-5b34-b5e1-45588e935c39 2024-01-02 04:45:25   \n",
              "4  00862337-2cc0-5b34-b5e1-45588e935c39 2024-01-02 04:45:25   \n",
              "\n",
              "         Run End Time  X_index  Y_index           X          Y  Point Index  \\\n",
              "0 2024-01-02 04:58:00        1       23 -143.877551  -9.183673            3   \n",
              "1 2024-01-02 04:58:00        1       29 -143.877551  27.551020           48   \n",
              "2 2024-01-02 04:58:00        2       34 -137.755102  58.163265           43   \n",
              "3 2024-01-02 04:58:00        3       14 -131.632653 -64.285714           20   \n",
              "4 2024-01-02 04:58:00        5       39 -119.387755  88.775510            8   \n",
              "\n",
              "   Measurement  \n",
              "0    10.006534  \n",
              "1    10.002181  \n",
              "2    10.031223  \n",
              "3    10.055888  \n",
              "4    10.089505  "
            ]
          },
          "execution_count": 18,
          "metadata": {},
          "output_type": "execute_result"
        }
      ],
      "source": [
        "meas_df.head()"
      ]
    },
    {
      "cell_type": "code",
      "execution_count": 19,
      "metadata": {
        "colab": {
          "base_uri": "https://localhost:8080/"
        },
        "id": "WvW3ecr84WmX",
        "outputId": "c25eb1e0-ce02-413f-e095-d9dd41555725"
      },
      "outputs": [
        {
          "name": "stdout",
          "output_type": "stream",
          "text": [
            "['Run ID', 'Run Start Time', 'Run End Time', 'X_index', 'Y_index', 'X', 'Y', 'Point Index', 'Measurement']\n"
          ]
        }
      ],
      "source": [
        "print(meas_df.columns.tolist())"
      ]
    },
    {
      "cell_type": "code",
      "execution_count": 20,
      "metadata": {
        "colab": {
          "base_uri": "https://localhost:8080/",
          "height": 453
        },
        "id": "syl-h7eCMDPS",
        "outputId": "34d5686b-58d7-450c-c8eb-689d908f1433"
      },
      "outputs": [
        {
          "data": {
            "image/png": "[encoded data removed]",
            "text/plain": [
              "<Figure size 800x600 with 1 Axes>"
            ]
          },
          "metadata": {},
          "output_type": "display_data"
        }
      ],
      "source": [
        "# # Create the contour plot\n",
        "# ax2 = meas_df.plot.scatter(x='X',\n",
        "#                            y='Y',\n",
        "#                            c='Measurement',\n",
        "#                            colormap='Accent')\n",
        "# plt.show()\n",
        "\n",
        "plt.figure(figsize=(8, 6))\n",
        "sns.scatterplot(x='X', y='Y', hue='Measurement', palette='coolwarm', data=meas_df)\n",
        "plt.legend(title=\"Category\", bbox_to_anchor=(1.05, 1), loc='upper left')\n",
        "plt.title(f\"Scatter Plot\")\n",
        "plt.show()\n"
      ]
    },
    {
      "cell_type": "code",
      "execution_count": 13,
      "metadata": {
        "colab": {
          "base_uri": "https://localhost:8080/"
        },
        "id": "-X6Tz1VW0yJz",
        "outputId": "bab2882e-8b82-4aa9-f897-f0e7ca19d51f"
      },
      "outputs": [
        {
          "name": "stdout",
          "output_type": "stream",
          "text": [
            "                                Tool ID Run Start Time        Run End Time  \\\n",
            "0  8060e8e1-504a-5138-a9f0-e2770bd61ba1     2024-01-01 2024-01-01 00:12:35   \n",
            "1  8060e8e1-504a-5138-a9f0-e2770bd61ba1     2024-01-01 2024-01-01 00:12:35   \n",
            "2  8060e8e1-504a-5138-a9f0-e2770bd61ba1     2024-01-01 2024-01-01 00:12:35   \n",
            "3  8060e8e1-504a-5138-a9f0-e2770bd61ba1     2024-01-01 2024-01-01 00:12:35   \n",
            "4  8060e8e1-504a-5138-a9f0-e2770bd61ba1     2024-01-01 2024-01-01 00:12:35   \n",
            "\n",
            "                                 Run ID                          Process Step  \\\n",
            "0  6515456b-05d4-5e6d-b42a-7652a8d671a4  22c8716b-1c14-525a-8c0a-0473ec7aa99e   \n",
            "1  6515456b-05d4-5e6d-b42a-7652a8d671a4  22c8716b-1c14-525a-8c0a-0473ec7aa99e   \n",
            "2  6515456b-05d4-5e6d-b42a-7652a8d671a4  22c8716b-1c14-525a-8c0a-0473ec7aa99e   \n",
            "3  6515456b-05d4-5e6d-b42a-7652a8d671a4  22c8716b-1c14-525a-8c0a-0473ec7aa99e   \n",
            "4  6515456b-05d4-5e6d-b42a-7652a8d671a4  22c8716b-1c14-525a-8c0a-0473ec7aa99e   \n",
            "\n",
            "   Consumable Life Step ID                    Time Stamp Sensor Name  \\\n",
            "0         370.7229  Step_0 2024-01-01 00:00:00.000000000    Sensor_A   \n",
            "1         370.7229  Step_0 2024-01-01 00:00:01.000000002    Sensor_A   \n",
            "2         370.7229  Step_0 2024-01-01 00:00:01.999999997    Sensor_A   \n",
            "3         370.7229  Step_1 2024-01-01 00:00:03.000000000    Sensor_A   \n",
            "4         370.7229  Step_1 2024-01-01 00:00:04.000000002    Sensor_A   \n",
            "\n",
            "   Sensor Value                      Time_utc start_time_utc  \\\n",
            "0     -0.061105 2024-01-01 00:00:00.000000000     2024-01-01   \n",
            "1     -0.040894 2024-01-01 00:00:01.000000002     2024-01-01   \n",
            "2      0.005357 2024-01-01 00:00:01.999999997     2024-01-01   \n",
            "3     -0.029941 2024-01-01 00:00:03.000000000     2024-01-01   \n",
            "4     -0.098098 2024-01-01 00:00:04.000000002     2024-01-01   \n",
            "\n",
            "         end_time_utc  run_duration  \n",
            "0 2024-01-01 00:12:35         755.0  \n",
            "1 2024-01-01 00:12:35         755.0  \n",
            "2 2024-01-01 00:12:35         755.0  \n",
            "3 2024-01-01 00:12:35         755.0  \n",
            "4 2024-01-01 00:12:35         755.0  \n"
          ]
        }
      ],
      "source": [
        "# Create a 'run_duration' feature by calculating the difference between 'start_time_utc' and 'end_time_utc'\n",
        "run_df['start_time_utc'] = pd.to_datetime(run_df['Run Start Time'])\n",
        "run_df['end_time_utc'] = pd.to_datetime(run_df['Run End Time'])\n",
        "run_df['run_duration'] = (run_df['end_time_utc'] - run_df['start_time_utc']).dt.total_seconds()\n",
        "\n",
        "print(run_df.head())"
      ]
    },
    {
      "cell_type": "code",
      "execution_count": 16,
      "metadata": {
        "id": "1-Wf82sDvcKe"
      },
      "outputs": [],
      "source": [
        "# 2. Feature engineering on run_df\n",
        "# 2a. Aggregate each sensor’s time series per run into summary stats\n",
        "agg_funcs = [\"mean\", \"std\", \"min\", \"max\"]\n",
        "sensor_feats = (\n",
        "    run_df\n",
        "      .groupby([\"Run ID\", \"Sensor Name\"])[\"Sensor Value\"]\n",
        "      .agg(agg_funcs)\n",
        "      .unstack(fill_value=0)\n",
        ")\n",
        "# flatten column MultiIndex\n",
        "sensor_feats.columns = [\n",
        "    f\"{sensor}_{stat}\" for sensor, stat in sensor_feats.columns\n",
        "]\n",
        "sensor_feats.reset_index(inplace=True)"
      ]
    },
    {
      "cell_type": "code",
      "execution_count": 17,
      "metadata": {
        "id": "1-N4f5l_LbZf"
      },
      "outputs": [],
      "source": [
        "#print(sensor_feats.head())"
      ]
    },
    {
      "cell_type": "code",
      "execution_count": 18,
      "metadata": {
        "id": "AgFEoaJ6zQLO"
      },
      "outputs": [],
      "source": [
        "# 2b. Tool-life feature: max ConsumableLife per run\n",
        "life_feat = (\n",
        "    run_df\n",
        "      .groupby(\"Run ID\")[\"Consumable Life\"]\n",
        "      .max()\n",
        "      .rename(\"ConsumableLifeMax\")\n",
        "      .reset_index()\n",
        ")\n",
        "\n",
        "# merge features\n",
        "feat = sensor_feats.merge(life_feat, on=\"Run ID\")"
      ]
    },
    {
      "cell_type": "code",
      "execution_count": 19,
      "metadata": {
        "id": "-C2g09M1Lj3S"
      },
      "outputs": [],
      "source": [
        "#print(feat.head())"
      ]
    },
    {
      "cell_type": "code",
      "execution_count": 20,
      "metadata": {
        "id": "p0h0oltiRssj"
      },
      "outputs": [],
      "source": [
        "# 2. Feature engineering on run_df\n",
        "# 2c. Aggregate each tool's time series per run into summary stats\n",
        "agg_funcs = [\"mean\", \"std\", \"min\", \"max\"]\n",
        "tool_feats = (\n",
        "    run_df\n",
        "      .groupby([\"Run ID\", \"Tool ID\"])[\"Sensor Value\"]\n",
        "      .agg(agg_funcs)\n",
        "      .unstack(fill_value=0)\n",
        ")\n",
        "# flatten column MultiIndex\n",
        "tool_feats.columns = [\n",
        "    f\"{tool}_tool_{stat}\" for tool, stat in tool_feats.columns\n",
        "]\n",
        "\n",
        "tool_feats.reset_index(inplace=True)\n",
        "feat = feat.merge(tool_feats, on=\"Run ID\")"
      ]
    },
    {
      "cell_type": "code",
      "execution_count": 21,
      "metadata": {
        "id": "6U0Xu-kkSgRZ"
      },
      "outputs": [],
      "source": [
        "#print(feat.head())"
      ]
    },
    {
      "cell_type": "code",
      "execution_count": 22,
      "metadata": {
        "id": "dxsHaZMXSQ5P"
      },
      "outputs": [],
      "source": [
        "# 2. Feature engineering on run_df\n",
        "# 2d. Aggregate each process's series per run into summary stats\n",
        "agg_funcs = [\"mean\", \"std\", \"min\", \"max\"]\n",
        "proc_feats = (\n",
        "    run_df\n",
        "      .groupby([\"Run ID\", \"Process Step\"])[\"Sensor Value\"]\n",
        "      .agg(agg_funcs)\n",
        "      .unstack(fill_value=0)\n",
        ")\n",
        "# flatten column MultiIndex\n",
        "proc_feats.columns = [\n",
        "    f\"{proc}_proc_{stat}\" for proc, stat in proc_feats.columns\n",
        "]\n",
        "\n",
        "proc_feats.reset_index(inplace=True)\n",
        "feat = feat.merge(proc_feats, on=\"Run ID\")"
      ]
    },
    {
      "cell_type": "code",
      "execution_count": 23,
      "metadata": {
        "id": "_yIfqs5CTLWM"
      },
      "outputs": [],
      "source": [
        "#print(feat.head())"
      ]
    },
    {
      "cell_type": "code",
      "execution_count": 24,
      "metadata": {
        "id": "kb_r_yZgSSdl"
      },
      "outputs": [],
      "source": [
        "# 2. Feature engineering on run_df\n",
        "# 2e. Aggregate each step’s time series per run into summary stats\n",
        "agg_funcs = [\"mean\", \"std\", \"min\", \"max\"]\n",
        "step_feats = (\n",
        "    run_df\n",
        "      .groupby([\"Run ID\", \"Step ID\"])[\"Sensor Value\"]\n",
        "      .agg(agg_funcs)\n",
        "      .unstack(fill_value=0)\n",
        ")\n",
        "# flatten column MultiIndex\n",
        "step_feats.columns = [\n",
        "    f\"{step}_{stat}\" for step, stat in step_feats.columns\n",
        "]\n",
        "\n",
        "step_feats.reset_index(inplace=True)\n",
        "feat = feat.merge(step_feats, on=\"Run ID\")"
      ]
    },
    {
      "cell_type": "code",
      "execution_count": 25,
      "metadata": {
        "id": "LyXbhccjTrOV"
      },
      "outputs": [],
      "source": [
        "#print(feat.head())"
      ]
    },
    {
      "cell_type": "code",
      "execution_count": 26,
      "metadata": {
        "id": "RqkV0d6YUBz1"
      },
      "outputs": [],
      "source": [
        "#Add incoming run sensor values\n",
        "agg_funcs = [\"mean\", \"std\", \"min\", \"max\"]\n",
        "incoming_feats = (\n",
        "    incom_run_df\n",
        "      .groupby([\"Run ID\", \"Sensor Name\"])[\"Sensor Value\"]\n",
        "      .agg(agg_funcs)\n",
        "      .unstack(fill_value=0)\n",
        ")\n",
        "# flatten column MultiIndex\n",
        "incoming_feats.columns = [\n",
        "    f\"{sensor}_incoming_{stat}\" for sensor, stat in incoming_feats.columns\n",
        "]\n",
        "incoming_feats.reset_index(inplace=True)\n",
        "feat = feat.merge(incoming_feats, on=\"Run ID\")"
      ]
    },
    {
      "cell_type": "code",
      "execution_count": 27,
      "metadata": {
        "id": "SNIz161mUgNf"
      },
      "outputs": [],
      "source": [
        "#print(feat.head())"
      ]
    },
    {
      "cell_type": "code",
      "execution_count": 28,
      "metadata": {
        "colab": {
          "base_uri": "https://localhost:8080/"
        },
        "id": "mArmDriJtEwF",
        "outputId": "32e7c12b-9dab-45f5-f881-c322617c592d"
      },
      "outputs": [
        {
          "name": "stdout",
          "output_type": "stream",
          "text": [
            "\n",
            "Features dataframe after engineering:\n",
            "                                 Run ID  mean_Sensor_A  mean_Sensor_B  \\\n",
            "0  000f424f-667d-54a2-bbbd-9624c4071465       0.001230    1202.302368   \n",
            "1  001466b9-ee4c-5642-8e93-0a501ce4e9d9       0.000596    -133.897141   \n",
            "2  002d6c65-b86f-5153-a2d8-206e59da6307       0.001283   -1056.088379   \n",
            "3  002fdc18-a36b-5188-a5e3-9e1d59697a6b      -0.002384     -23.619997   \n",
            "4  004379ac-3743-5811-bb3b-d1821813b2d2      -0.000876     133.647980   \n",
            "\n",
            "   mean_Sensor_C  mean_Sensor_D  mean_Sensor_E  mean_Sensor_F  mean_Sensor_G  \\\n",
            "0     104.422707    5820.641602       8.797877     120.705505      61.893738   \n",
            "1     114.544716    6893.712402      10.528492     128.731644      54.082806   \n",
            "2      92.291214    6344.273438       8.530919     123.559006      65.221832   \n",
            "3      95.550697    6334.035645       7.551556     124.874435      63.301517   \n",
            "4     111.237801    6592.873047       7.699797     125.464149      53.037315   \n",
            "\n",
            "   mean_Sensor_H  mean_Sensor_I  ...  max_incoming_Sensor_39  \\\n",
            "0     467.320068     440.529358  ...              201.724274   \n",
            "1     580.156860     450.319641  ...              208.951691   \n",
            "2     534.671387     459.983978  ...              196.582993   \n",
            "3     520.531982     462.203613  ...              206.261230   \n",
            "4     583.831238     429.661346  ...              198.256027   \n",
            "\n",
            "   max_incoming_Sensor_4  max_incoming_Sensor_40  max_incoming_Sensor_41  \\\n",
            "0            1034.461670                7.215941              164.705887   \n",
            "1             977.886841                8.581384              161.758652   \n",
            "2            1002.075867                3.406497              154.630722   \n",
            "3            1006.476440                5.885543              108.345398   \n",
            "4            1025.975098                5.916732              336.782623   \n",
            "\n",
            "   max_incoming_Sensor_5  max_incoming_Sensor_6  max_incoming_Sensor_7  \\\n",
            "0               6.837564              25.021969               3.865324   \n",
            "1               0.566078              24.972841               5.123479   \n",
            "2              31.957943              23.354019               4.331479   \n",
            "3               7.055690              23.734806               3.925975   \n",
            "4              12.344835              23.794302               4.466114   \n",
            "\n",
            "   max_incoming_Sensor_8  max_incoming_Sensor_9  run_duration  \n",
            "0             200.704514             206.060806         755.0  \n",
            "1             198.053513             198.752991         755.0  \n",
            "2             203.008087             202.446838         755.0  \n",
            "3             195.945847             212.707169         755.0  \n",
            "4             197.897263             208.406158         755.0  \n",
            "\n",
            "[5 rows x 359 columns]\n",
            "['Run ID', 'mean_Sensor_A', 'mean_Sensor_B', 'mean_Sensor_C', 'mean_Sensor_D', 'mean_Sensor_E', 'mean_Sensor_F', 'mean_Sensor_G', 'mean_Sensor_H', 'mean_Sensor_I', 'mean_Sensor_J', 'mean_Sensor_K', 'mean_Sensor_L', 'mean_Sensor_M', 'mean_Sensor_N', 'mean_Sensor_O', 'std_Sensor_A', 'std_Sensor_B', 'std_Sensor_C', 'std_Sensor_D', 'std_Sensor_E', 'std_Sensor_F', 'std_Sensor_G', 'std_Sensor_H', 'std_Sensor_I', 'std_Sensor_J', 'std_Sensor_K', 'std_Sensor_L', 'std_Sensor_M', 'std_Sensor_N', 'std_Sensor_O', 'min_Sensor_A', 'min_Sensor_B', 'min_Sensor_C', 'min_Sensor_D', 'min_Sensor_E', 'min_Sensor_F', 'min_Sensor_G', 'min_Sensor_H', 'min_Sensor_I', 'min_Sensor_J', 'min_Sensor_K', 'min_Sensor_L', 'min_Sensor_M', 'min_Sensor_N', 'min_Sensor_O', 'max_Sensor_A', 'max_Sensor_B', 'max_Sensor_C', 'max_Sensor_D', 'max_Sensor_E', 'max_Sensor_F', 'max_Sensor_G', 'max_Sensor_H', 'max_Sensor_I', 'max_Sensor_J', 'max_Sensor_K', 'max_Sensor_L', 'max_Sensor_M', 'max_Sensor_N', 'max_Sensor_O', 'ConsumableLifeMax', 'mean_tool_08e35986-3a0a-5274-8990-4ad303be9d5f', 'mean_tool_1914935a-df63-54c2-9c47-da905244e631', 'mean_tool_1b314ddd-198a-5cd5-90ae-933b947d013d', 'mean_tool_30476bd4-f093-56c9-8cd1-23cf7f39ce5f', 'mean_tool_3cb39167-0519-578a-846d-7132592965d3', 'mean_tool_4738fd3d-8fc7-59fd-85a7-eec6efb4bfae', 'mean_tool_5116a75f-0543-502f-8278-2b2496d337d2', 'mean_tool_683e5405-4b93-5160-be90-d3d5b0d9287a', 'mean_tool_8060e8e1-504a-5138-a9f0-e2770bd61ba1', 'mean_tool_8a1010f8-7e9e-52ba-8586-2eac7e68eaee', 'mean_tool_a060c807-dbdb-5de3-9cd7-0c596234a3d7', 'mean_tool_ac40636d-b491-5620-8d16-9aad56e5c4d3', 'mean_tool_ad28cd71-3811-543c-80a1-a440468a49d7', 'mean_tool_b3439d8e-290b-59a4-96a5-53348288f6a9', 'mean_tool_bb7e0385-0227-575a-9894-dacc8bf07f2a', 'mean_tool_c7f536aa-a2fc-54b4-9b98-9f01793c9b5d', 'mean_tool_d7291410-f34f-5cee-b3a1-0c60bb854423', 'mean_tool_db66ded5-0f4f-5179-b8e7-4673304ddff1', 'mean_tool_e4838ac1-3788-50bf-bbca-04cf339ec369', 'std_tool_08e35986-3a0a-5274-8990-4ad303be9d5f', 'std_tool_1914935a-df63-54c2-9c47-da905244e631', 'std_tool_1b314ddd-198a-5cd5-90ae-933b947d013d', 'std_tool_30476bd4-f093-56c9-8cd1-23cf7f39ce5f', 'std_tool_3cb39167-0519-578a-846d-7132592965d3', 'std_tool_4738fd3d-8fc7-59fd-85a7-eec6efb4bfae', 'std_tool_5116a75f-0543-502f-8278-2b2496d337d2', 'std_tool_683e5405-4b93-5160-be90-d3d5b0d9287a', 'std_tool_8060e8e1-504a-5138-a9f0-e2770bd61ba1', 'std_tool_8a1010f8-7e9e-52ba-8586-2eac7e68eaee', 'std_tool_a060c807-dbdb-5de3-9cd7-0c596234a3d7', 'std_tool_ac40636d-b491-5620-8d16-9aad56e5c4d3', 'std_tool_ad28cd71-3811-543c-80a1-a440468a49d7', 'std_tool_b3439d8e-290b-59a4-96a5-53348288f6a9', 'std_tool_bb7e0385-0227-575a-9894-dacc8bf07f2a', 'std_tool_c7f536aa-a2fc-54b4-9b98-9f01793c9b5d', 'std_tool_d7291410-f34f-5cee-b3a1-0c60bb854423', 'std_tool_db66ded5-0f4f-5179-b8e7-4673304ddff1', 'std_tool_e4838ac1-3788-50bf-bbca-04cf339ec369', 'min_tool_08e35986-3a0a-5274-8990-4ad303be9d5f', 'min_tool_1914935a-df63-54c2-9c47-da905244e631', 'min_tool_1b314ddd-198a-5cd5-90ae-933b947d013d', 'min_tool_30476bd4-f093-56c9-8cd1-23cf7f39ce5f', 'min_tool_3cb39167-0519-578a-846d-7132592965d3', 'min_tool_4738fd3d-8fc7-59fd-85a7-eec6efb4bfae', 'min_tool_5116a75f-0543-502f-8278-2b2496d337d2', 'min_tool_683e5405-4b93-5160-be90-d3d5b0d9287a', 'min_tool_8060e8e1-504a-5138-a9f0-e2770bd61ba1', 'min_tool_8a1010f8-7e9e-52ba-8586-2eac7e68eaee', 'min_tool_a060c807-dbdb-5de3-9cd7-0c596234a3d7', 'min_tool_ac40636d-b491-5620-8d16-9aad56e5c4d3', 'min_tool_ad28cd71-3811-543c-80a1-a440468a49d7', 'min_tool_b3439d8e-290b-59a4-96a5-53348288f6a9', 'min_tool_bb7e0385-0227-575a-9894-dacc8bf07f2a', 'min_tool_c7f536aa-a2fc-54b4-9b98-9f01793c9b5d', 'min_tool_d7291410-f34f-5cee-b3a1-0c60bb854423', 'min_tool_db66ded5-0f4f-5179-b8e7-4673304ddff1', 'min_tool_e4838ac1-3788-50bf-bbca-04cf339ec369', 'max_tool_08e35986-3a0a-5274-8990-4ad303be9d5f', 'max_tool_1914935a-df63-54c2-9c47-da905244e631', 'max_tool_1b314ddd-198a-5cd5-90ae-933b947d013d', 'max_tool_30476bd4-f093-56c9-8cd1-23cf7f39ce5f', 'max_tool_3cb39167-0519-578a-846d-7132592965d3', 'max_tool_4738fd3d-8fc7-59fd-85a7-eec6efb4bfae', 'max_tool_5116a75f-0543-502f-8278-2b2496d337d2', 'max_tool_683e5405-4b93-5160-be90-d3d5b0d9287a', 'max_tool_8060e8e1-504a-5138-a9f0-e2770bd61ba1', 'max_tool_8a1010f8-7e9e-52ba-8586-2eac7e68eaee', 'max_tool_a060c807-dbdb-5de3-9cd7-0c596234a3d7', 'max_tool_ac40636d-b491-5620-8d16-9aad56e5c4d3', 'max_tool_ad28cd71-3811-543c-80a1-a440468a49d7', 'max_tool_b3439d8e-290b-59a4-96a5-53348288f6a9', 'max_tool_bb7e0385-0227-575a-9894-dacc8bf07f2a', 'max_tool_c7f536aa-a2fc-54b4-9b98-9f01793c9b5d', 'max_tool_d7291410-f34f-5cee-b3a1-0c60bb854423', 'max_tool_db66ded5-0f4f-5179-b8e7-4673304ddff1', 'max_tool_e4838ac1-3788-50bf-bbca-04cf339ec369', 'mean_proc_22c8716b-1c14-525a-8c0a-0473ec7aa99e', 'std_proc_22c8716b-1c14-525a-8c0a-0473ec7aa99e', 'min_proc_22c8716b-1c14-525a-8c0a-0473ec7aa99e', 'max_proc_22c8716b-1c14-525a-8c0a-0473ec7aa99e', 'mean_Step_0', 'mean_Step_1', 'mean_Step_10', 'mean_Step_11', 'mean_Step_12', 'mean_Step_2', 'mean_Step_3', 'mean_Step_4', 'mean_Step_5', 'mean_Step_6', 'mean_Step_7', 'mean_Step_8', 'mean_Step_9', 'std_Step_0', 'std_Step_1', 'std_Step_10', 'std_Step_11', 'std_Step_12', 'std_Step_2', 'std_Step_3', 'std_Step_4', 'std_Step_5', 'std_Step_6', 'std_Step_7', 'std_Step_8', 'std_Step_9', 'min_Step_0', 'min_Step_1', 'min_Step_10', 'min_Step_11', 'min_Step_12', 'min_Step_2', 'min_Step_3', 'min_Step_4', 'min_Step_5', 'min_Step_6', 'min_Step_7', 'min_Step_8', 'min_Step_9', 'max_Step_0', 'max_Step_1', 'max_Step_10', 'max_Step_11', 'max_Step_12', 'max_Step_2', 'max_Step_3', 'max_Step_4', 'max_Step_5', 'max_Step_6', 'max_Step_7', 'max_Step_8', 'max_Step_9', 'mean_incoming_Sensor_1', 'mean_incoming_Sensor_10', 'mean_incoming_Sensor_11', 'mean_incoming_Sensor_12', 'mean_incoming_Sensor_13', 'mean_incoming_Sensor_14', 'mean_incoming_Sensor_15', 'mean_incoming_Sensor_16', 'mean_incoming_Sensor_17', 'mean_incoming_Sensor_18', 'mean_incoming_Sensor_19', 'mean_incoming_Sensor_2', 'mean_incoming_Sensor_20', 'mean_incoming_Sensor_21', 'mean_incoming_Sensor_22', 'mean_incoming_Sensor_23', 'mean_incoming_Sensor_24', 'mean_incoming_Sensor_25', 'mean_incoming_Sensor_26', 'mean_incoming_Sensor_27', 'mean_incoming_Sensor_28', 'mean_incoming_Sensor_29', 'mean_incoming_Sensor_3', 'mean_incoming_Sensor_30', 'mean_incoming_Sensor_31', 'mean_incoming_Sensor_32', 'mean_incoming_Sensor_33', 'mean_incoming_Sensor_34', 'mean_incoming_Sensor_35', 'mean_incoming_Sensor_36', 'mean_incoming_Sensor_37', 'mean_incoming_Sensor_38', 'mean_incoming_Sensor_39', 'mean_incoming_Sensor_4', 'mean_incoming_Sensor_40', 'mean_incoming_Sensor_41', 'mean_incoming_Sensor_5', 'mean_incoming_Sensor_6', 'mean_incoming_Sensor_7', 'mean_incoming_Sensor_8', 'mean_incoming_Sensor_9', 'std_incoming_Sensor_1', 'std_incoming_Sensor_10', 'std_incoming_Sensor_11', 'std_incoming_Sensor_12', 'std_incoming_Sensor_13', 'std_incoming_Sensor_14', 'std_incoming_Sensor_15', 'std_incoming_Sensor_16', 'std_incoming_Sensor_17', 'std_incoming_Sensor_18', 'std_incoming_Sensor_19', 'std_incoming_Sensor_2', 'std_incoming_Sensor_20', 'std_incoming_Sensor_21', 'std_incoming_Sensor_22', 'std_incoming_Sensor_23', 'std_incoming_Sensor_24', 'std_incoming_Sensor_25', 'std_incoming_Sensor_26', 'std_incoming_Sensor_27', 'std_incoming_Sensor_28', 'std_incoming_Sensor_29', 'std_incoming_Sensor_3', 'std_incoming_Sensor_30', 'std_incoming_Sensor_31', 'std_incoming_Sensor_32', 'std_incoming_Sensor_33', 'std_incoming_Sensor_34', 'std_incoming_Sensor_35', 'std_incoming_Sensor_36', 'std_incoming_Sensor_37', 'std_incoming_Sensor_38', 'std_incoming_Sensor_39', 'std_incoming_Sensor_4', 'std_incoming_Sensor_40', 'std_incoming_Sensor_41', 'std_incoming_Sensor_5', 'std_incoming_Sensor_6', 'std_incoming_Sensor_7', 'std_incoming_Sensor_8', 'std_incoming_Sensor_9', 'min_incoming_Sensor_1', 'min_incoming_Sensor_10', 'min_incoming_Sensor_11', 'min_incoming_Sensor_12', 'min_incoming_Sensor_13', 'min_incoming_Sensor_14', 'min_incoming_Sensor_15', 'min_incoming_Sensor_16', 'min_incoming_Sensor_17', 'min_incoming_Sensor_18', 'min_incoming_Sensor_19', 'min_incoming_Sensor_2', 'min_incoming_Sensor_20', 'min_incoming_Sensor_21', 'min_incoming_Sensor_22', 'min_incoming_Sensor_23', 'min_incoming_Sensor_24', 'min_incoming_Sensor_25', 'min_incoming_Sensor_26', 'min_incoming_Sensor_27', 'min_incoming_Sensor_28', 'min_incoming_Sensor_29', 'min_incoming_Sensor_3', 'min_incoming_Sensor_30', 'min_incoming_Sensor_31', 'min_incoming_Sensor_32', 'min_incoming_Sensor_33', 'min_incoming_Sensor_34', 'min_incoming_Sensor_35', 'min_incoming_Sensor_36', 'min_incoming_Sensor_37', 'min_incoming_Sensor_38', 'min_incoming_Sensor_39', 'min_incoming_Sensor_4', 'min_incoming_Sensor_40', 'min_incoming_Sensor_41', 'min_incoming_Sensor_5', 'min_incoming_Sensor_6', 'min_incoming_Sensor_7', 'min_incoming_Sensor_8', 'min_incoming_Sensor_9', 'max_incoming_Sensor_1', 'max_incoming_Sensor_10', 'max_incoming_Sensor_11', 'max_incoming_Sensor_12', 'max_incoming_Sensor_13', 'max_incoming_Sensor_14', 'max_incoming_Sensor_15', 'max_incoming_Sensor_16', 'max_incoming_Sensor_17', 'max_incoming_Sensor_18', 'max_incoming_Sensor_19', 'max_incoming_Sensor_2', 'max_incoming_Sensor_20', 'max_incoming_Sensor_21', 'max_incoming_Sensor_22', 'max_incoming_Sensor_23', 'max_incoming_Sensor_24', 'max_incoming_Sensor_25', 'max_incoming_Sensor_26', 'max_incoming_Sensor_27', 'max_incoming_Sensor_28', 'max_incoming_Sensor_29', 'max_incoming_Sensor_3', 'max_incoming_Sensor_30', 'max_incoming_Sensor_31', 'max_incoming_Sensor_32', 'max_incoming_Sensor_33', 'max_incoming_Sensor_34', 'max_incoming_Sensor_35', 'max_incoming_Sensor_36', 'max_incoming_Sensor_37', 'max_incoming_Sensor_38', 'max_incoming_Sensor_39', 'max_incoming_Sensor_4', 'max_incoming_Sensor_40', 'max_incoming_Sensor_41', 'max_incoming_Sensor_5', 'max_incoming_Sensor_6', 'max_incoming_Sensor_7', 'max_incoming_Sensor_8', 'max_incoming_Sensor_9', 'run_duration']\n"
          ]
        }
      ],
      "source": [
        "# Add the engineered run_duration feature\n",
        "feat = feat.merge(run_df[['Run ID', 'run_duration']].drop_duplicates(), on='Run ID', how='left')\n",
        "\n",
        "print(\"\\nFeatures dataframe after engineering:\")\n",
        "print(feat.head())\n",
        "print(feat.columns.tolist())"
      ]
    },
    {
      "cell_type": "code",
      "execution_count": 29,
      "metadata": {
        "id": "xyfMWjEDvcNK"
      },
      "outputs": [],
      "source": [
        "# 3. Combine with measurement targets\n",
        "df = meas_df.merge(feat, on=\"Run ID\", how=\"left\")\n",
        "\n",
        "# drop any runs with missing features (if any)\n",
        "df.dropna(inplace=True)"
      ]
    },
    {
      "cell_type": "code",
      "execution_count": 30,
      "metadata": {
        "colab": {
          "base_uri": "https://localhost:8080/"
        },
        "id": "VWLYrwngLpnY",
        "outputId": "0d2ba0d7-c6f7-4c79-a8a1-f7d7fc61e8b0"
      },
      "outputs": [
        {
          "name": "stdout",
          "output_type": "stream",
          "text": [
            "                                 Run ID      Run Start Time  \\\n",
            "0  00862337-2cc0-5b34-b5e1-45588e935c39 2024-01-02 04:45:25   \n",
            "1  00862337-2cc0-5b34-b5e1-45588e935c39 2024-01-02 04:45:25   \n",
            "2  00862337-2cc0-5b34-b5e1-45588e935c39 2024-01-02 04:45:25   \n",
            "3  00862337-2cc0-5b34-b5e1-45588e935c39 2024-01-02 04:45:25   \n",
            "4  00862337-2cc0-5b34-b5e1-45588e935c39 2024-01-02 04:45:25   \n",
            "\n",
            "         Run End Time  X_index  Y_index           X          Y  Point Index  \\\n",
            "0 2024-01-02 04:58:00        1       23 -143.877551  -9.183673            3   \n",
            "1 2024-01-02 04:58:00        1       29 -143.877551  27.551020           48   \n",
            "2 2024-01-02 04:58:00        2       34 -137.755102  58.163265           43   \n",
            "3 2024-01-02 04:58:00        3       14 -131.632653 -64.285714           20   \n",
            "4 2024-01-02 04:58:00        5       39 -119.387755  88.775510            8   \n",
            "\n",
            "   Measurement  mean_Sensor_A  ...  max_incoming_Sensor_39  \\\n",
            "0    10.006534       0.001297  ...              207.349152   \n",
            "1    10.002181       0.001297  ...              207.349152   \n",
            "2    10.031223       0.001297  ...              207.349152   \n",
            "3    10.055888       0.001297  ...              207.349152   \n",
            "4    10.089505       0.001297  ...              207.349152   \n",
            "\n",
            "   max_incoming_Sensor_4  max_incoming_Sensor_40  max_incoming_Sensor_41  \\\n",
            "0             1041.91687                7.499665               98.563614   \n",
            "1             1041.91687                7.499665               98.563614   \n",
            "2             1041.91687                7.499665               98.563614   \n",
            "3             1041.91687                7.499665               98.563614   \n",
            "4             1041.91687                7.499665               98.563614   \n",
            "\n",
            "   max_incoming_Sensor_5  max_incoming_Sensor_6  max_incoming_Sensor_7  \\\n",
            "0               9.953715              23.693163               3.840665   \n",
            "1               9.953715              23.693163               3.840665   \n",
            "2               9.953715              23.693163               3.840665   \n",
            "3               9.953715              23.693163               3.840665   \n",
            "4               9.953715              23.693163               3.840665   \n",
            "\n",
            "   max_incoming_Sensor_8  max_incoming_Sensor_9  run_duration  \n",
            "0             203.629059             202.152756         755.0  \n",
            "1             203.629059             202.152756         755.0  \n",
            "2             203.629059             202.152756         755.0  \n",
            "3             203.629059             202.152756         755.0  \n",
            "4             203.629059             202.152756         755.0  \n",
            "\n",
            "[5 rows x 367 columns]\n"
          ]
        }
      ],
      "source": [
        "print(df.head())"
      ]
    },
    {
      "cell_type": "code",
      "execution_count": 31,
      "metadata": {
        "colab": {
          "base_uri": "https://localhost:8080/"
        },
        "id": "9Ut0Nr3Dus2Q",
        "outputId": "14c181f1-fb1e-461a-adfd-991de1b882ac"
      },
      "outputs": [
        {
          "name": "stdout",
          "output_type": "stream",
          "text": [
            "Run ID                           object\n",
            "Run Start Time           datetime64[ns]\n",
            "Run End Time             datetime64[ns]\n",
            "X_index                           int32\n",
            "Y_index                           int32\n",
            "                              ...      \n",
            "max_incoming_Sensor_6           float32\n",
            "max_incoming_Sensor_7           float32\n",
            "max_incoming_Sensor_8           float32\n",
            "max_incoming_Sensor_9           float32\n",
            "run_duration                    float64\n",
            "Length: 367, dtype: object\n"
          ]
        }
      ],
      "source": [
        "print(df.dtypes)"
      ]
    },
    {
      "cell_type": "code",
      "execution_count": 32,
      "metadata": {
        "id": "HGUfKBC6uxLB"
      },
      "outputs": [],
      "source": [
        "# # Create a categorical feature from 'run_type'\n",
        "# df['Tool_ID_encoded'] = df['Tool ID'].astype('category').cat.codes\n",
        "# df['Process_Step_encoded'] = df['Process Step'].astype('category').cat.codes\n",
        "# df['Step_ID_encoded'] = df['Step ID'].astype('category').cat.codes"
      ]
    },
    {
      "cell_type": "code",
      "execution_count": 33,
      "metadata": {
        "id": "paC4dQP0vNJP"
      },
      "outputs": [],
      "source": [
        "# df = df.drop(columns=['Tool ID', 'Process Step', 'Step ID'])\n",
        "# print(df.dtypes)"
      ]
    },
    {
      "cell_type": "code",
      "execution_count": 34,
      "metadata": {
        "colab": {
          "base_uri": "https://localhost:8080/",
          "height": 458
        },
        "id": "emZ09MBPZLgL",
        "outputId": "99829142-7803-4438-a4b1-48466e00f296"
      },
      "outputs": [
        {
          "name": "stdout",
          "output_type": "stream",
          "text": [
            "Measurement          1.000000\n",
            "mean_Sensor_N        0.755044\n",
            "std_Sensor_N         0.752535\n",
            "min_Sensor_N         0.749013\n",
            "max_Sensor_N         0.741277\n",
            "                       ...   \n",
            "ConsumableLifeMax   -0.067809\n",
            "std_Sensor_E        -0.200163\n",
            "mean_Sensor_E       -0.201605\n",
            "max_Sensor_E        -0.206962\n",
            "run_duration              NaN\n",
            "Name: Measurement, Length: 364, dtype: float64\n"
          ]
        }
      ],
      "source": [
        "corr_matrix = df.corr(numeric_only=True)[\"Measurement\"].sort_values(ascending=False)\n",
        "print(corr_matrix)"
      ]
    },
    {
      "cell_type": "code",
      "execution_count": 35,
      "metadata": {},
      "outputs": [
        {
          "data": {
            "image/png": "[encoded data removed]",
            "text/plain": [
              "<Figure size 1000x500 with 1 Axes>"
            ]
          },
          "metadata": {},
          "output_type": "display_data"
        }
      ],
      "source": [
        "# Select top 30 most correlated features (excluding \"Measurement\" if needed)\n",
        "top_10 = corr_matrix.nlargest(30)\n",
        "\n",
        "# Plot bar chart\n",
        "plt.figure(figsize=(10, 5))\n",
        "top_10.plot(kind=\"bar\", color=\"skyblue\")\n",
        "plt.xlabel(\"Features\")\n",
        "plt.ylabel(\"Correlation Value\")\n",
        "plt.title(\"Top 10 Most Correlated Features\")\n",
        "plt.xticks(rotation=45)\n",
        "plt.show()"
      ]
    },
    {
      "cell_type": "code",
      "execution_count": 36,
      "metadata": {
        "id": "FPXqdFznvcQS"
      },
      "outputs": [],
      "source": [
        "# 4. Train/validation split\n",
        "X = df.drop(columns=[\"Run ID\", \"Measurement\"])\n",
        "y = df[\"Measurement\"]\n",
        "X_train, X_test, y_train, y_test = train_test_split(\n",
        "    X, y, test_size=0.2, random_state=42\n",
        ")"
      ]
    },
    {
      "cell_type": "code",
      "execution_count": 37,
      "metadata": {
        "colab": {
          "base_uri": "https://localhost:8080/"
        },
        "id": "PJNgdHa40j_E",
        "outputId": "b8fba384-87b9-4eaa-881f-cd59cfbbd75c"
      },
      "outputs": [
        {
          "name": "stdout",
          "output_type": "stream",
          "text": [
            "Datetime columns: ['Run Start Time', 'Run End Time']\n"
          ]
        }
      ],
      "source": [
        "# Check for datetime columns\n",
        "datetime_cols = X_train.select_dtypes(include=[\"datetime64\"]).columns\n",
        "print(\"Datetime columns:\", list(datetime_cols))"
      ]
    },
    {
      "cell_type": "code",
      "execution_count": 38,
      "metadata": {
        "id": "QWa3XUbq0lfA"
      },
      "outputs": [],
      "source": [
        "# Drop datetime columns from both train and val\n",
        "X_train = X_train.drop(columns=datetime_cols)\n",
        "X_test = X_test.drop(columns=datetime_cols)\n",
        "X = X.drop(columns=datetime_cols)"
      ]
    },
    {
      "cell_type": "code",
      "execution_count": 39,
      "metadata": {},
      "outputs": [
        {
          "name": "stdout",
          "output_type": "stream",
          "text": [
            "Training until validation scores don't improve for 50 rounds\n",
            "[100]\ttraining's rmse: 0.0366454\tvalid_1's rmse: 0.037109\n",
            "[200]\ttraining's rmse: 0.0279845\tvalid_1's rmse: 0.028624\n",
            "[300]\ttraining's rmse: 0.0245981\tvalid_1's rmse: 0.0253316\n",
            "[400]\ttraining's rmse: 0.0227617\tvalid_1's rmse: 0.0236058\n",
            "[500]\ttraining's rmse: 0.0214556\tvalid_1's rmse: 0.0224018\n",
            "[600]\ttraining's rmse: 0.0202746\tvalid_1's rmse: 0.0213143\n",
            "[700]\ttraining's rmse: 0.0193195\tvalid_1's rmse: 0.0204539\n",
            "[800]\ttraining's rmse: 0.0185811\tvalid_1's rmse: 0.0198104\n",
            "[900]\ttraining's rmse: 0.0177826\tvalid_1's rmse: 0.0190954\n",
            "[1000]\ttraining's rmse: 0.0170377\tvalid_1's rmse: 0.018417\n",
            "Did not meet early stopping. Best iteration is:\n",
            "[1000]\ttraining's rmse: 0.0170377\tvalid_1's rmse: 0.018417\n"
          ]
        }
      ],
      "source": [
        "lgb_train = lgb.Dataset(X_train, y_train)\n",
        "lgb_val = lgb.Dataset(X_test, y_test, reference=lgb_train)\n",
        "\n",
        "params = {\n",
        "    \"objective\": \"regression\",\n",
        "    \"metric\": \"rmse\",\n",
        "    \"verbosity\": -1,\n",
        "    \"boosting_type\": \"gbdt\",\n",
        "    \"learning_rate\": 0.05,\n",
        "    \"num_leaves\": 31,\n",
        "    \"feature_fraction\": 0.9,\n",
        "    \"bagging_fraction\": 0.8,\n",
        "    \"bagging_freq\": 5,\n",
        "}\n",
        "\n",
        "lgb_model = lgb.train(\n",
        "    params,\n",
        "    lgb_train,\n",
        "    valid_sets=[lgb_train, lgb_val],\n",
        "    num_boost_round=1000,\n",
        "    callbacks=[\n",
        "        lgb.early_stopping(stopping_rounds=50),\n",
        "        lgb.log_evaluation(period=100)\n",
        "    ]\n",
        ")"
      ]
    },
    {
      "cell_type": "code",
      "execution_count": 40,
      "metadata": {
        "id": "TrDGigLUvcSx"
      },
      "outputs": [],
      "source": [
        "# # 5. Hyperparameter tuning with LightGBM\n",
        "# lgbm = lgb.LGBMRegressor(random_state=42)\n",
        "# param_grid = {\n",
        "#     \"num_leaves\":    [31, 63],\n",
        "#     \"learning_rate\": [0.1, 0.01],\n",
        "#     \"n_estimators\":  [100, 300]\n",
        "# }\n",
        "# grid = GridSearchCV(\n",
        "#     estimator=lgbm,\n",
        "#     param_grid=param_grid,\n",
        "#     scoring=\"neg_root_mean_squared_error\",\n",
        "#     cv=3,\n",
        "#     verbose=1,\n",
        "#     n_jobs=-1\n",
        "# )"
      ]
    },
    {
      "cell_type": "code",
      "execution_count": 41,
      "metadata": {},
      "outputs": [],
      "source": [
        "# grid.fit(X_train, y_train)\n",
        "\n",
        "# print(\"Best params:\", grid.best_params_)"
      ]
    },
    {
      "cell_type": "code",
      "execution_count": 42,
      "metadata": {},
      "outputs": [
        {
          "name": "stdout",
          "output_type": "stream",
          "text": [
            "Validation RMSE: 0.0184\n"
          ]
        }
      ],
      "source": [
        "# 6. Evaluate on validation set\n",
        "y_pred = lgb_model.predict(X_test)\n",
        "\n",
        "val_rmse = root_mean_squared_error(y_test, y_pred)\n",
        "print(f\"Validation RMSE: {val_rmse:.4f}\")"
      ]
    },
    {
      "cell_type": "code",
      "execution_count": 43,
      "metadata": {
        "colab": {
          "base_uri": "https://localhost:8080/",
          "height": 206
        },
        "id": "UAJJkGmrZpXI",
        "outputId": "b622247f-234e-45a8-e44e-389695a700ea"
      },
      "outputs": [
        {
          "data": {
            "text/html": [
              "<div>\n",
              "<style scoped>\n",
              "    .dataframe tbody tr th:only-of-type {\n",
              "        vertical-align: middle;\n",
              "    }\n",
              "\n",
              "    .dataframe tbody tr th {\n",
              "        vertical-align: top;\n",
              "    }\n",
              "\n",
              "    .dataframe thead th {\n",
              "        text-align: right;\n",
              "    }\n",
              "</style>\n",
              "<table border=\"1\" class=\"dataframe\">\n",
              "  <thead>\n",
              "    <tr style=\"text-align: right;\">\n",
              "      <th></th>\n",
              "      <th>Actual</th>\n",
              "      <th>Predicted</th>\n",
              "    </tr>\n",
              "  </thead>\n",
              "  <tbody>\n",
              "    <tr>\n",
              "      <th>73554</th>\n",
              "      <td>10.078344</td>\n",
              "      <td>10.090828</td>\n",
              "    </tr>\n",
              "    <tr>\n",
              "      <th>140000</th>\n",
              "      <td>10.262311</td>\n",
              "      <td>10.251587</td>\n",
              "    </tr>\n",
              "    <tr>\n",
              "      <th>78039</th>\n",
              "      <td>10.278650</td>\n",
              "      <td>10.286377</td>\n",
              "    </tr>\n",
              "    <tr>\n",
              "      <th>68565</th>\n",
              "      <td>10.516511</td>\n",
              "      <td>10.514361</td>\n",
              "    </tr>\n",
              "    <tr>\n",
              "      <th>4904</th>\n",
              "      <td>10.272160</td>\n",
              "      <td>10.240192</td>\n",
              "    </tr>\n",
              "  </tbody>\n",
              "</table>\n",
              "</div>"
            ],
            "text/plain": [
              "           Actual  Predicted\n",
              "73554   10.078344  10.090828\n",
              "140000  10.262311  10.251587\n",
              "78039   10.278650  10.286377\n",
              "68565   10.516511  10.514361\n",
              "4904    10.272160  10.240192"
            ]
          },
          "execution_count": 43,
          "metadata": {},
          "output_type": "execute_result"
        }
      ],
      "source": [
        "pred_val_df = pd.DataFrame({'Actual': y_test, 'Predicted': y_pred})\n",
        "pred_val_df.head()"
      ]
    },
    {
      "cell_type": "code",
      "execution_count": 45,
      "metadata": {},
      "outputs": [
        {
          "data": {
            "image/png": "[encoded data removed]",
            "text/plain": [
              "<Figure size 800x600 with 1 Axes>"
            ]
          },
          "metadata": {},
          "output_type": "display_data"
        }
      ],
      "source": [
        "# Get feature importance scores\n",
        "feature_importance = lgb_model.feature_importance(importance_type='gain')  # Or use 'split'\n",
        "feature_names = lgb_model.feature_name()\n",
        "\n",
        "# Create DataFrame for sorting\n",
        "importance_df = pd.DataFrame({'Feature': feature_names, 'Importance': feature_importance})\n",
        "\n",
        "# Sort and select top 10\n",
        "top_features = importance_df.sort_values(by='Importance', ascending=False).head(20)\n",
        "\n",
        "plt.figure(figsize=(8, 6))\n",
        "plt.barh(top_features['Feature'], top_features['Importance'], color='royalblue')\n",
        "plt.xlabel(\"Importance Score\")\n",
        "plt.ylabel(\"Feature\")\n",
        "plt.title(\"Top 20 Most Important Features in LightGBM\")\n",
        "plt.gca().invert_yaxis()  # Ensures highest importance is at the top\n",
        "plt.show()"
      ]
    },
    {
      "cell_type": "code",
      "execution_count": null,
      "metadata": {},
      "outputs": [],
      "source": [
        "from sklearn.ensemble import RandomForestClassifier, RandomForestRegressor"
      ]
    },
    {
      "cell_type": "code",
      "execution_count": 47,
      "metadata": {},
      "outputs": [],
      "source": [
        "reg = RandomForestRegressor(n_estimators=100, max_depth=5, random_state=42)\n",
        "reg.fit(X_train, y_train)\n",
        "\n",
        "# Make predictions\n",
        "y_pred = reg.predict(X_test)\n"
      ]
    },
    {
      "cell_type": "code",
      "execution_count": 48,
      "metadata": {},
      "outputs": [
        {
          "name": "stdout",
          "output_type": "stream",
          "text": [
            "Regression RMSE: 0.0752\n"
          ]
        }
      ],
      "source": [
        "# Evaluate performance\n",
        "rmse = root_mean_squared_error(y_test, y_pred)\n",
        "print(f\"Regression RMSE: {rmse:.4f}\")"
      ]
    },
    {
      "cell_type": "code",
      "execution_count": 49,
      "metadata": {},
      "outputs": [
        {
          "data": {
            "text/html": [
              "<div>\n",
              "<style scoped>\n",
              "    .dataframe tbody tr th:only-of-type {\n",
              "        vertical-align: middle;\n",
              "    }\n",
              "\n",
              "    .dataframe tbody tr th {\n",
              "        vertical-align: top;\n",
              "    }\n",
              "\n",
              "    .dataframe thead th {\n",
              "        text-align: right;\n",
              "    }\n",
              "</style>\n",
              "<table border=\"1\" class=\"dataframe\">\n",
              "  <thead>\n",
              "    <tr style=\"text-align: right;\">\n",
              "      <th></th>\n",
              "      <th>Actual</th>\n",
              "      <th>Predicted</th>\n",
              "    </tr>\n",
              "  </thead>\n",
              "  <tbody>\n",
              "    <tr>\n",
              "      <th>73554</th>\n",
              "      <td>10.078344</td>\n",
              "      <td>10.063186</td>\n",
              "    </tr>\n",
              "    <tr>\n",
              "      <th>140000</th>\n",
              "      <td>10.262311</td>\n",
              "      <td>10.252315</td>\n",
              "    </tr>\n",
              "    <tr>\n",
              "      <th>78039</th>\n",
              "      <td>10.278650</td>\n",
              "      <td>10.464753</td>\n",
              "    </tr>\n",
              "    <tr>\n",
              "      <th>68565</th>\n",
              "      <td>10.516511</td>\n",
              "      <td>10.483517</td>\n",
              "    </tr>\n",
              "    <tr>\n",
              "      <th>4904</th>\n",
              "      <td>10.272160</td>\n",
              "      <td>10.248052</td>\n",
              "    </tr>\n",
              "  </tbody>\n",
              "</table>\n",
              "</div>"
            ],
            "text/plain": [
              "           Actual  Predicted\n",
              "73554   10.078344  10.063186\n",
              "140000  10.262311  10.252315\n",
              "78039   10.278650  10.464753\n",
              "68565   10.516511  10.483517\n",
              "4904    10.272160  10.248052"
            ]
          },
          "execution_count": 49,
          "metadata": {},
          "output_type": "execute_result"
        }
      ],
      "source": [
        "pred_val_df = pd.DataFrame({'Actual': y_test, 'Predicted': y_pred})\n",
        "pred_val_df.head()"
      ]
    },
    {
      "cell_type": "code",
      "execution_count": 50,
      "metadata": {},
      "outputs": [],
      "source": [
        "import xgboost as xgb"
      ]
    },
    {
      "cell_type": "code",
      "execution_count": 51,
      "metadata": {},
      "outputs": [
        {
          "name": "stderr",
          "output_type": "stream",
          "text": [
            "c:\\Users\\felic\\miniconda3\\Lib\\site-packages\\xgboost\\training.py:183: UserWarning: [17:58:00] WARNING: C:\\actions-runner\\_work\\xgboost\\xgboost\\src\\learner.cc:738: \n",
            "Parameters: { \"use_label_encoder\" } are not used.\n",
            "\n",
            "  bst.update(dtrain, iteration=i, fobj=obj)\n"
          ]
        },
        {
          "data": {
            "text/html": [
              "<style>#sk-container-id-1 {\n",
              "  /* Definition of color scheme common for light and dark mode */\n",
              "  --sklearn-color-text: #000;\n",
              "  --sklearn-color-text-muted: #666;\n",
              "  --sklearn-color-line: gray;\n",
              "  /* Definition of color scheme for unfitted estimators */\n",
              "  --sklearn-color-unfitted-level-0: #fff5e6;\n",
              "  --sklearn-color-unfitted-level-1: #f6e4d2;\n",
              "  --sklearn-color-unfitted-level-2: #ffe0b3;\n",
              "  --sklearn-color-unfitted-level-3: chocolate;\n",
              "  /* Definition of color scheme for fitted estimators */\n",
              "  --sklearn-color-fitted-level-0: #f0f8ff;\n",
              "  --sklearn-color-fitted-level-1: #d4ebff;\n",
              "  --sklearn-color-fitted-level-2: #b3dbfd;\n",
              "  --sklearn-color-fitted-level-3: cornflowerblue;\n",
              "\n",
              "  /* Specific color for light theme */\n",
              "  --sklearn-color-text-on-default-background: var(--sg-text-color, var(--theme-code-foreground, var(--jp-content-font-color1, black)));\n",
              "  --sklearn-color-background: var(--sg-background-color, var(--theme-background, var(--jp-layout-color0, white)));\n",
              "  --sklearn-color-border-box: var(--sg-text-color, var(--theme-code-foreground, var(--jp-content-font-color1, black)));\n",
              "  --sklearn-color-icon: #696969;\n",
              "\n",
              "  @media (prefers-color-scheme: dark) {\n",
              "    /* Redefinition of color scheme for dark theme */\n",
              "    --sklearn-color-text-on-default-background: var(--sg-text-color, var(--theme-code-foreground, var(--jp-content-font-color1, white)));\n",
              "    --sklearn-color-background: var(--sg-background-color, var(--theme-background, var(--jp-layout-color0, #111)));\n",
              "    --sklearn-color-border-box: var(--sg-text-color, var(--theme-code-foreground, var(--jp-content-font-color1, white)));\n",
              "    --sklearn-color-icon: #878787;\n",
              "  }\n",
              "}\n",
              "\n",
              "#sk-container-id-1 {\n",
              "  color: var(--sklearn-color-text);\n",
              "}\n",
              "\n",
              "#sk-container-id-1 pre {\n",
              "  padding: 0;\n",
              "}\n",
              "\n",
              "#sk-container-id-1 input.sk-hidden--visually {\n",
              "  border: 0;\n",
              "  clip: rect(1px 1px 1px 1px);\n",
              "  clip: rect(1px, 1px, 1px, 1px);\n",
              "  height: 1px;\n",
              "  margin: -1px;\n",
              "  overflow: hidden;\n",
              "  padding: 0;\n",
              "  position: absolute;\n",
              "  width: 1px;\n",
              "}\n",
              "\n",
              "#sk-container-id-1 div.sk-dashed-wrapped {\n",
              "  border: 1px dashed var(--sklearn-color-line);\n",
              "  margin: 0 0.4em 0.5em 0.4em;\n",
              "  box-sizing: border-box;\n",
              "  padding-bottom: 0.4em;\n",
              "  background-color: var(--sklearn-color-background);\n",
              "}\n",
              "\n",
              "#sk-container-id-1 div.sk-container {\n",
              "  /* jupyter's `normalize.less` sets `[hidden] { display: none; }`\n",
              "     but bootstrap.min.css set `[hidden] { display: none !important; }`\n",
              "     so we also need the `!important` here to be able to override the\n",
              "     default hidden behavior on the sphinx rendered scikit-learn.org.\n",
              "     See: https://github.com/scikit-learn/scikit-learn/issues/21755 */\n",
              "  display: inline-block !important;\n",
              "  position: relative;\n",
              "}\n",
              "\n",
              "#sk-container-id-1 div.sk-text-repr-fallback {\n",
              "  display: none;\n",
              "}\n",
              "\n",
              "div.sk-parallel-item,\n",
              "div.sk-serial,\n",
              "div.sk-item {\n",
              "  /* draw centered vertical line to link estimators */\n",
              "  background-image: linear-gradient(var(--sklearn-color-text-on-default-background), var(--sklearn-color-text-on-default-background));\n",
              "  background-size: 2px 100%;\n",
              "  background-repeat: no-repeat;\n",
              "  background-position: center center;\n",
              "}\n",
              "\n",
              "/* Parallel-specific style estimator block */\n",
              "\n",
              "#sk-container-id-1 div.sk-parallel-item::after {\n",
              "  content: \"\";\n",
              "  width: 100%;\n",
              "  border-bottom: 2px solid var(--sklearn-color-text-on-default-background);\n",
              "  flex-grow: 1;\n",
              "}\n",
              "\n",
              "#sk-container-id-1 div.sk-parallel {\n",
              "  display: flex;\n",
              "  align-items: stretch;\n",
              "  justify-content: center;\n",
              "  background-color: var(--sklearn-color-background);\n",
              "  position: relative;\n",
              "}\n",
              "\n",
              "#sk-container-id-1 div.sk-parallel-item {\n",
              "  display: flex;\n",
              "  flex-direction: column;\n",
              "}\n",
              "\n",
              "#sk-container-id-1 div.sk-parallel-item:first-child::after {\n",
              "  align-self: flex-end;\n",
              "  width: 50%;\n",
              "}\n",
              "\n",
              "#sk-container-id-1 div.sk-parallel-item:last-child::after {\n",
              "  align-self: flex-start;\n",
              "  width: 50%;\n",
              "}\n",
              "\n",
              "#sk-container-id-1 div.sk-parallel-item:only-child::after {\n",
              "  width: 0;\n",
              "}\n",
              "\n",
              "/* Serial-specific style estimator block */\n",
              "\n",
              "#sk-container-id-1 div.sk-serial {\n",
              "  display: flex;\n",
              "  flex-direction: column;\n",
              "  align-items: center;\n",
              "  background-color: var(--sklearn-color-background);\n",
              "  padding-right: 1em;\n",
              "  padding-left: 1em;\n",
              "}\n",
              "\n",
              "\n",
              "/* Toggleable style: style used for estimator/Pipeline/ColumnTransformer box that is\n",
              "clickable and can be expanded/collapsed.\n",
              "- Pipeline and ColumnTransformer use this feature and define the default style\n",
              "- Estimators will overwrite some part of the style using the `sk-estimator` class\n",
              "*/\n",
              "\n",
              "/* Pipeline and ColumnTransformer style (default) */\n",
              "\n",
              "#sk-container-id-1 div.sk-toggleable {\n",
              "  /* Default theme specific background. It is overwritten whether we have a\n",
              "  specific estimator or a Pipeline/ColumnTransformer */\n",
              "  background-color: var(--sklearn-color-background);\n",
              "}\n",
              "\n",
              "/* Toggleable label */\n",
              "#sk-container-id-1 label.sk-toggleable__label {\n",
              "  cursor: pointer;\n",
              "  display: flex;\n",
              "  width: 100%;\n",
              "  margin-bottom: 0;\n",
              "  padding: 0.5em;\n",
              "  box-sizing: border-box;\n",
              "  text-align: center;\n",
              "  align-items: start;\n",
              "  justify-content: space-between;\n",
              "  gap: 0.5em;\n",
              "}\n",
              "\n",
              "#sk-container-id-1 label.sk-toggleable__label .caption {\n",
              "  font-size: 0.6rem;\n",
              "  font-weight: lighter;\n",
              "  color: var(--sklearn-color-text-muted);\n",
              "}\n",
              "\n",
              "#sk-container-id-1 label.sk-toggleable__label-arrow:before {\n",
              "  /* Arrow on the left of the label */\n",
              "  content: \"▸\";\n",
              "  float: left;\n",
              "  margin-right: 0.25em;\n",
              "  color: var(--sklearn-color-icon);\n",
              "}\n",
              "\n",
              "#sk-container-id-1 label.sk-toggleable__label-arrow:hover:before {\n",
              "  color: var(--sklearn-color-text);\n",
              "}\n",
              "\n",
              "/* Toggleable content - dropdown */\n",
              "\n",
              "#sk-container-id-1 div.sk-toggleable__content {\n",
              "  max-height: 0;\n",
              "  max-width: 0;\n",
              "  overflow: hidden;\n",
              "  text-align: left;\n",
              "  /* unfitted */\n",
              "  background-color: var(--sklearn-color-unfitted-level-0);\n",
              "}\n",
              "\n",
              "#sk-container-id-1 div.sk-toggleable__content.fitted {\n",
              "  /* fitted */\n",
              "  background-color: var(--sklearn-color-fitted-level-0);\n",
              "}\n",
              "\n",
              "#sk-container-id-1 div.sk-toggleable__content pre {\n",
              "  margin: 0.2em;\n",
              "  border-radius: 0.25em;\n",
              "  color: var(--sklearn-color-text);\n",
              "  /* unfitted */\n",
              "  background-color: var(--sklearn-color-unfitted-level-0);\n",
              "}\n",
              "\n",
              "#sk-container-id-1 div.sk-toggleable__content.fitted pre {\n",
              "  /* unfitted */\n",
              "  background-color: var(--sklearn-color-fitted-level-0);\n",
              "}\n",
              "\n",
              "#sk-container-id-1 input.sk-toggleable__control:checked~div.sk-toggleable__content {\n",
              "  /* Expand drop-down */\n",
              "  max-height: 200px;\n",
              "  max-width: 100%;\n",
              "  overflow: auto;\n",
              "}\n",
              "\n",
              "#sk-container-id-1 input.sk-toggleable__control:checked~label.sk-toggleable__label-arrow:before {\n",
              "  content: \"▾\";\n",
              "}\n",
              "\n",
              "/* Pipeline/ColumnTransformer-specific style */\n",
              "\n",
              "#sk-container-id-1 div.sk-label input.sk-toggleable__control:checked~label.sk-toggleable__label {\n",
              "  color: var(--sklearn-color-text);\n",
              "  background-color: var(--sklearn-color-unfitted-level-2);\n",
              "}\n",
              "\n",
              "#sk-container-id-1 div.sk-label.fitted input.sk-toggleable__control:checked~label.sk-toggleable__label {\n",
              "  background-color: var(--sklearn-color-fitted-level-2);\n",
              "}\n",
              "\n",
              "/* Estimator-specific style */\n",
              "\n",
              "/* Colorize estimator box */\n",
              "#sk-container-id-1 div.sk-estimator input.sk-toggleable__control:checked~label.sk-toggleable__label {\n",
              "  /* unfitted */\n",
              "  background-color: var(--sklearn-color-unfitted-level-2);\n",
              "}\n",
              "\n",
              "#sk-container-id-1 div.sk-estimator.fitted input.sk-toggleable__control:checked~label.sk-toggleable__label {\n",
              "  /* fitted */\n",
              "  background-color: var(--sklearn-color-fitted-level-2);\n",
              "}\n",
              "\n",
              "#sk-container-id-1 div.sk-label label.sk-toggleable__label,\n",
              "#sk-container-id-1 div.sk-label label {\n",
              "  /* The background is the default theme color */\n",
              "  color: var(--sklearn-color-text-on-default-background);\n",
              "}\n",
              "\n",
              "/* On hover, darken the color of the background */\n",
              "#sk-container-id-1 div.sk-label:hover label.sk-toggleable__label {\n",
              "  color: var(--sklearn-color-text);\n",
              "  background-color: var(--sklearn-color-unfitted-level-2);\n",
              "}\n",
              "\n",
              "/* Label box, darken color on hover, fitted */\n",
              "#sk-container-id-1 div.sk-label.fitted:hover label.sk-toggleable__label.fitted {\n",
              "  color: var(--sklearn-color-text);\n",
              "  background-color: var(--sklearn-color-fitted-level-2);\n",
              "}\n",
              "\n",
              "/* Estimator label */\n",
              "\n",
              "#sk-container-id-1 div.sk-label label {\n",
              "  font-family: monospace;\n",
              "  font-weight: bold;\n",
              "  display: inline-block;\n",
              "  line-height: 1.2em;\n",
              "}\n",
              "\n",
              "#sk-container-id-1 div.sk-label-container {\n",
              "  text-align: center;\n",
              "}\n",
              "\n",
              "/* Estimator-specific */\n",
              "#sk-container-id-1 div.sk-estimator {\n",
              "  font-family: monospace;\n",
              "  border: 1px dotted var(--sklearn-color-border-box);\n",
              "  border-radius: 0.25em;\n",
              "  box-sizing: border-box;\n",
              "  margin-bottom: 0.5em;\n",
              "  /* unfitted */\n",
              "  background-color: var(--sklearn-color-unfitted-level-0);\n",
              "}\n",
              "\n",
              "#sk-container-id-1 div.sk-estimator.fitted {\n",
              "  /* fitted */\n",
              "  background-color: var(--sklearn-color-fitted-level-0);\n",
              "}\n",
              "\n",
              "/* on hover */\n",
              "#sk-container-id-1 div.sk-estimator:hover {\n",
              "  /* unfitted */\n",
              "  background-color: var(--sklearn-color-unfitted-level-2);\n",
              "}\n",
              "\n",
              "#sk-container-id-1 div.sk-estimator.fitted:hover {\n",
              "  /* fitted */\n",
              "  background-color: var(--sklearn-color-fitted-level-2);\n",
              "}\n",
              "\n",
              "/* Specification for estimator info (e.g. \"i\" and \"?\") */\n",
              "\n",
              "/* Common style for \"i\" and \"?\" */\n",
              "\n",
              ".sk-estimator-doc-link,\n",
              "a:link.sk-estimator-doc-link,\n",
              "a:visited.sk-estimator-doc-link {\n",
              "  float: right;\n",
              "  font-size: smaller;\n",
              "  line-height: 1em;\n",
              "  font-family: monospace;\n",
              "  background-color: var(--sklearn-color-background);\n",
              "  border-radius: 1em;\n",
              "  height: 1em;\n",
              "  width: 1em;\n",
              "  text-decoration: none !important;\n",
              "  margin-left: 0.5em;\n",
              "  text-align: center;\n",
              "  /* unfitted */\n",
              "  border: var(--sklearn-color-unfitted-level-1) 1pt solid;\n",
              "  color: var(--sklearn-color-unfitted-level-1);\n",
              "}\n",
              "\n",
              ".sk-estimator-doc-link.fitted,\n",
              "a:link.sk-estimator-doc-link.fitted,\n",
              "a:visited.sk-estimator-doc-link.fitted {\n",
              "  /* fitted */\n",
              "  border: var(--sklearn-color-fitted-level-1) 1pt solid;\n",
              "  color: var(--sklearn-color-fitted-level-1);\n",
              "}\n",
              "\n",
              "/* On hover */\n",
              "div.sk-estimator:hover .sk-estimator-doc-link:hover,\n",
              ".sk-estimator-doc-link:hover,\n",
              "div.sk-label-container:hover .sk-estimator-doc-link:hover,\n",
              ".sk-estimator-doc-link:hover {\n",
              "  /* unfitted */\n",
              "  background-color: var(--sklearn-color-unfitted-level-3);\n",
              "  color: var(--sklearn-color-background);\n",
              "  text-decoration: none;\n",
              "}\n",
              "\n",
              "div.sk-estimator.fitted:hover .sk-estimator-doc-link.fitted:hover,\n",
              ".sk-estimator-doc-link.fitted:hover,\n",
              "div.sk-label-container:hover .sk-estimator-doc-link.fitted:hover,\n",
              ".sk-estimator-doc-link.fitted:hover {\n",
              "  /* fitted */\n",
              "  background-color: var(--sklearn-color-fitted-level-3);\n",
              "  color: var(--sklearn-color-background);\n",
              "  text-decoration: none;\n",
              "}\n",
              "\n",
              "/* Span, style for the box shown on hovering the info icon */\n",
              ".sk-estimator-doc-link span {\n",
              "  display: none;\n",
              "  z-index: 9999;\n",
              "  position: relative;\n",
              "  font-weight: normal;\n",
              "  right: .2ex;\n",
              "  padding: .5ex;\n",
              "  margin: .5ex;\n",
              "  width: min-content;\n",
              "  min-width: 20ex;\n",
              "  max-width: 50ex;\n",
              "  color: var(--sklearn-color-text);\n",
              "  box-shadow: 2pt 2pt 4pt #999;\n",
              "  /* unfitted */\n",
              "  background: var(--sklearn-color-unfitted-level-0);\n",
              "  border: .5pt solid var(--sklearn-color-unfitted-level-3);\n",
              "}\n",
              "\n",
              ".sk-estimator-doc-link.fitted span {\n",
              "  /* fitted */\n",
              "  background: var(--sklearn-color-fitted-level-0);\n",
              "  border: var(--sklearn-color-fitted-level-3);\n",
              "}\n",
              "\n",
              ".sk-estimator-doc-link:hover span {\n",
              "  display: block;\n",
              "}\n",
              "\n",
              "/* \"?\"-specific style due to the `<a>` HTML tag */\n",
              "\n",
              "#sk-container-id-1 a.estimator_doc_link {\n",
              "  float: right;\n",
              "  font-size: 1rem;\n",
              "  line-height: 1em;\n",
              "  font-family: monospace;\n",
              "  background-color: var(--sklearn-color-background);\n",
              "  border-radius: 1rem;\n",
              "  height: 1rem;\n",
              "  width: 1rem;\n",
              "  text-decoration: none;\n",
              "  /* unfitted */\n",
              "  color: var(--sklearn-color-unfitted-level-1);\n",
              "  border: var(--sklearn-color-unfitted-level-1) 1pt solid;\n",
              "}\n",
              "\n",
              "#sk-container-id-1 a.estimator_doc_link.fitted {\n",
              "  /* fitted */\n",
              "  border: var(--sklearn-color-fitted-level-1) 1pt solid;\n",
              "  color: var(--sklearn-color-fitted-level-1);\n",
              "}\n",
              "\n",
              "/* On hover */\n",
              "#sk-container-id-1 a.estimator_doc_link:hover {\n",
              "  /* unfitted */\n",
              "  background-color: var(--sklearn-color-unfitted-level-3);\n",
              "  color: var(--sklearn-color-background);\n",
              "  text-decoration: none;\n",
              "}\n",
              "\n",
              "#sk-container-id-1 a.estimator_doc_link.fitted:hover {\n",
              "  /* fitted */\n",
              "  background-color: var(--sklearn-color-fitted-level-3);\n",
              "}\n",
              "</style><div id=\"sk-container-id-1\" class=\"sk-top-container\"><div class=\"sk-text-repr-fallback\"><pre>XGBRegressor(base_score=None, booster=None, callbacks=None,\n",
              "             colsample_bylevel=None, colsample_bynode=None,\n",
              "             colsample_bytree=None, device=None, early_stopping_rounds=None,\n",
              "             enable_categorical=False, eval_metric=None, feature_types=None,\n",
              "             feature_weights=None, gamma=None, grow_policy=None,\n",
              "             importance_type=None, interaction_constraints=None,\n",
              "             learning_rate=0.1, max_bin=None, max_cat_threshold=None,\n",
              "             max_cat_to_onehot=None, max_delta_step=None, max_depth=3,\n",
              "             max_leaves=None, min_child_weight=None, missing=nan,\n",
              "             monotone_constraints=None, multi_strategy=None, n_estimators=100,\n",
              "             n_jobs=None, num_parallel_tree=None, ...)</pre><b>In a Jupyter environment, please rerun this cell to show the HTML representation or trust the notebook. <br />On GitHub, the HTML representation is unable to render, please try loading this page with nbviewer.org.</b></div><div class=\"sk-container\" hidden><div class=\"sk-item\"><div class=\"sk-estimator fitted sk-toggleable\"><input class=\"sk-toggleable__control sk-hidden--visually\" id=\"sk-estimator-id-1\" type=\"checkbox\" checked><label for=\"sk-estimator-id-1\" class=\"sk-toggleable__label fitted sk-toggleable__label-arrow\"><div><div>XGBRegressor</div></div><div><a class=\"sk-estimator-doc-link fitted\" rel=\"noreferrer\" target=\"_blank\" href=\"https://xgboost.readthedocs.io/en/release_3.0.0/python/python_api.html#xgboost.XGBRegressor\">?<span>Documentation for XGBRegressor</span></a><span class=\"sk-estimator-doc-link fitted\">i<span>Fitted</span></span></div></label><div class=\"sk-toggleable__content fitted\"><pre>XGBRegressor(base_score=None, booster=None, callbacks=None,\n",
              "             colsample_bylevel=None, colsample_bynode=None,\n",
              "             colsample_bytree=None, device=None, early_stopping_rounds=None,\n",
              "             enable_categorical=False, eval_metric=None, feature_types=None,\n",
              "             feature_weights=None, gamma=None, grow_policy=None,\n",
              "             importance_type=None, interaction_constraints=None,\n",
              "             learning_rate=0.1, max_bin=None, max_cat_threshold=None,\n",
              "             max_cat_to_onehot=None, max_delta_step=None, max_depth=3,\n",
              "             max_leaves=None, min_child_weight=None, missing=nan,\n",
              "             monotone_constraints=None, multi_strategy=None, n_estimators=100,\n",
              "             n_jobs=None, num_parallel_tree=None, ...)</pre></div> </div></div></div></div>"
            ],
            "text/plain": [
              "XGBRegressor(base_score=None, booster=None, callbacks=None,\n",
              "             colsample_bylevel=None, colsample_bynode=None,\n",
              "             colsample_bytree=None, device=None, early_stopping_rounds=None,\n",
              "             enable_categorical=False, eval_metric=None, feature_types=None,\n",
              "             feature_weights=None, gamma=None, grow_policy=None,\n",
              "             importance_type=None, interaction_constraints=None,\n",
              "             learning_rate=0.1, max_bin=None, max_cat_threshold=None,\n",
              "             max_cat_to_onehot=None, max_delta_step=None, max_depth=3,\n",
              "             max_leaves=None, min_child_weight=None, missing=nan,\n",
              "             monotone_constraints=None, multi_strategy=None, n_estimators=100,\n",
              "             n_jobs=None, num_parallel_tree=None, ...)"
            ]
          },
          "execution_count": 51,
          "metadata": {},
          "output_type": "execute_result"
        }
      ],
      "source": [
        "# Initialize XGBoost classifier\n",
        "xgb_model = xgb.XGBRegressor(n_estimators=100, learning_rate=0.1, max_depth=3, use_label_encoder=False)\n",
        "\n",
        "# Train model\n",
        "xgb_model.fit(X_train, y_train)\n"
      ]
    },
    {
      "cell_type": "code",
      "execution_count": 52,
      "metadata": {},
      "outputs": [
        {
          "name": "stdout",
          "output_type": "stream",
          "text": [
            "Regression RMSE: 0.0464\n"
          ]
        }
      ],
      "source": [
        "# Make predictions\n",
        "y_pred = xgb_model.predict(X_test)\n",
        "\n",
        "# Evaluate performance\n",
        "rmse = root_mean_squared_error(y_test, y_pred)\n",
        "print(f\"Regression RMSE: {rmse:.4f}\")"
      ]
    },
    {
      "cell_type": "code",
      "execution_count": 53,
      "metadata": {},
      "outputs": [
        {
          "data": {
            "text/html": [
              "<div>\n",
              "<style scoped>\n",
              "    .dataframe tbody tr th:only-of-type {\n",
              "        vertical-align: middle;\n",
              "    }\n",
              "\n",
              "    .dataframe tbody tr th {\n",
              "        vertical-align: top;\n",
              "    }\n",
              "\n",
              "    .dataframe thead th {\n",
              "        text-align: right;\n",
              "    }\n",
              "</style>\n",
              "<table border=\"1\" class=\"dataframe\">\n",
              "  <thead>\n",
              "    <tr style=\"text-align: right;\">\n",
              "      <th></th>\n",
              "      <th>Actual</th>\n",
              "      <th>Predicted</th>\n",
              "    </tr>\n",
              "  </thead>\n",
              "  <tbody>\n",
              "    <tr>\n",
              "      <th>73554</th>\n",
              "      <td>10.078344</td>\n",
              "      <td>10.090153</td>\n",
              "    </tr>\n",
              "    <tr>\n",
              "      <th>140000</th>\n",
              "      <td>10.262311</td>\n",
              "      <td>10.263160</td>\n",
              "    </tr>\n",
              "    <tr>\n",
              "      <th>78039</th>\n",
              "      <td>10.278650</td>\n",
              "      <td>10.312742</td>\n",
              "    </tr>\n",
              "    <tr>\n",
              "      <th>68565</th>\n",
              "      <td>10.516511</td>\n",
              "      <td>10.464619</td>\n",
              "    </tr>\n",
              "    <tr>\n",
              "      <th>4904</th>\n",
              "      <td>10.272160</td>\n",
              "      <td>10.234859</td>\n",
              "    </tr>\n",
              "  </tbody>\n",
              "</table>\n",
              "</div>"
            ],
            "text/plain": [
              "           Actual  Predicted\n",
              "73554   10.078344  10.090153\n",
              "140000  10.262311  10.263160\n",
              "78039   10.278650  10.312742\n",
              "68565   10.516511  10.464619\n",
              "4904    10.272160  10.234859"
            ]
          },
          "execution_count": 53,
          "metadata": {},
          "output_type": "execute_result"
        }
      ],
      "source": [
        "pred_val_df = pd.DataFrame({'Actual': y_test, 'Predicted': y_pred})\n",
        "pred_val_df.head()"
      ]
    },
    {
      "cell_type": "code",
      "execution_count": 54,
      "metadata": {},
      "outputs": [],
      "source": [
        "from sklearn.linear_model import LinearRegression"
      ]
    },
    {
      "cell_type": "code",
      "execution_count": 55,
      "metadata": {},
      "outputs": [
        {
          "data": {
            "text/html": [
              "<style>#sk-container-id-2 {\n",
              "  /* Definition of color scheme common for light and dark mode */\n",
              "  --sklearn-color-text: #000;\n",
              "  --sklearn-color-text-muted: #666;\n",
              "  --sklearn-color-line: gray;\n",
              "  /* Definition of color scheme for unfitted estimators */\n",
              "  --sklearn-color-unfitted-level-0: #fff5e6;\n",
              "  --sklearn-color-unfitted-level-1: #f6e4d2;\n",
              "  --sklearn-color-unfitted-level-2: #ffe0b3;\n",
              "  --sklearn-color-unfitted-level-3: chocolate;\n",
              "  /* Definition of color scheme for fitted estimators */\n",
              "  --sklearn-color-fitted-level-0: #f0f8ff;\n",
              "  --sklearn-color-fitted-level-1: #d4ebff;\n",
              "  --sklearn-color-fitted-level-2: #b3dbfd;\n",
              "  --sklearn-color-fitted-level-3: cornflowerblue;\n",
              "\n",
              "  /* Specific color for light theme */\n",
              "  --sklearn-color-text-on-default-background: var(--sg-text-color, var(--theme-code-foreground, var(--jp-content-font-color1, black)));\n",
              "  --sklearn-color-background: var(--sg-background-color, var(--theme-background, var(--jp-layout-color0, white)));\n",
              "  --sklearn-color-border-box: var(--sg-text-color, var(--theme-code-foreground, var(--jp-content-font-color1, black)));\n",
              "  --sklearn-color-icon: #696969;\n",
              "\n",
              "  @media (prefers-color-scheme: dark) {\n",
              "    /* Redefinition of color scheme for dark theme */\n",
              "    --sklearn-color-text-on-default-background: var(--sg-text-color, var(--theme-code-foreground, var(--jp-content-font-color1, white)));\n",
              "    --sklearn-color-background: var(--sg-background-color, var(--theme-background, var(--jp-layout-color0, #111)));\n",
              "    --sklearn-color-border-box: var(--sg-text-color, var(--theme-code-foreground, var(--jp-content-font-color1, white)));\n",
              "    --sklearn-color-icon: #878787;\n",
              "  }\n",
              "}\n",
              "\n",
              "#sk-container-id-2 {\n",
              "  color: var(--sklearn-color-text);\n",
              "}\n",
              "\n",
              "#sk-container-id-2 pre {\n",
              "  padding: 0;\n",
              "}\n",
              "\n",
              "#sk-container-id-2 input.sk-hidden--visually {\n",
              "  border: 0;\n",
              "  clip: rect(1px 1px 1px 1px);\n",
              "  clip: rect(1px, 1px, 1px, 1px);\n",
              "  height: 1px;\n",
              "  margin: -1px;\n",
              "  overflow: hidden;\n",
              "  padding: 0;\n",
              "  position: absolute;\n",
              "  width: 1px;\n",
              "}\n",
              "\n",
              "#sk-container-id-2 div.sk-dashed-wrapped {\n",
              "  border: 1px dashed var(--sklearn-color-line);\n",
              "  margin: 0 0.4em 0.5em 0.4em;\n",
              "  box-sizing: border-box;\n",
              "  padding-bottom: 0.4em;\n",
              "  background-color: var(--sklearn-color-background);\n",
              "}\n",
              "\n",
              "#sk-container-id-2 div.sk-container {\n",
              "  /* jupyter's `normalize.less` sets `[hidden] { display: none; }`\n",
              "     but bootstrap.min.css set `[hidden] { display: none !important; }`\n",
              "     so we also need the `!important` here to be able to override the\n",
              "     default hidden behavior on the sphinx rendered scikit-learn.org.\n",
              "     See: https://github.com/scikit-learn/scikit-learn/issues/21755 */\n",
              "  display: inline-block !important;\n",
              "  position: relative;\n",
              "}\n",
              "\n",
              "#sk-container-id-2 div.sk-text-repr-fallback {\n",
              "  display: none;\n",
              "}\n",
              "\n",
              "div.sk-parallel-item,\n",
              "div.sk-serial,\n",
              "div.sk-item {\n",
              "  /* draw centered vertical line to link estimators */\n",
              "  background-image: linear-gradient(var(--sklearn-color-text-on-default-background), var(--sklearn-color-text-on-default-background));\n",
              "  background-size: 2px 100%;\n",
              "  background-repeat: no-repeat;\n",
              "  background-position: center center;\n",
              "}\n",
              "\n",
              "/* Parallel-specific style estimator block */\n",
              "\n",
              "#sk-container-id-2 div.sk-parallel-item::after {\n",
              "  content: \"\";\n",
              "  width: 100%;\n",
              "  border-bottom: 2px solid var(--sklearn-color-text-on-default-background);\n",
              "  flex-grow: 1;\n",
              "}\n",
              "\n",
              "#sk-container-id-2 div.sk-parallel {\n",
              "  display: flex;\n",
              "  align-items: stretch;\n",
              "  justify-content: center;\n",
              "  background-color: var(--sklearn-color-background);\n",
              "  position: relative;\n",
              "}\n",
              "\n",
              "#sk-container-id-2 div.sk-parallel-item {\n",
              "  display: flex;\n",
              "  flex-direction: column;\n",
              "}\n",
              "\n",
              "#sk-container-id-2 div.sk-parallel-item:first-child::after {\n",
              "  align-self: flex-end;\n",
              "  width: 50%;\n",
              "}\n",
              "\n",
              "#sk-container-id-2 div.sk-parallel-item:last-child::after {\n",
              "  align-self: flex-start;\n",
              "  width: 50%;\n",
              "}\n",
              "\n",
              "#sk-container-id-2 div.sk-parallel-item:only-child::after {\n",
              "  width: 0;\n",
              "}\n",
              "\n",
              "/* Serial-specific style estimator block */\n",
              "\n",
              "#sk-container-id-2 div.sk-serial {\n",
              "  display: flex;\n",
              "  flex-direction: column;\n",
              "  align-items: center;\n",
              "  background-color: var(--sklearn-color-background);\n",
              "  padding-right: 1em;\n",
              "  padding-left: 1em;\n",
              "}\n",
              "\n",
              "\n",
              "/* Toggleable style: style used for estimator/Pipeline/ColumnTransformer box that is\n",
              "clickable and can be expanded/collapsed.\n",
              "- Pipeline and ColumnTransformer use this feature and define the default style\n",
              "- Estimators will overwrite some part of the style using the `sk-estimator` class\n",
              "*/\n",
              "\n",
              "/* Pipeline and ColumnTransformer style (default) */\n",
              "\n",
              "#sk-container-id-2 div.sk-toggleable {\n",
              "  /* Default theme specific background. It is overwritten whether we have a\n",
              "  specific estimator or a Pipeline/ColumnTransformer */\n",
              "  background-color: var(--sklearn-color-background);\n",
              "}\n",
              "\n",
              "/* Toggleable label */\n",
              "#sk-container-id-2 label.sk-toggleable__label {\n",
              "  cursor: pointer;\n",
              "  display: flex;\n",
              "  width: 100%;\n",
              "  margin-bottom: 0;\n",
              "  padding: 0.5em;\n",
              "  box-sizing: border-box;\n",
              "  text-align: center;\n",
              "  align-items: start;\n",
              "  justify-content: space-between;\n",
              "  gap: 0.5em;\n",
              "}\n",
              "\n",
              "#sk-container-id-2 label.sk-toggleable__label .caption {\n",
              "  font-size: 0.6rem;\n",
              "  font-weight: lighter;\n",
              "  color: var(--sklearn-color-text-muted);\n",
              "}\n",
              "\n",
              "#sk-container-id-2 label.sk-toggleable__label-arrow:before {\n",
              "  /* Arrow on the left of the label */\n",
              "  content: \"▸\";\n",
              "  float: left;\n",
              "  margin-right: 0.25em;\n",
              "  color: var(--sklearn-color-icon);\n",
              "}\n",
              "\n",
              "#sk-container-id-2 label.sk-toggleable__label-arrow:hover:before {\n",
              "  color: var(--sklearn-color-text);\n",
              "}\n",
              "\n",
              "/* Toggleable content - dropdown */\n",
              "\n",
              "#sk-container-id-2 div.sk-toggleable__content {\n",
              "  max-height: 0;\n",
              "  max-width: 0;\n",
              "  overflow: hidden;\n",
              "  text-align: left;\n",
              "  /* unfitted */\n",
              "  background-color: var(--sklearn-color-unfitted-level-0);\n",
              "}\n",
              "\n",
              "#sk-container-id-2 div.sk-toggleable__content.fitted {\n",
              "  /* fitted */\n",
              "  background-color: var(--sklearn-color-fitted-level-0);\n",
              "}\n",
              "\n",
              "#sk-container-id-2 div.sk-toggleable__content pre {\n",
              "  margin: 0.2em;\n",
              "  border-radius: 0.25em;\n",
              "  color: var(--sklearn-color-text);\n",
              "  /* unfitted */\n",
              "  background-color: var(--sklearn-color-unfitted-level-0);\n",
              "}\n",
              "\n",
              "#sk-container-id-2 div.sk-toggleable__content.fitted pre {\n",
              "  /* unfitted */\n",
              "  background-color: var(--sklearn-color-fitted-level-0);\n",
              "}\n",
              "\n",
              "#sk-container-id-2 input.sk-toggleable__control:checked~div.sk-toggleable__content {\n",
              "  /* Expand drop-down */\n",
              "  max-height: 200px;\n",
              "  max-width: 100%;\n",
              "  overflow: auto;\n",
              "}\n",
              "\n",
              "#sk-container-id-2 input.sk-toggleable__control:checked~label.sk-toggleable__label-arrow:before {\n",
              "  content: \"▾\";\n",
              "}\n",
              "\n",
              "/* Pipeline/ColumnTransformer-specific style */\n",
              "\n",
              "#sk-container-id-2 div.sk-label input.sk-toggleable__control:checked~label.sk-toggleable__label {\n",
              "  color: var(--sklearn-color-text);\n",
              "  background-color: var(--sklearn-color-unfitted-level-2);\n",
              "}\n",
              "\n",
              "#sk-container-id-2 div.sk-label.fitted input.sk-toggleable__control:checked~label.sk-toggleable__label {\n",
              "  background-color: var(--sklearn-color-fitted-level-2);\n",
              "}\n",
              "\n",
              "/* Estimator-specific style */\n",
              "\n",
              "/* Colorize estimator box */\n",
              "#sk-container-id-2 div.sk-estimator input.sk-toggleable__control:checked~label.sk-toggleable__label {\n",
              "  /* unfitted */\n",
              "  background-color: var(--sklearn-color-unfitted-level-2);\n",
              "}\n",
              "\n",
              "#sk-container-id-2 div.sk-estimator.fitted input.sk-toggleable__control:checked~label.sk-toggleable__label {\n",
              "  /* fitted */\n",
              "  background-color: var(--sklearn-color-fitted-level-2);\n",
              "}\n",
              "\n",
              "#sk-container-id-2 div.sk-label label.sk-toggleable__label,\n",
              "#sk-container-id-2 div.sk-label label {\n",
              "  /* The background is the default theme color */\n",
              "  color: var(--sklearn-color-text-on-default-background);\n",
              "}\n",
              "\n",
              "/* On hover, darken the color of the background */\n",
              "#sk-container-id-2 div.sk-label:hover label.sk-toggleable__label {\n",
              "  color: var(--sklearn-color-text);\n",
              "  background-color: var(--sklearn-color-unfitted-level-2);\n",
              "}\n",
              "\n",
              "/* Label box, darken color on hover, fitted */\n",
              "#sk-container-id-2 div.sk-label.fitted:hover label.sk-toggleable__label.fitted {\n",
              "  color: var(--sklearn-color-text);\n",
              "  background-color: var(--sklearn-color-fitted-level-2);\n",
              "}\n",
              "\n",
              "/* Estimator label */\n",
              "\n",
              "#sk-container-id-2 div.sk-label label {\n",
              "  font-family: monospace;\n",
              "  font-weight: bold;\n",
              "  display: inline-block;\n",
              "  line-height: 1.2em;\n",
              "}\n",
              "\n",
              "#sk-container-id-2 div.sk-label-container {\n",
              "  text-align: center;\n",
              "}\n",
              "\n",
              "/* Estimator-specific */\n",
              "#sk-container-id-2 div.sk-estimator {\n",
              "  font-family: monospace;\n",
              "  border: 1px dotted var(--sklearn-color-border-box);\n",
              "  border-radius: 0.25em;\n",
              "  box-sizing: border-box;\n",
              "  margin-bottom: 0.5em;\n",
              "  /* unfitted */\n",
              "  background-color: var(--sklearn-color-unfitted-level-0);\n",
              "}\n",
              "\n",
              "#sk-container-id-2 div.sk-estimator.fitted {\n",
              "  /* fitted */\n",
              "  background-color: var(--sklearn-color-fitted-level-0);\n",
              "}\n",
              "\n",
              "/* on hover */\n",
              "#sk-container-id-2 div.sk-estimator:hover {\n",
              "  /* unfitted */\n",
              "  background-color: var(--sklearn-color-unfitted-level-2);\n",
              "}\n",
              "\n",
              "#sk-container-id-2 div.sk-estimator.fitted:hover {\n",
              "  /* fitted */\n",
              "  background-color: var(--sklearn-color-fitted-level-2);\n",
              "}\n",
              "\n",
              "/* Specification for estimator info (e.g. \"i\" and \"?\") */\n",
              "\n",
              "/* Common style for \"i\" and \"?\" */\n",
              "\n",
              ".sk-estimator-doc-link,\n",
              "a:link.sk-estimator-doc-link,\n",
              "a:visited.sk-estimator-doc-link {\n",
              "  float: right;\n",
              "  font-size: smaller;\n",
              "  line-height: 1em;\n",
              "  font-family: monospace;\n",
              "  background-color: var(--sklearn-color-background);\n",
              "  border-radius: 1em;\n",
              "  height: 1em;\n",
              "  width: 1em;\n",
              "  text-decoration: none !important;\n",
              "  margin-left: 0.5em;\n",
              "  text-align: center;\n",
              "  /* unfitted */\n",
              "  border: var(--sklearn-color-unfitted-level-1) 1pt solid;\n",
              "  color: var(--sklearn-color-unfitted-level-1);\n",
              "}\n",
              "\n",
              ".sk-estimator-doc-link.fitted,\n",
              "a:link.sk-estimator-doc-link.fitted,\n",
              "a:visited.sk-estimator-doc-link.fitted {\n",
              "  /* fitted */\n",
              "  border: var(--sklearn-color-fitted-level-1) 1pt solid;\n",
              "  color: var(--sklearn-color-fitted-level-1);\n",
              "}\n",
              "\n",
              "/* On hover */\n",
              "div.sk-estimator:hover .sk-estimator-doc-link:hover,\n",
              ".sk-estimator-doc-link:hover,\n",
              "div.sk-label-container:hover .sk-estimator-doc-link:hover,\n",
              ".sk-estimator-doc-link:hover {\n",
              "  /* unfitted */\n",
              "  background-color: var(--sklearn-color-unfitted-level-3);\n",
              "  color: var(--sklearn-color-background);\n",
              "  text-decoration: none;\n",
              "}\n",
              "\n",
              "div.sk-estimator.fitted:hover .sk-estimator-doc-link.fitted:hover,\n",
              ".sk-estimator-doc-link.fitted:hover,\n",
              "div.sk-label-container:hover .sk-estimator-doc-link.fitted:hover,\n",
              ".sk-estimator-doc-link.fitted:hover {\n",
              "  /* fitted */\n",
              "  background-color: var(--sklearn-color-fitted-level-3);\n",
              "  color: var(--sklearn-color-background);\n",
              "  text-decoration: none;\n",
              "}\n",
              "\n",
              "/* Span, style for the box shown on hovering the info icon */\n",
              ".sk-estimator-doc-link span {\n",
              "  display: none;\n",
              "  z-index: 9999;\n",
              "  position: relative;\n",
              "  font-weight: normal;\n",
              "  right: .2ex;\n",
              "  padding: .5ex;\n",
              "  margin: .5ex;\n",
              "  width: min-content;\n",
              "  min-width: 20ex;\n",
              "  max-width: 50ex;\n",
              "  color: var(--sklearn-color-text);\n",
              "  box-shadow: 2pt 2pt 4pt #999;\n",
              "  /* unfitted */\n",
              "  background: var(--sklearn-color-unfitted-level-0);\n",
              "  border: .5pt solid var(--sklearn-color-unfitted-level-3);\n",
              "}\n",
              "\n",
              ".sk-estimator-doc-link.fitted span {\n",
              "  /* fitted */\n",
              "  background: var(--sklearn-color-fitted-level-0);\n",
              "  border: var(--sklearn-color-fitted-level-3);\n",
              "}\n",
              "\n",
              ".sk-estimator-doc-link:hover span {\n",
              "  display: block;\n",
              "}\n",
              "\n",
              "/* \"?\"-specific style due to the `<a>` HTML tag */\n",
              "\n",
              "#sk-container-id-2 a.estimator_doc_link {\n",
              "  float: right;\n",
              "  font-size: 1rem;\n",
              "  line-height: 1em;\n",
              "  font-family: monospace;\n",
              "  background-color: var(--sklearn-color-background);\n",
              "  border-radius: 1rem;\n",
              "  height: 1rem;\n",
              "  width: 1rem;\n",
              "  text-decoration: none;\n",
              "  /* unfitted */\n",
              "  color: var(--sklearn-color-unfitted-level-1);\n",
              "  border: var(--sklearn-color-unfitted-level-1) 1pt solid;\n",
              "}\n",
              "\n",
              "#sk-container-id-2 a.estimator_doc_link.fitted {\n",
              "  /* fitted */\n",
              "  border: var(--sklearn-color-fitted-level-1) 1pt solid;\n",
              "  color: var(--sklearn-color-fitted-level-1);\n",
              "}\n",
              "\n",
              "/* On hover */\n",
              "#sk-container-id-2 a.estimator_doc_link:hover {\n",
              "  /* unfitted */\n",
              "  background-color: var(--sklearn-color-unfitted-level-3);\n",
              "  color: var(--sklearn-color-background);\n",
              "  text-decoration: none;\n",
              "}\n",
              "\n",
              "#sk-container-id-2 a.estimator_doc_link.fitted:hover {\n",
              "  /* fitted */\n",
              "  background-color: var(--sklearn-color-fitted-level-3);\n",
              "}\n",
              "</style><div id=\"sk-container-id-2\" class=\"sk-top-container\"><div class=\"sk-text-repr-fallback\"><pre>LinearRegression()</pre><b>In a Jupyter environment, please rerun this cell to show the HTML representation or trust the notebook. <br />On GitHub, the HTML representation is unable to render, please try loading this page with nbviewer.org.</b></div><div class=\"sk-container\" hidden><div class=\"sk-item\"><div class=\"sk-estimator fitted sk-toggleable\"><input class=\"sk-toggleable__control sk-hidden--visually\" id=\"sk-estimator-id-2\" type=\"checkbox\" checked><label for=\"sk-estimator-id-2\" class=\"sk-toggleable__label fitted sk-toggleable__label-arrow\"><div><div>LinearRegression</div></div><div><a class=\"sk-estimator-doc-link fitted\" rel=\"noreferrer\" target=\"_blank\" href=\"https://scikit-learn.org/1.6/modules/generated/sklearn.linear_model.LinearRegression.html\">?<span>Documentation for LinearRegression</span></a><span class=\"sk-estimator-doc-link fitted\">i<span>Fitted</span></span></div></label><div class=\"sk-toggleable__content fitted\"><pre>LinearRegression()</pre></div> </div></div></div></div>"
            ],
            "text/plain": [
              "LinearRegression()"
            ]
          },
          "execution_count": 55,
          "metadata": {},
          "output_type": "execute_result"
        }
      ],
      "source": [
        "# Initialize and train the model\n",
        "lr_model = LinearRegression()\n",
        "lr_model.fit(X_train, y_train)"
      ]
    },
    {
      "cell_type": "code",
      "execution_count": 56,
      "metadata": {},
      "outputs": [
        {
          "name": "stdout",
          "output_type": "stream",
          "text": [
            "Regression RMSE: 0.0809\n"
          ]
        }
      ],
      "source": [
        "# Predict on test set\n",
        "y_pred = lr_model.predict(X_test)\n",
        "\n",
        "# Evaluate performance\n",
        "rmse = root_mean_squared_error(y_test, y_pred)\n",
        "print(f\"Regression RMSE: {rmse:.4f}\")"
      ]
    },
    {
      "cell_type": "code",
      "execution_count": 57,
      "metadata": {},
      "outputs": [
        {
          "data": {
            "text/html": [
              "<div>\n",
              "<style scoped>\n",
              "    .dataframe tbody tr th:only-of-type {\n",
              "        vertical-align: middle;\n",
              "    }\n",
              "\n",
              "    .dataframe tbody tr th {\n",
              "        vertical-align: top;\n",
              "    }\n",
              "\n",
              "    .dataframe thead th {\n",
              "        text-align: right;\n",
              "    }\n",
              "</style>\n",
              "<table border=\"1\" class=\"dataframe\">\n",
              "  <thead>\n",
              "    <tr style=\"text-align: right;\">\n",
              "      <th></th>\n",
              "      <th>Actual</th>\n",
              "      <th>Predicted</th>\n",
              "    </tr>\n",
              "  </thead>\n",
              "  <tbody>\n",
              "    <tr>\n",
              "      <th>73554</th>\n",
              "      <td>10.078344</td>\n",
              "      <td>10.101333</td>\n",
              "    </tr>\n",
              "    <tr>\n",
              "      <th>140000</th>\n",
              "      <td>10.262311</td>\n",
              "      <td>10.178174</td>\n",
              "    </tr>\n",
              "    <tr>\n",
              "      <th>78039</th>\n",
              "      <td>10.278650</td>\n",
              "      <td>10.353642</td>\n",
              "    </tr>\n",
              "    <tr>\n",
              "      <th>68565</th>\n",
              "      <td>10.516511</td>\n",
              "      <td>10.399328</td>\n",
              "    </tr>\n",
              "    <tr>\n",
              "      <th>4904</th>\n",
              "      <td>10.272160</td>\n",
              "      <td>10.367350</td>\n",
              "    </tr>\n",
              "  </tbody>\n",
              "</table>\n",
              "</div>"
            ],
            "text/plain": [
              "           Actual  Predicted\n",
              "73554   10.078344  10.101333\n",
              "140000  10.262311  10.178174\n",
              "78039   10.278650  10.353642\n",
              "68565   10.516511  10.399328\n",
              "4904    10.272160  10.367350"
            ]
          },
          "execution_count": 57,
          "metadata": {},
          "output_type": "execute_result"
        }
      ],
      "source": [
        "pred_val_df = pd.DataFrame({'Actual': y_test, 'Predicted': y_pred})\n",
        "pred_val_df.head()"
      ]
    },
    {
      "cell_type": "code",
      "execution_count": 58,
      "metadata": {},
      "outputs": [],
      "source": [
        "import catboost\n",
        "from catboost import CatBoostRegressor"
      ]
    },
    {
      "cell_type": "code",
      "execution_count": 59,
      "metadata": {},
      "outputs": [
        {
          "data": {
            "text/plain": [
              "<catboost.core.CatBoostRegressor at 0x24132510d70>"
            ]
          },
          "execution_count": 59,
          "metadata": {},
          "output_type": "execute_result"
        }
      ],
      "source": [
        "# Initialize CatBoost model\n",
        "cat_model = CatBoostRegressor(iterations=100, learning_rate=0.1, depth=6, verbose=0)\n",
        "\n",
        "# Train the model\n",
        "cat_model.fit(X_train, y_train)"
      ]
    },
    {
      "cell_type": "code",
      "execution_count": 60,
      "metadata": {},
      "outputs": [
        {
          "name": "stdout",
          "output_type": "stream",
          "text": [
            "CatBoost Regression RMSE: 0.0379\n"
          ]
        }
      ],
      "source": [
        "# Predict\n",
        "y_pred = cat_model.predict(X_test)\n",
        "\n",
        "# Evaluate with RMSE\n",
        "rmse_cat = root_mean_squared_error(y_test, y_pred)\n",
        "print(f\"CatBoost Regression RMSE: {rmse_cat:.4f}\")"
      ]
    },
    {
      "cell_type": "code",
      "execution_count": 61,
      "metadata": {},
      "outputs": [
        {
          "data": {
            "text/html": [
              "<div>\n",
              "<style scoped>\n",
              "    .dataframe tbody tr th:only-of-type {\n",
              "        vertical-align: middle;\n",
              "    }\n",
              "\n",
              "    .dataframe tbody tr th {\n",
              "        vertical-align: top;\n",
              "    }\n",
              "\n",
              "    .dataframe thead th {\n",
              "        text-align: right;\n",
              "    }\n",
              "</style>\n",
              "<table border=\"1\" class=\"dataframe\">\n",
              "  <thead>\n",
              "    <tr style=\"text-align: right;\">\n",
              "      <th></th>\n",
              "      <th>Actual</th>\n",
              "      <th>Predicted</th>\n",
              "    </tr>\n",
              "  </thead>\n",
              "  <tbody>\n",
              "    <tr>\n",
              "      <th>73554</th>\n",
              "      <td>10.078344</td>\n",
              "      <td>10.089168</td>\n",
              "    </tr>\n",
              "    <tr>\n",
              "      <th>140000</th>\n",
              "      <td>10.262311</td>\n",
              "      <td>10.246979</td>\n",
              "    </tr>\n",
              "    <tr>\n",
              "      <th>78039</th>\n",
              "      <td>10.278650</td>\n",
              "      <td>10.316564</td>\n",
              "    </tr>\n",
              "    <tr>\n",
              "      <th>68565</th>\n",
              "      <td>10.516511</td>\n",
              "      <td>10.467740</td>\n",
              "    </tr>\n",
              "    <tr>\n",
              "      <th>4904</th>\n",
              "      <td>10.272160</td>\n",
              "      <td>10.225871</td>\n",
              "    </tr>\n",
              "  </tbody>\n",
              "</table>\n",
              "</div>"
            ],
            "text/plain": [
              "           Actual  Predicted\n",
              "73554   10.078344  10.089168\n",
              "140000  10.262311  10.246979\n",
              "78039   10.278650  10.316564\n",
              "68565   10.516511  10.467740\n",
              "4904    10.272160  10.225871"
            ]
          },
          "execution_count": 61,
          "metadata": {},
          "output_type": "execute_result"
        }
      ],
      "source": [
        "pred_val_df = pd.DataFrame({'Actual': y_test, 'Predicted': y_pred})\n",
        "pred_val_df.head()"
      ]
    },
    {
      "cell_type": "code",
      "execution_count": null,
      "metadata": {
        "id": "hNySjn_kvcX1"
      },
      "outputs": [],
      "source": [
        "# 7. Retrain on full dataset and prepare test submission\n",
        "# (Assumes you have test_run_df & test_meas_df)\n",
        "# test_sensor = (\n",
        "#     test_run_df\n",
        "#       .groupby([\"RunId\",\"SensorName\"])[\"SensorValue\"]\n",
        "#       .agg(agg_funcs)\n",
        "#       .unstack(fill_value=0)\n",
        "# )\n",
        "# test_sensor.columns = [f\"{s}_{st}\" for s, st in test_sensor.columns]\n",
        "# test_sensor.reset_index(inplace=True)\n",
        "# test_life = test_run_df.groupby(\"RunId\")[\"ConsumableLife\"].max().reset_index()\n",
        "# test_feat = test_sensor.merge(test_life, on=\"RunId\")\n",
        "# test_df = test_meas_df.merge(test_feat, on=\"RunId\", how=\"left\")\n",
        "#\n",
        "# # retrain on all\n",
        "# full_model = best_model.fit(X, y)\n",
        "# test_pred   = full_model.predict(test_df.drop(columns=[\"RunId\",\"X\",\"Y\"]))\n",
        "#\n",
        "# submission = test_df[[\"RunId\",\"X\",\"Y\"]].copy()\n",
        "# submission[\"Measurement\"] = test_pred\n",
        "# submission.to_csv(\"submission.csv\", index=False)"
      ]
    },
    {
      "cell_type": "code",
      "execution_count": null,
      "metadata": {
        "id": "JMV1x1ssvcak"
      },
      "outputs": [],
      "source": []
    },
    {
      "cell_type": "code",
      "execution_count": null,
      "metadata": {
        "id": "HTTNyE-GvcdL"
      },
      "outputs": [],
      "source": []
    },
    {
      "cell_type": "code",
      "execution_count": null,
      "metadata": {
        "id": "r1y3BNW6vch9"
      },
      "outputs": [],
      "source": []
    }
  ],
  "metadata": {
    "colab": {
      "provenance": []
    },
    "kernelspec": {
      "display_name": "base",
      "language": "python",
      "name": "python3"
    },
    "language_info": {
      "codemirror_mode": {
        "name": "ipython",
        "version": 3
      },
      "file_extension": ".py",
      "mimetype": "text/x-python",
      "name": "python",
      "nbconvert_exporter": "python",
      "pygments_lexer": "ipython3",
      "version": "3.12.8"
    }
  },
  "nbformat": 4,
  "nbformat_minor": 0
}
